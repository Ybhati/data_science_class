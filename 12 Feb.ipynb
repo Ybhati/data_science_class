{
 "cells": [
  {
   "cell_type": "code",
   "execution_count": null,
   "id": "3060e9f0",
   "metadata": {},
   "outputs": [],
   "source": [
    "#SETS\n",
    "roll_numbers = set()"
   ]
  },
  {
   "cell_type": "code",
   "execution_count": null,
   "id": "981b8e57",
   "metadata": {},
   "outputs": [],
   "source": [
    "type(roll_numbers)"
   ]
  },
  {
   "cell_type": "code",
   "execution_count": null,
   "id": "18680ffc",
   "metadata": {},
   "outputs": [],
   "source": [
    "roll_numbers.add(1)\n",
    "roll_numbers"
   ]
  },
  {
   "cell_type": "code",
   "execution_count": null,
   "id": "d82a9c5f",
   "metadata": {},
   "outputs": [],
   "source": [
    "roll_numbers.add(2)\n",
    "roll_numbers"
   ]
  },
  {
   "cell_type": "code",
   "execution_count": null,
   "id": "f99cd280",
   "metadata": {},
   "outputs": [],
   "source": [
    "roll_numbers.add(1)\n",
    "roll_numbers"
   ]
  },
  {
   "cell_type": "code",
   "execution_count": null,
   "id": "b132333f",
   "metadata": {},
   "outputs": [],
   "source": [
    "remove_dups = [8,5,6,9,1,1,2,2,3,4,5,6,1,1]\n",
    "set(remove_dups)"
   ]
  },
  {
   "cell_type": "code",
   "execution_count": null,
   "id": "963d14d5",
   "metadata": {},
   "outputs": [],
   "source": [
    "my_dict = {'key1':'value1','key2':'value2'}\n",
    "my_dict"
   ]
  },
  {
   "cell_type": "code",
   "execution_count": null,
   "id": "0658cf43",
   "metadata": {},
   "outputs": [],
   "source": [
    "my_dict['key2']"
   ]
  },
  {
   "cell_type": "code",
   "execution_count": null,
   "id": "35efb830",
   "metadata": {},
   "outputs": [],
   "source": [
    "my_dict = {'Roll_number':123,'Marks':[12,23,33],'Subject':['Computer','Science','Maths']}\n",
    "my_dict['Subject']"
   ]
  },
  {
   "cell_type": "code",
   "execution_count": null,
   "id": "dd54ada6",
   "metadata": {},
   "outputs": [],
   "source": [
    "my_dict['Subject'][2]"
   ]
  },
  {
   "cell_type": "code",
   "execution_count": null,
   "id": "cc53cc5f",
   "metadata": {},
   "outputs": [],
   "source": [
    "my_dict['Subject'][0].upper()"
   ]
  },
  {
   "cell_type": "code",
   "execution_count": null,
   "id": "c1fa6c1b",
   "metadata": {},
   "outputs": [],
   "source": [
    "my_dict['Marks'][0] = my_dict['Marks'][0] +30\n",
    "my_dict"
   ]
  },
  {
   "cell_type": "code",
   "execution_count": null,
   "id": "a33748ad",
   "metadata": {},
   "outputs": [],
   "source": [
    "my_dict['Marks'][2] += 20\n",
    "my_dict"
   ]
  },
  {
   "cell_type": "code",
   "execution_count": null,
   "id": "c2db99ae",
   "metadata": {},
   "outputs": [],
   "source": [
    "my_dict['Marks'][2] -= 3\n",
    "my_dict"
   ]
  },
  {
   "cell_type": "code",
   "execution_count": null,
   "id": "ac273577",
   "metadata": {},
   "outputs": [],
   "source": [
    "my_dict['Year'] = '3rd'\n",
    "my_dict"
   ]
  },
  {
   "cell_type": "code",
   "execution_count": null,
   "id": "cb04cff0",
   "metadata": {},
   "outputs": [],
   "source": [
    "my_dict.update({'Roll_number': 100})\n",
    "my_dict"
   ]
  },
  {
   "cell_type": "code",
   "execution_count": null,
   "id": "403d78f2",
   "metadata": {},
   "outputs": [],
   "source": [
    "i = 8\n",
    "if i < 10:\n",
    "    print('it is less than 10')\n",
    "else:\n",
    "    print('it is something else')"
   ]
  },
  {
   "cell_type": "code",
   "execution_count": null,
   "id": "8550c5c0",
   "metadata": {},
   "outputs": [],
   "source": [
    "item_1 = 200\n",
    "item_2 = 200\n",
    "if(item_1 + item_2) >= 500:\n",
    "    print('your item are elgible for free shipping')\n",
    "else:\n",
    "    extra = 500 - (item_1 + item_2)\n",
    "    print('Please add ' , extra ,'RS FOR FREE SHIPPING')"
   ]
  },
  {
   "cell_type": "code",
   "execution_count": null,
   "id": "44462301",
   "metadata": {},
   "outputs": [],
   "source": [
    "a =200\n",
    "b = 33\n",
    "c=500\n",
    "if a>b and c<a:\n",
    "    print('Both condition are true')\n",
    "else:\n",
    "    print('Both are not true')"
   ]
  },
  {
   "cell_type": "code",
   "execution_count": null,
   "id": "fac977bc",
   "metadata": {},
   "outputs": [],
   "source": [
    "a =200\n",
    "b = 33\n",
    "c=500\n",
    "if a>b or c<a:\n",
    "    print('atlest one condition is  true')\n"
   ]
  },
  {
   "cell_type": "code",
   "execution_count": null,
   "id": "015829e5",
   "metadata": {},
   "outputs": [],
   "source": []
  },
  {
   "cell_type": "code",
   "execution_count": null,
   "id": "ecef0fac",
   "metadata": {},
   "outputs": [],
   "source": []
  }
 ],
 "metadata": {
  "kernelspec": {
   "display_name": "Python 3 (ipykernel)",
   "language": "python",
   "name": "python3"
  },
  "language_info": {
   "codemirror_mode": {
    "name": "ipython",
    "version": 3
   },
   "file_extension": ".py",
   "mimetype": "text/x-python",
   "name": "python",
   "nbconvert_exporter": "python",
   "pygments_lexer": "ipython3",
   "version": "3.9.7"
  }
 },
 "nbformat": 4,
 "nbformat_minor": 5
}
