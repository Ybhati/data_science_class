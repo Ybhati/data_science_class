{
 "cells": [
  {
   "cell_type": "code",
   "execution_count": 1,
   "id": "327f1d59",
   "metadata": {},
   "outputs": [],
   "source": [
    "#MAPS- the map() is a function that takes in two arguments map(function,data)\n",
    "def grace_marks(marks):\n",
    "    if marks == 30:\n",
    "        return (marks + 5)\n",
    "    elif marks == 31:\n",
    "        return (marks + 4)\n",
    "    elif marks == 32:\n",
    "        return (marks + 3)\n",
    "    elif marks == 33:\n",
    "        return (marks + 2)\n",
    "    elif marks == 34:\n",
    "        return (marks + 1)\n",
    "    else:\n",
    "        return marks"
   ]
  },
  {
   "cell_type": "code",
   "execution_count": 2,
   "id": "dfe195bf",
   "metadata": {},
   "outputs": [],
   "source": [
    "score = [45,50,30,60,32,30,32,33,31,35]"
   ]
  },
  {
   "cell_type": "code",
   "execution_count": 3,
   "id": "31dcad7c",
   "metadata": {},
   "outputs": [
    {
     "name": "stdout",
     "output_type": "stream",
     "text": [
      "[45, 50, 35, 60, 35, 35, 35, 35, 35, 35]\n"
     ]
    }
   ],
   "source": [
    "total = list(map(grace_marks,score))\n",
    "print(total)"
   ]
  },
  {
   "cell_type": "code",
   "execution_count": 4,
   "id": "b945aa69",
   "metadata": {},
   "outputs": [
    {
     "data": {
      "text/plain": [
       "7"
      ]
     },
     "execution_count": 4,
     "metadata": {},
     "output_type": "execute_result"
    }
   ],
   "source": [
    "total.count(35)"
   ]
  },
  {
   "cell_type": "code",
   "execution_count": 5,
   "id": "d6f568df",
   "metadata": {},
   "outputs": [],
   "source": [
    "def filter_marks(marks):\n",
    "    if marks <35:\n",
    "        return marks"
   ]
  },
  {
   "cell_type": "code",
   "execution_count": 6,
   "id": "c68fbb7d",
   "metadata": {},
   "outputs": [],
   "source": [
    "score = [45,50,30,60,32,30,32,33,31,35]"
   ]
  },
  {
   "cell_type": "code",
   "execution_count": 7,
   "id": "d0a595d5",
   "metadata": {},
   "outputs": [
    {
     "data": {
      "text/plain": [
       "[30, 32, 30, 32, 33, 31]"
      ]
     },
     "execution_count": 7,
     "metadata": {},
     "output_type": "execute_result"
    }
   ],
   "source": [
    "failed = list(filter(filter_marks,score))\n",
    "failed"
   ]
  },
  {
   "cell_type": "code",
   "execution_count": 8,
   "id": "4819c99c",
   "metadata": {},
   "outputs": [
    {
     "data": {
      "text/plain": [
       "[True, False, True, False, True]"
      ]
     },
     "execution_count": 8,
     "metadata": {},
     "output_type": "execute_result"
    }
   ],
   "source": [
    "#using lambda function\n",
    "list(map(lambda var: var%2 == 0, range(5)))"
   ]
  },
  {
   "cell_type": "code",
   "execution_count": 9,
   "id": "4301ca22",
   "metadata": {},
   "outputs": [
    {
     "data": {
      "text/plain": [
       "[0, 2, 4]"
      ]
     },
     "execution_count": 9,
     "metadata": {},
     "output_type": "execute_result"
    }
   ],
   "source": [
    "list(filter(lambda var: var%2 == 0, range(5)))"
   ]
  },
  {
   "cell_type": "code",
   "execution_count": 10,
   "id": "ed415304",
   "metadata": {},
   "outputs": [
    {
     "name": "stdout",
     "output_type": "stream",
     "text": [
      "<function tot_score_glob at 0x00000289E3DF3160>\n"
     ]
    }
   ],
   "source": [
    "\n",
    "extra_marks = 10\n",
    "\n",
    "def tot_score_glob():\n",
    "    print(\"printing inside the function and total is \", 35 + extra_marks)\n",
    "    \n",
    "print(tot_score_glob)"
   ]
  },
  {
   "cell_type": "code",
   "execution_count": 11,
   "id": "e6d06db2",
   "metadata": {},
   "outputs": [
    {
     "name": "stdout",
     "output_type": "stream",
     "text": [
      "printing inside the function and total is  45\n"
     ]
    }
   ],
   "source": [
    "extra_marks = 10\n",
    "\n",
    "def tot_score_glob():\n",
    "    print(\"printing inside the function and total is \", 35 + extra_marks)\n",
    "    \n",
    "tot_score_glob()"
   ]
  },
  {
   "cell_type": "code",
   "execution_count": 12,
   "id": "a261cf03",
   "metadata": {},
   "outputs": [
    {
     "name": "stdout",
     "output_type": "stream",
     "text": [
      "printing inside the function and total is  45\n"
     ]
    }
   ],
   "source": [
    "print(\"printing inside the function and total is \", 35 + extra_marks)"
   ]
  },
  {
   "cell_type": "code",
   "execution_count": 13,
   "id": "aab73dec",
   "metadata": {},
   "outputs": [],
   "source": [
    "#local variable"
   ]
  },
  {
   "cell_type": "code",
   "execution_count": 14,
   "id": "57e49f95",
   "metadata": {},
   "outputs": [
    {
     "name": "stdout",
     "output_type": "stream",
     "text": [
      "printing inside the function and total is  100\n"
     ]
    }
   ],
   "source": [
    "def tot_score_loc():\n",
    "    some_marks = 50\n",
    "    print(\"printing inside the function and total is \", 50 + some_marks)\n",
    "    \n",
    "tot_score_loc()"
   ]
  },
  {
   "cell_type": "code",
   "execution_count": 15,
   "id": "c55d1358",
   "metadata": {},
   "outputs": [
    {
     "ename": "NameError",
     "evalue": "name 'some_marks' is not defined",
     "output_type": "error",
     "traceback": [
      "\u001b[1;31m---------------------------------------------------------------------------\u001b[0m",
      "\u001b[1;31mNameError\u001b[0m                                 Traceback (most recent call last)",
      "\u001b[1;32m~\\AppData\\Local\\Temp/ipykernel_24020/2875187645.py\u001b[0m in \u001b[0;36m<module>\u001b[1;34m\u001b[0m\n\u001b[1;32m----> 1\u001b[1;33m \u001b[0mprint\u001b[0m\u001b[1;33m(\u001b[0m\u001b[1;34m\"printing inside the function and total is \"\u001b[0m\u001b[1;33m,\u001b[0m \u001b[1;36m50\u001b[0m \u001b[1;33m+\u001b[0m \u001b[0msome_marks\u001b[0m\u001b[1;33m)\u001b[0m\u001b[1;33m\u001b[0m\u001b[1;33m\u001b[0m\u001b[0m\n\u001b[0m",
      "\u001b[1;31mNameError\u001b[0m: name 'some_marks' is not defined"
     ]
    }
   ],
   "source": [
    "print(\"printing inside the function and total is \", 50 + some_marks)"
   ]
  },
  {
   "cell_type": "code",
   "execution_count": 16,
   "id": "2489f532",
   "metadata": {},
   "outputs": [],
   "source": [
    "#we gonna go experiment on local to global\n"
   ]
  },
  {
   "cell_type": "code",
   "execution_count": 17,
   "id": "6eaaefd2",
   "metadata": {},
   "outputs": [
    {
     "name": "stdout",
     "output_type": "stream",
     "text": [
      "printing inside the function and total is  100\n"
     ]
    }
   ],
   "source": [
    "def tot_score_loc():\n",
    "    global some_marks\n",
    "    some_marks = 50\n",
    "    print(\"printing inside the function and total is \", 50 + some_marks)\n",
    "    \n",
    "tot_score_loc()"
   ]
  },
  {
   "cell_type": "code",
   "execution_count": 18,
   "id": "8497435b",
   "metadata": {},
   "outputs": [
    {
     "name": "stdout",
     "output_type": "stream",
     "text": [
      "printing inside the function and total is  100\n"
     ]
    }
   ],
   "source": [
    "print(\"printing inside the function and total is \", 50 + some_marks)"
   ]
  },
  {
   "cell_type": "code",
   "execution_count": 19,
   "id": "fb64258d",
   "metadata": {},
   "outputs": [
    {
     "name": "stdout",
     "output_type": "stream",
     "text": [
      "This is fantastic\n"
     ]
    }
   ],
   "source": [
    "def local_global():\n",
    "    var20 = \"This is fantastic\"\n",
    "    print(var20)\n",
    "local_global()"
   ]
  },
  {
   "cell_type": "code",
   "execution_count": 20,
   "id": "495e24bc",
   "metadata": {},
   "outputs": [
    {
     "ename": "NameError",
     "evalue": "name 'var20' is not defined",
     "output_type": "error",
     "traceback": [
      "\u001b[1;31m---------------------------------------------------------------------------\u001b[0m",
      "\u001b[1;31mNameError\u001b[0m                                 Traceback (most recent call last)",
      "\u001b[1;32m~\\AppData\\Local\\Temp/ipykernel_24020/61939143.py\u001b[0m in \u001b[0;36m<module>\u001b[1;34m\u001b[0m\n\u001b[1;32m----> 1\u001b[1;33m \u001b[0mprint\u001b[0m\u001b[1;33m(\u001b[0m\u001b[0mvar20\u001b[0m\u001b[1;33m)\u001b[0m\u001b[1;33m\u001b[0m\u001b[1;33m\u001b[0m\u001b[0m\n\u001b[0m",
      "\u001b[1;31mNameError\u001b[0m: name 'var20' is not defined"
     ]
    }
   ],
   "source": [
    "print(var20)"
   ]
  },
  {
   "cell_type": "code",
   "execution_count": 21,
   "id": "f1d0ccd2",
   "metadata": {},
   "outputs": [
    {
     "name": "stdout",
     "output_type": "stream",
     "text": [
      "This is fantastic\n"
     ]
    }
   ],
   "source": [
    "def local_global():\n",
    "    global var20\n",
    "    var20 = \"This is fantastic\"\n",
    "    print(var20)\n",
    "local_global()"
   ]
  },
  {
   "cell_type": "code",
   "execution_count": 22,
   "id": "6084e9b2",
   "metadata": {},
   "outputs": [
    {
     "name": "stdout",
     "output_type": "stream",
     "text": [
      "This is fantastic\n"
     ]
    }
   ],
   "source": [
    "print(var20)"
   ]
  },
  {
   "cell_type": "code",
   "execution_count": null,
   "id": "a57df928",
   "metadata": {},
   "outputs": [],
   "source": [
    "#input keyboard"
   ]
  },
  {
   "cell_type": "code",
   "execution_count": 23,
   "id": "4b496746",
   "metadata": {},
   "outputs": [
    {
     "name": "stdout",
     "output_type": "stream",
     "text": [
      "enter your nameYogesh Bhati\n",
      "User entered;  Yogesh Bhati\n"
     ]
    }
   ],
   "source": [
    "name = input(\"enter your name\")\n",
    "print('User entered; ',name)"
   ]
  },
  {
   "cell_type": "code",
   "execution_count": 24,
   "id": "0e3b1587",
   "metadata": {},
   "outputs": [
    {
     "name": "stdout",
     "output_type": "stream",
     "text": [
      "Enter maths score 55\n",
      "Enter Science score55\n",
      "Your Total Marks:  110\n"
     ]
    }
   ],
   "source": [
    "maths = int(input('Enter maths score '))\n",
    "science = int(input('Enter Science score'))\n",
    "total_marks = maths + science\n",
    "print('Your Total Marks: ', total_marks)"
   ]
  },
  {
   "cell_type": "code",
   "execution_count": 31,
   "id": "a5210fe6",
   "metadata": {},
   "outputs": [
    {
     "name": "stdout",
     "output_type": "stream",
     "text": [
      "Enter Your Name= vandana patel\n",
      "Enter only Letters\n"
     ]
    }
   ],
   "source": [
    "name = input('Enter Your Name= ')\n",
    "if name.isalpha():\n",
    "    print('You Entered = ', name)\n",
    "else:\n",
    "    print('Enter only Letters')"
   ]
  },
  {
   "cell_type": "code",
   "execution_count": 28,
   "id": "b5a1ea7e",
   "metadata": {},
   "outputs": [
    {
     "name": "stdout",
     "output_type": "stream",
     "text": [
      "Enter your name = Yogesh Bhati\n",
      "Enter only alpha characters\n"
     ]
    }
   ],
   "source": [
    "name = input('Enter your name = ')\n",
    "if name.isalpha():\n",
    "    print('You entered = ', name)\n",
    "else:\n",
    "    print('Enter only alpha characters')"
   ]
  },
  {
   "cell_type": "code",
   "execution_count": 32,
   "id": "11201454",
   "metadata": {},
   "outputs": [],
   "source": [
    "def phone_price(phone_make, phone_age, phone_model_GB):\n",
    "    if phone_make == 'iphone 11':\n",
    "        if 0 < phone_age <= 6:\n",
    "            if phone_model_GB == 64:\n",
    "                print('RS 39k - 41k')\n",
    "            elif phone_model_GB == 128:\n",
    "                print('Rs45k - Rs48k')\n",
    "        if 6 < phone_age <=12:\n",
    "            if phone_model_GB == 64:\n",
    "                print('RS 29k - 31k')\n",
    "            elif phone_model_GB == 128:\n",
    "                print('Rs35k - Rs38k')\n",
    "    elif phone_make == 'samsung B110':\n",
    "        if 0 < phone_age <=6:\n",
    "            print('Rs1k - 2k')\n",
    "        elif phone_age >12:\n",
    "            print('Rs700 - Rs800')\n",
    "    else:\n",
    "        print('No stock right now, please visit after few days')"
   ]
  },
  {
   "cell_type": "code",
   "execution_count": 33,
   "id": "8c19dc8d",
   "metadata": {},
   "outputs": [
    {
     "name": "stdout",
     "output_type": "stream",
     "text": [
      "Enter phone maker - iphone 11\n",
      "Enter how old is your phone in months - 9\n",
      "Enter GB in number - 64\n",
      "RS 29k - 31k\n"
     ]
    }
   ],
   "source": [
    "phone = input('Enter phone maker - ')\n",
    "months_old = int(input('Enter how old is your phone in months - '))\n",
    "capacity = int(input('Enter GB in number - '))\n",
    "phone_price(phone,months_old,capacity)"
   ]
  },
  {
   "cell_type": "code",
   "execution_count": 34,
   "id": "d49b50aa",
   "metadata": {},
   "outputs": [
    {
     "ename": "SyntaxError",
     "evalue": "EOL while scanning string literal (Temp/ipykernel_24020/922442477.py, line 2)",
     "output_type": "error",
     "traceback": [
      "\u001b[1;36m  File \u001b[1;32m\"C:\\Users\\yoges\\AppData\\Local\\Temp/ipykernel_24020/922442477.py\"\u001b[1;36m, line \u001b[1;32m2\u001b[0m\n\u001b[1;33m    print('hello)\u001b[0m\n\u001b[1;37m                 ^\u001b[0m\n\u001b[1;31mSyntaxError\u001b[0m\u001b[1;31m:\u001b[0m EOL while scanning string literal\n"
     ]
    }
   ],
   "source": [
    "#error and exception handling\n",
    "print('hello)"
   ]
  },
  {
   "cell_type": "code",
   "execution_count": 35,
   "id": "07172d13",
   "metadata": {},
   "outputs": [],
   "source": [
    "#try and except\n",
    "marks_1 = 88\n",
    "subject = 'Data Science'\n",
    "marks_2 = 33"
   ]
  },
  {
   "cell_type": "raw",
   "id": "1adc445f",
   "metadata": {},
   "source": []
  },
  {
   "cell_type": "code",
   "execution_count": 37,
   "id": "deadba59",
   "metadata": {},
   "outputs": [
    {
     "name": "stdout",
     "output_type": "stream",
     "text": [
      "You are adding integer to string. Make sure both data types are matching\n"
     ]
    }
   ],
   "source": [
    "try:\n",
    "    total = marks_1 + subject\n",
    "    print('Your Total Marks: ', total)\n",
    "except :\n",
    "    print('You are adding integer to string. Make sure both data types are matching')\n",
    "else:\n",
    "    print('Total marks = ', total)"
   ]
  },
  {
   "cell_type": "code",
   "execution_count": 38,
   "id": "c5ef8f2f",
   "metadata": {},
   "outputs": [
    {
     "name": "stdout",
     "output_type": "stream",
     "text": [
      "Total marks =  121\n"
     ]
    }
   ],
   "source": [
    "try:\n",
    "    total = marks_1 + marks_2\n",
    "    #print('Your Total Marks: ', total)\n",
    "except :\n",
    "    print('You are adding integer to string. Make sure both data types are matching')\n",
    "else:\n",
    "    print('Total marks = ', total)"
   ]
  },
  {
   "cell_type": "code",
   "execution_count": 39,
   "id": "c6a05552",
   "metadata": {},
   "outputs": [
    {
     "name": "stdout",
     "output_type": "stream",
     "text": [
      "hello\n"
     ]
    }
   ],
   "source": [
    "print('hello')"
   ]
  },
  {
   "cell_type": "code",
   "execution_count": null,
   "id": "98187fc6",
   "metadata": {},
   "outputs": [],
   "source": []
  },
  {
   "cell_type": "code",
   "execution_count": null,
   "id": "1483ff76",
   "metadata": {},
   "outputs": [],
   "source": []
  },
  {
   "cell_type": "code",
   "execution_count": null,
   "id": "e27b4925",
   "metadata": {},
   "outputs": [],
   "source": []
  },
  {
   "cell_type": "code",
   "execution_count": null,
   "id": "36972221",
   "metadata": {},
   "outputs": [],
   "source": []
  },
  {
   "cell_type": "code",
   "execution_count": null,
   "id": "664eb8c2",
   "metadata": {},
   "outputs": [],
   "source": []
  }
 ],
 "metadata": {
  "kernelspec": {
   "display_name": "Python 3 (ipykernel)",
   "language": "python",
   "name": "python3"
  },
  "language_info": {
   "codemirror_mode": {
    "name": "ipython",
    "version": 3
   },
   "file_extension": ".py",
   "mimetype": "text/x-python",
   "name": "python",
   "nbconvert_exporter": "python",
   "pygments_lexer": "ipython3",
   "version": "3.9.7"
  }
 },
 "nbformat": 4,
 "nbformat_minor": 5
}
