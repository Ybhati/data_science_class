{
 "cells": [
  {
   "cell_type": "code",
   "execution_count": 1,
   "id": "af0db04d",
   "metadata": {},
   "outputs": [],
   "source": [
    "class Gmail:\n",
    "    pass"
   ]
  },
  {
   "cell_type": "code",
   "execution_count": 3,
   "id": "fc79db71",
   "metadata": {},
   "outputs": [],
   "source": [
    "class Gmail:\n",
    "    def __init__(self, name, last_name, city, user_id, password):\n",
    "        self.name      = name\n",
    "        self.last_name = last_name\n",
    "        self.city      = city\n",
    "        self.user_id   = user_id\n",
    "        self.password  = password\n",
    "    def login(self):\n",
    "        while True:\n",
    "            signin = input('Email- ')\n",
    "            password = input('Password- ')\n",
    "            if signin == self.user_id and password == self.password:\n",
    "                print('Succesfully logged in')\n",
    "                break\n",
    "            else:\n",
    "                print('User ID or Password  is invalid')\n",
    "                continue\n",
    "    def personal_info(self):\n",
    "        print('Name: ', self.name)\n",
    "        print('Last Name: ', self.last_name)\n",
    "        print('City: ', self.city)\n",
    "    def general(self):\n",
    "        print('Language: ', 'English(US)')\n",
    "        print('User ID: ', self.user_id)"
   ]
  },
  {
   "cell_type": "code",
   "execution_count": 4,
   "id": "057f0eff",
   "metadata": {},
   "outputs": [],
   "source": [
    "mail = Gmail('Yogesh','Bhati','Hyderabad','yogesh_bhati','yogesh@1427')"
   ]
  },
  {
   "cell_type": "code",
   "execution_count": 5,
   "id": "5697b571",
   "metadata": {},
   "outputs": [
    {
     "name": "stdout",
     "output_type": "stream",
     "text": [
      "Email- yogesh@1427\n",
      "Password- yogesh_bhati\n",
      "User ID or Password  is invalid\n",
      "Email- yogesh_bhati\n",
      "Password- yogesh@1427\n",
      "Succesfully logged in\n"
     ]
    }
   ],
   "source": [
    "mail.login()"
   ]
  },
  {
   "cell_type": "code",
   "execution_count": 6,
   "id": "5c9eb016",
   "metadata": {},
   "outputs": [
    {
     "name": "stdout",
     "output_type": "stream",
     "text": [
      "Name:  Yogesh\n",
      "Last Name:  Bhati\n",
      "City:  Hyderabad\n"
     ]
    }
   ],
   "source": [
    "mail.personal_info()"
   ]
  },
  {
   "cell_type": "code",
   "execution_count": 7,
   "id": "175245da",
   "metadata": {},
   "outputs": [
    {
     "name": "stdout",
     "output_type": "stream",
     "text": [
      "Language:  English(US)\n",
      "User ID:  yogesh_bhati\n"
     ]
    }
   ],
   "source": [
    "mail.general()"
   ]
  },
  {
   "cell_type": "code",
   "execution_count": 8,
   "id": "ebe1eb5d",
   "metadata": {},
   "outputs": [],
   "source": [
    "\n",
    "class Gmail_new(Gmail):\n",
    "    def __init__(self,phone_number, *args):\n",
    "        super(Gmail_new, self).__init__(*args)\n",
    "        self.phone_number = phone_number\n",
    "        \n",
    "    def password_recovery(self):\n",
    "        phone = int(input('Enter registered phone number '))\n",
    "        if phone ==self.phone_number:\n",
    "            print ('Your password is: ', self.password)\n",
    "        else:\n",
    "            print('Invalid Phone number')"
   ]
  },
  {
   "cell_type": "code",
   "execution_count": 9,
   "id": "320d0802",
   "metadata": {},
   "outputs": [],
   "source": [
    "new_mail = Gmail_new(9182874658,'Yogesh','Bhati','Hyderabad','yogesh_bhati','yogesh@1427')"
   ]
  },
  {
   "cell_type": "code",
   "execution_count": 10,
   "id": "39ef59ab",
   "metadata": {},
   "outputs": [
    {
     "name": "stdout",
     "output_type": "stream",
     "text": [
      "Enter registered phone number 9182874658\n",
      "Your password is:  yogesh@1427\n"
     ]
    }
   ],
   "source": [
    "new_mail.password_recovery()"
   ]
  },
  {
   "cell_type": "code",
   "execution_count": null,
   "id": "fc5d4b34",
   "metadata": {},
   "outputs": [],
   "source": []
  },
  {
   "cell_type": "code",
   "execution_count": null,
   "id": "58ec66d8",
   "metadata": {},
   "outputs": [],
   "source": []
  },
  {
   "cell_type": "code",
   "execution_count": null,
   "id": "1b2dea6a",
   "metadata": {},
   "outputs": [],
   "source": []
  },
  {
   "cell_type": "code",
   "execution_count": null,
   "id": "181d67d1",
   "metadata": {},
   "outputs": [],
   "source": []
  },
  {
   "cell_type": "code",
   "execution_count": null,
   "id": "4ecd5280",
   "metadata": {},
   "outputs": [],
   "source": []
  },
  {
   "cell_type": "code",
   "execution_count": null,
   "id": "311a0bf6",
   "metadata": {},
   "outputs": [],
   "source": []
  },
  {
   "cell_type": "code",
   "execution_count": null,
   "id": "4e01b920",
   "metadata": {},
   "outputs": [],
   "source": []
  },
  {
   "cell_type": "code",
   "execution_count": null,
   "id": "e0fa34f4",
   "metadata": {},
   "outputs": [],
   "source": []
  },
  {
   "cell_type": "code",
   "execution_count": null,
   "id": "c6e55a3a",
   "metadata": {},
   "outputs": [],
   "source": []
  },
  {
   "cell_type": "code",
   "execution_count": null,
   "id": "638821b0",
   "metadata": {},
   "outputs": [],
   "source": []
  }
 ],
 "metadata": {
  "kernelspec": {
   "display_name": "Python 3 (ipykernel)",
   "language": "python",
   "name": "python3"
  },
  "language_info": {
   "codemirror_mode": {
    "name": "ipython",
    "version": 3
   },
   "file_extension": ".py",
   "mimetype": "text/x-python",
   "name": "python",
   "nbconvert_exporter": "python",
   "pygments_lexer": "ipython3",
   "version": "3.9.7"
  }
 },
 "nbformat": 4,
 "nbformat_minor": 5
}
