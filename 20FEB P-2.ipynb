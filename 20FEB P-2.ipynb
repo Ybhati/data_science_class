{
 "cells": [
  {
   "cell_type": "code",
   "execution_count": 1,
   "id": "5df228d1",
   "metadata": {},
   "outputs": [
    {
     "name": "stdout",
     "output_type": "stream",
     "text": [
      "Your Car  Number bergerh\n",
      "Name hrhbr\n",
      "Mobile_number6484849646\n",
      "Thanks for all details\n"
     ]
    }
   ],
   "source": [
    "try:\n",
    "    Car_number = input('Your Car  Number ')\n",
    "    name = input('Name ')\n",
    "    mobile = input('Mobile_number')\n",
    "    if Car_number == ' ':\n",
    "        raise Exception()\n",
    "    elif name == ' ':\n",
    "        raise Exception()\n",
    "    elif mobile == ' ':\n",
    "        raise Exception()\n",
    "    else:\n",
    "        pass\n",
    "except:\n",
    "    if Car_number == ' ':\n",
    "        print('\\n The registration number field is required. \\n')\n",
    "    if name == ' ':\n",
    "        print('The Customer name field is required. \\n')\n",
    "    if mobile == ' ':\n",
    "        print('The mobile number field is required.')\n",
    "else:\n",
    "    print('Thanks for all details')"
   ]
  },
  {
   "cell_type": "code",
   "execution_count": 2,
   "id": "8ab56bad",
   "metadata": {},
   "outputs": [
    {
     "name": "stdout",
     "output_type": "stream",
     "text": [
      "Your Car  Number erger\n",
      "Name hehbre\n",
      "Mobile_number644\n",
      "Thanks for all details\n",
      "in any case finally block will ececute\n"
     ]
    }
   ],
   "source": [
    "try:\n",
    "    Car_number = input('Your Car  Number ')\n",
    "    name = input('Name ')\n",
    "    mobile = input('Mobile_number')\n",
    "    if Car_number == ' ':\n",
    "        raise Exception()\n",
    "    elif name == ' ':\n",
    "        raise Exception()\n",
    "    elif mobile == ' ':\n",
    "        raise Exception()\n",
    "    else:\n",
    "        pass\n",
    "except:\n",
    "    if Car_number == ' ':\n",
    "        print('\\n The registration number field is required. \\n')\n",
    "    if name == ' ':\n",
    "        print('The Customer name field is required. \\n')\n",
    "    if mobile == ' ':\n",
    "        print('The mobile number field is required.')\n",
    "else:\n",
    "    print('Thanks for all details')\n",
    "finally:\n",
    "    print('in any case finally block will ececute')"
   ]
  },
  {
   "cell_type": "code",
   "execution_count": 3,
   "id": "1d319196",
   "metadata": {},
   "outputs": [],
   "source": [
    "def mobile_num():\n",
    "    try:\n",
    "        val = int(input(\"Please enter your phone number: \"))\n",
    "    except:\n",
    "        print(\"Looks like you didnt enter the integer!\")\n",
    "        print(val)"
   ]
  },
  {
   "cell_type": "code",
   "execution_count": 4,
   "id": "9e7fbe6b",
   "metadata": {},
   "outputs": [
    {
     "name": "stdout",
     "output_type": "stream",
     "text": [
      "Please enter your phone number: 9182874658\n"
     ]
    }
   ],
   "source": [
    "mobile_num()"
   ]
  },
  {
   "cell_type": "code",
   "execution_count": 5,
   "id": "23a64893",
   "metadata": {},
   "outputs": [],
   "source": [
    "#to give multiple chance we use it like below we use try and except , continue break\n",
    "def mobile_num():\n",
    "    while True:\n",
    "        try:\n",
    "            val = int(input(\"Please enter your phone number: \"))\n",
    "        except:\n",
    "            print(\"Looks like you didnt enter the integer!\")\n",
    "            continue\n",
    "        else:\n",
    "            if len(str(val)) != 10:\n",
    "                print ('Mobile number must be 10 digits')\n",
    "                continue\n",
    "            print('Thank you')\n",
    "            break"
   ]
  },
  {
   "cell_type": "code",
   "execution_count": 6,
   "id": "ef933ec4",
   "metadata": {},
   "outputs": [
    {
     "name": "stdout",
     "output_type": "stream",
     "text": [
      "Please enter your phone number: 9182874658\n",
      "Thank you\n"
     ]
    }
   ],
   "source": [
    "mobile_num()"
   ]
  },
  {
   "cell_type": "code",
   "execution_count": null,
   "id": "a93f9088",
   "metadata": {},
   "outputs": [],
   "source": []
  },
  {
   "cell_type": "code",
   "execution_count": null,
   "id": "9cbcaa4a",
   "metadata": {},
   "outputs": [],
   "source": []
  },
  {
   "cell_type": "code",
   "execution_count": null,
   "id": "5d1c67b8",
   "metadata": {},
   "outputs": [],
   "source": []
  },
  {
   "cell_type": "code",
   "execution_count": null,
   "id": "526275cd",
   "metadata": {},
   "outputs": [],
   "source": []
  },
  {
   "cell_type": "code",
   "execution_count": null,
   "id": "d6c6a0ee",
   "metadata": {},
   "outputs": [],
   "source": []
  }
 ],
 "metadata": {
  "kernelspec": {
   "display_name": "Python 3 (ipykernel)",
   "language": "python",
   "name": "python3"
  },
  "language_info": {
   "codemirror_mode": {
    "name": "ipython",
    "version": 3
   },
   "file_extension": ".py",
   "mimetype": "text/x-python",
   "name": "python",
   "nbconvert_exporter": "python",
   "pygments_lexer": "ipython3",
   "version": "3.9.7"
  }
 },
 "nbformat": 4,
 "nbformat_minor": 5
}
