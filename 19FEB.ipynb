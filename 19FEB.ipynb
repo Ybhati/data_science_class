{
 "cells": [
  {
   "cell_type": "code",
   "execution_count": 1,
   "id": "148deded",
   "metadata": {},
   "outputs": [],
   "source": [
    "def name_of_function (arg1,arg2):\n",
    "    '''\n",
    "    This is where the function document string (doc-string) goes\n",
    "    '''"
   ]
  },
  {
   "cell_type": "code",
   "execution_count": 2,
   "id": "8032d26d",
   "metadata": {},
   "outputs": [],
   "source": [
    "def say_hello():\n",
    "    print('This is just a sample')"
   ]
  },
  {
   "cell_type": "code",
   "execution_count": 3,
   "id": "f6d0b31f",
   "metadata": {},
   "outputs": [
    {
     "name": "stdout",
     "output_type": "stream",
     "text": [
      "This is just a sample\n"
     ]
    }
   ],
   "source": [
    "say_hello()"
   ]
  },
  {
   "cell_type": "code",
   "execution_count": 4,
   "id": "f5b4c482",
   "metadata": {},
   "outputs": [],
   "source": [
    "def greeting(name):\n",
    "    print('Hello ', name)"
   ]
  },
  {
   "cell_type": "code",
   "execution_count": 5,
   "id": "f8798ba6",
   "metadata": {},
   "outputs": [
    {
     "name": "stdout",
     "output_type": "stream",
     "text": [
      "Hello  dear Students\n"
     ]
    }
   ],
   "source": [
    "greeting('dear Students')"
   ]
  },
  {
   "cell_type": "code",
   "execution_count": 6,
   "id": "cb1a1f4c",
   "metadata": {},
   "outputs": [],
   "source": [
    "def greeting(name):\n",
    "    print('Hello %s' %name) # %s- string ,%-int"
   ]
  },
  {
   "cell_type": "code",
   "execution_count": 7,
   "id": "18fc6e96",
   "metadata": {},
   "outputs": [
    {
     "name": "stdout",
     "output_type": "stream",
     "text": [
      "Hello dear Students\n"
     ]
    }
   ],
   "source": [
    "greeting('dear Students')"
   ]
  },
  {
   "cell_type": "code",
   "execution_count": 8,
   "id": "5ba45d92",
   "metadata": {},
   "outputs": [],
   "source": [
    "#without refturn\n",
    "def salary_incr(salary):\n",
    "    if salary <=9000:\n",
    "        (salary + 1000)\n",
    "    else:\n",
    "        salary"
   ]
  },
  {
   "cell_type": "code",
   "execution_count": 9,
   "id": "8a845f36",
   "metadata": {},
   "outputs": [
    {
     "name": "stdout",
     "output_type": "stream",
     "text": [
      "Your New Salary =  None\n"
     ]
    }
   ],
   "source": [
    "print('Your New Salary = ', salary_incr(1500))"
   ]
  },
  {
   "cell_type": "code",
   "execution_count": 10,
   "id": "f661000c",
   "metadata": {},
   "outputs": [],
   "source": [
    "#with return\n",
    "def salary_incr(salary):\n",
    "    if salary <=9000:\n",
    "        return (salary + 1000)\n",
    "    else:\n",
    "        return salary"
   ]
  },
  {
   "cell_type": "code",
   "execution_count": 11,
   "id": "1a1e18ff",
   "metadata": {},
   "outputs": [
    {
     "name": "stdout",
     "output_type": "stream",
     "text": [
      "Your New Salary =  2500\n"
     ]
    }
   ],
   "source": [
    "print('Your New Salary = ', salary_incr(1500))"
   ]
  },
  {
   "cell_type": "code",
   "execution_count": 12,
   "id": "42c1ed96",
   "metadata": {},
   "outputs": [],
   "source": [
    "def stud_marks(maths,science,english):\n",
    "    return (maths+science+english)"
   ]
  },
  {
   "cell_type": "code",
   "execution_count": 13,
   "id": "3a222ec7",
   "metadata": {},
   "outputs": [
    {
     "name": "stdout",
     "output_type": "stream",
     "text": [
      "Your Total Marks =  200\n"
     ]
    }
   ],
   "source": [
    "print('Your Total Marks = ', stud_marks(55 ,65 , 80))"
   ]
  },
  {
   "cell_type": "code",
   "execution_count": 14,
   "id": "b8325965",
   "metadata": {},
   "outputs": [
    {
     "data": {
      "text/plain": [
       "82"
      ]
     },
     "execution_count": 14,
     "metadata": {},
     "output_type": "execute_result"
    }
   ],
   "source": [
    "total_marks = stud_marks(32,30,20)\n",
    "total_marks"
   ]
  },
  {
   "cell_type": "code",
   "execution_count": 15,
   "id": "12f60eec",
   "metadata": {},
   "outputs": [
    {
     "name": "stdout",
     "output_type": "stream",
     "text": [
      "82 - You are FAIL\n"
     ]
    }
   ],
   "source": [
    "total_marks # = stud_marks(32,30,20)\n",
    "if total_marks < 90:\n",
    "    print(total_marks,'- You are FAIL')\n",
    "elif total_marks > 90 and total_marks < 150:\n",
    "    print(total_marks,'- You are PASS')\n",
    "elif total_marks >151 and total_marks <250:\n",
    "    print(total_marks,'- You are First Class')\n",
    "else:\n",
    "    print(total_marks,'- You are Distinction')"
   ]
  },
  {
   "cell_type": "code",
   "execution_count": 16,
   "id": "8b2e3fea",
   "metadata": {},
   "outputs": [],
   "source": [
    "def phone_price(phone_make, phone_age, phone_model_GB):\n",
    "    if phone_make == 'iphone 11':\n",
    "        if 0 < phone_age <= 6:\n",
    "            if phone_model_GB == 64:\n",
    "                print('RS 39k - 41k')\n",
    "            elif phone_model_GB == 128:\n",
    "                print('Rs45k - Rs48k')\n",
    "        if 6 < phone_age <=12:\n",
    "            if phone_model_GB == 64:\n",
    "                print('RS 29k - 31k')\n",
    "            elif phone_model_GB == 128:\n",
    "                print('Rs35k - Rs38k')\n",
    "    elif phone_make == 'samsung B110':\n",
    "        if 0 < phone_age <=6:\n",
    "            print('Rs1k - 2k')\n",
    "        elif phone_age >12:\n",
    "            print('Rs700 - Rs800')\n",
    "            "
   ]
  },
  {
   "cell_type": "code",
   "execution_count": 17,
   "id": "98721715",
   "metadata": {},
   "outputs": [
    {
     "name": "stdout",
     "output_type": "stream",
     "text": [
      "RS 39k - 41k\n"
     ]
    }
   ],
   "source": [
    "phone_price('iphone 11', 5, 64)"
   ]
  },
  {
   "cell_type": "code",
   "execution_count": 18,
   "id": "bba44eef",
   "metadata": {},
   "outputs": [
    {
     "name": "stdout",
     "output_type": "stream",
     "text": [
      "Rs1k - 2k\n"
     ]
    }
   ],
   "source": [
    "phone_price('samsung B110', 5, 0)"
   ]
  },
  {
   "cell_type": "code",
   "execution_count": 19,
   "id": "0bc0d8bd",
   "metadata": {},
   "outputs": [],
   "source": [
    "def sqre(number):\n",
    "    for n in range(2,number):\n",
    "        if n % 2 == 0:\n",
    "            print('squared :', n**2)\n",
    "        else:\n",
    "            print('It is an odd number :', n)"
   ]
  },
  {
   "cell_type": "code",
   "execution_count": 20,
   "id": "65a990d5",
   "metadata": {},
   "outputs": [
    {
     "name": "stdout",
     "output_type": "stream",
     "text": [
      "squared : 4\n",
      "It is an odd number : 3\n",
      "squared : 16\n",
      "It is an odd number : 5\n",
      "squared : 36\n",
      "It is an odd number : 7\n",
      "squared : 64\n",
      "It is an odd number : 9\n",
      "squared : 100\n",
      "It is an odd number : 11\n",
      "squared : 144\n",
      "It is an odd number : 13\n",
      "squared : 196\n",
      "It is an odd number : 15\n",
      "squared : 256\n",
      "It is an odd number : 17\n",
      "squared : 324\n",
      "It is an odd number : 19\n",
      "squared : 400\n",
      "It is an odd number : 21\n",
      "squared : 484\n",
      "It is an odd number : 23\n",
      "squared : 576\n",
      "It is an odd number : 25\n",
      "squared : 676\n"
     ]
    }
   ],
   "source": [
    "sqre(27)"
   ]
  },
  {
   "cell_type": "code",
   "execution_count": null,
   "id": "8de9153f",
   "metadata": {},
   "outputs": [],
   "source": [
    "#LAMBDA Function\n",
    "#lambda arg : expression - syntax"
   ]
  },
  {
   "cell_type": "code",
   "execution_count": 21,
   "id": "b96e6ae4",
   "metadata": {},
   "outputs": [
    {
     "data": {
      "text/plain": [
       "80"
      ]
     },
     "execution_count": 21,
     "metadata": {},
     "output_type": "execute_result"
    }
   ],
   "source": [
    "add_num = lambda y : y + 30\n",
    "add_num(50)"
   ]
  },
  {
   "cell_type": "code",
   "execution_count": 22,
   "id": "4b90f2a4",
   "metadata": {},
   "outputs": [
    {
     "data": {
      "text/plain": [
       "300"
      ]
     },
     "execution_count": 22,
     "metadata": {},
     "output_type": "execute_result"
    }
   ],
   "source": [
    "#multiple arguments\n",
    "multi_num = lambda a, b : a * b\n",
    "multi_num(15,20)"
   ]
  },
  {
   "cell_type": "code",
   "execution_count": 23,
   "id": "73de05ef",
   "metadata": {},
   "outputs": [],
   "source": [
    "#ARGs *args\n",
    "def my_fun(*args):\n",
    "    for p in args:\n",
    "        print (p)"
   ]
  },
  {
   "cell_type": "code",
   "execution_count": 24,
   "id": "a8f04cf6",
   "metadata": {},
   "outputs": [
    {
     "name": "stdout",
     "output_type": "stream",
     "text": [
      "India\n",
      "56\n",
      "Bengaluru\n",
      "30.4\n",
      "234\n"
     ]
    }
   ],
   "source": [
    "my_fun('India', 56, 'Bengaluru', 30.40, 234)"
   ]
  },
  {
   "cell_type": "code",
   "execution_count": 25,
   "id": "a46badaf",
   "metadata": {},
   "outputs": [],
   "source": [
    "def my_kwargs(**kwargs):\n",
    "    for key,value in kwargs.items():\n",
    "        print(key , value)"
   ]
  },
  {
   "cell_type": "code",
   "execution_count": 26,
   "id": "84716687",
   "metadata": {},
   "outputs": [
    {
     "name": "stdout",
     "output_type": "stream",
     "text": [
      "students ['Ram', 'Shiva']\n",
      "Marks [70, 75]\n"
     ]
    }
   ],
   "source": [
    "my_kwargs(students=['Ram','Shiva'],Marks=[70,75])"
   ]
  },
  {
   "cell_type": "code",
   "execution_count": 27,
   "id": "5173ba59",
   "metadata": {},
   "outputs": [],
   "source": [
    "#string indexing\n",
    "s = 'This batch rocks'"
   ]
  },
  {
   "cell_type": "code",
   "execution_count": 28,
   "id": "c8d98002",
   "metadata": {},
   "outputs": [
    {
     "data": {
      "text/plain": [
       "'This batch rocks'"
      ]
     },
     "execution_count": 28,
     "metadata": {},
     "output_type": "execute_result"
    }
   ],
   "source": [
    "s"
   ]
  },
  {
   "cell_type": "code",
   "execution_count": 29,
   "id": "d276dc3a",
   "metadata": {},
   "outputs": [
    {
     "data": {
      "text/plain": [
       "'T'"
      ]
     },
     "execution_count": 29,
     "metadata": {},
     "output_type": "execute_result"
    }
   ],
   "source": [
    "s[0]"
   ]
  },
  {
   "cell_type": "code",
   "execution_count": 30,
   "id": "d36294a8",
   "metadata": {},
   "outputs": [
    {
     "data": {
      "text/plain": [
       "'s'"
      ]
     },
     "execution_count": 30,
     "metadata": {},
     "output_type": "execute_result"
    }
   ],
   "source": [
    "s[-1]"
   ]
  },
  {
   "cell_type": "code",
   "execution_count": null,
   "id": "8a352bdf",
   "metadata": {},
   "outputs": [],
   "source": [
    "try:\n",
    "    Car_number = input('Your Car  Number ')\n",
    "    name = input('Name ')\n",
    "    mobile = input('Mobile_number')\n",
    "    if Car_number == ' ':\n",
    "        raise Exception()\n",
    "    elif name == ' ':\n",
    "        raise Exception()\n",
    "    elif mobile == ' ':\n",
    "        raise Exception()\n",
    "    else:\n",
    "        pass\n",
    "except:\n",
    "    if Car_number == ' ':\n",
    "        print('\\n The registration number field is required. \\n')\n",
    "    if name == ' ':\n",
    "        print('The Customer name field is required. \\n')\n",
    "    if mobile == ' ':\n",
    "        print('The mobile number field is required.')\n",
    "else:\n",
    "    print('Thanks for all details')"
   ]
  }
 ],
 "metadata": {
  "kernelspec": {
   "display_name": "Python 3 (ipykernel)",
   "language": "python",
   "name": "python3"
  },
  "language_info": {
   "codemirror_mode": {
    "name": "ipython",
    "version": 3
   },
   "file_extension": ".py",
   "mimetype": "text/x-python",
   "name": "python",
   "nbconvert_exporter": "python",
   "pygments_lexer": "ipython3",
   "version": "3.9.7"
  }
 },
 "nbformat": 4,
 "nbformat_minor": 5
}
