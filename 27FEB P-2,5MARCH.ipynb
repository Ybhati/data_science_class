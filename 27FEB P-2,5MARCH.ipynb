{
 "cells": [
  {
   "cell_type": "code",
   "execution_count": 6,
   "id": "ec6867bd",
   "metadata": {},
   "outputs": [],
   "source": [
    "import sqlite3\n",
    "db = sqlite3.connect(\"my_file.db\")"
   ]
  },
  {
   "cell_type": "code",
   "execution_count": 7,
   "id": "2ec95ee9",
   "metadata": {},
   "outputs": [],
   "source": [
    "cursor = db.cursor()"
   ]
  },
  {
   "cell_type": "code",
   "execution_count": null,
   "id": "d1e66e74",
   "metadata": {},
   "outputs": [],
   "source": [
    "cursor.execute(\"CREATE TABLE score1(gender TEXT, student_id INT PRIMARY KEY, marks INT)\")"
   ]
  },
  {
   "cell_type": "code",
   "execution_count": 8,
   "id": "8d958cc3",
   "metadata": {},
   "outputs": [
    {
     "name": "stdout",
     "output_type": "stream",
     "text": [
      "('Male', 100, 55)\n",
      "('Female', 101, 60)\n",
      "('Female', 102, 68)\n",
      "('Female', 103, 60)\n",
      "('Female', 85, 96)\n",
      "('Female', 105, 14)\n",
      "('Male', 106, 25)\n",
      "('Male', 107, 36)\n",
      "('Male', 108, 69)\n",
      "('Male', 109, 58)\n",
      "('Male', 110, 47)\n",
      "('Female', 111, 74)\n",
      "('Female', 112, 85)\n",
      "('Female', 113, 96)\n",
      "('Female', 114, 41)\n",
      "('Female', 115, 52)\n",
      "('Female', 116, 63)\n",
      "('Female', 117, 37)\n",
      "('Female', 118, 38)\n",
      "('Male', 119, 29)\n",
      "('Male', 120, 96)\n",
      "('Female', 121, 78)\n"
     ]
    }
   ],
   "source": [
    "results = cursor.execute(\"SELECT * FROM score1\")\n",
    "for row in results:\n",
    "    print(row)"
   ]
  },
  {
   "cell_type": "code",
   "execution_count": 11,
   "id": "c725faae",
   "metadata": {},
   "outputs": [
    {
     "name": "stdout",
     "output_type": "stream",
     "text": [
      "('Female', 105, 14)\n"
     ]
    }
   ],
   "source": [
    "#WHERE CLAUSE \n",
    "sql = \"SELECT * FROM score1 WHERE student_id = 105\"\n",
    "result = cursor.execute(sql)\n",
    "for row in result:\n",
    "    print(row)"
   ]
  },
  {
   "cell_type": "code",
   "execution_count": 12,
   "id": "4d082007",
   "metadata": {},
   "outputs": [
    {
     "name": "stdout",
     "output_type": "stream",
     "text": [
      "('Male', 100, 55)\n",
      "('Female', 101, 60)\n",
      "('Female', 102, 68)\n",
      "('Female', 103, 60)\n",
      "('Female', 85, 96)\n",
      "('Female', 105, 14)\n",
      "('Male', 106, 25)\n",
      "('Male', 107, 36)\n",
      "('Male', 108, 69)\n",
      "('Male', 109, 58)\n",
      "('Male', 110, 47)\n",
      "('Female', 111, 74)\n",
      "('Female', 112, 85)\n",
      "('Female', 113, 96)\n",
      "('Female', 114, 41)\n",
      "('Female', 115, 52)\n",
      "('Female', 116, 63)\n",
      "('Female', 117, 37)\n",
      "('Female', 118, 38)\n",
      "('Male', 119, 29)\n",
      "('Male', 120, 96)\n",
      "('Female', 121, 78)\n"
     ]
    }
   ],
   "source": [
    "results = cursor.execute(\"SELECT * FROM score1\")\n",
    "for row in results:\n",
    "    print(row)"
   ]
  },
  {
   "cell_type": "code",
   "execution_count": 13,
   "id": "273d0682",
   "metadata": {},
   "outputs": [
    {
     "name": "stdout",
     "output_type": "stream",
     "text": [
      "('Female', 85, 96)\n"
     ]
    }
   ],
   "source": [
    "# WHERE CLAUSE\n",
    "sql = \"SELECT * FROM score1 WHERE student_id = 85\"\n",
    "results = cursor.execute(sql)\n",
    "for row in result:\n",
    "    print(row)"
   ]
  },
  {
   "cell_type": "code",
   "execution_count": 14,
   "id": "e1bc80b1",
   "metadata": {},
   "outputs": [
    {
     "data": {
      "text/plain": [
       "<sqlite3.Cursor at 0x2a3b0660570>"
      ]
     },
     "execution_count": 14,
     "metadata": {},
     "output_type": "execute_result"
    }
   ],
   "source": [
    "#DELETE RECORDS\n",
    "sql = \"DELETE FROM score1 WHERE student_id = 85\"\n",
    "db.commit()\n",
    "cursor.execute(sql)"
   ]
  },
  {
   "cell_type": "code",
   "execution_count": 15,
   "id": "ce16e947",
   "metadata": {},
   "outputs": [
    {
     "name": "stdout",
     "output_type": "stream",
     "text": [
      "('Male', 100, 55)\n",
      "('Female', 101, 60)\n",
      "('Female', 102, 68)\n",
      "('Female', 103, 60)\n",
      "('Female', 105, 14)\n",
      "('Male', 106, 25)\n",
      "('Male', 107, 36)\n",
      "('Male', 108, 69)\n",
      "('Male', 109, 58)\n",
      "('Male', 110, 47)\n",
      "('Female', 111, 74)\n",
      "('Female', 112, 85)\n",
      "('Female', 113, 96)\n",
      "('Female', 114, 41)\n",
      "('Female', 115, 52)\n",
      "('Female', 116, 63)\n",
      "('Female', 117, 37)\n",
      "('Female', 118, 38)\n",
      "('Male', 119, 29)\n",
      "('Male', 120, 96)\n",
      "('Female', 121, 78)\n"
     ]
    }
   ],
   "source": [
    "results = cursor.execute(\"SELECT * FROM score1\")\n",
    "for row in results:\n",
    "    print(row)"
   ]
  },
  {
   "cell_type": "code",
   "execution_count": 16,
   "id": "23ac9ce3",
   "metadata": {},
   "outputs": [
    {
     "name": "stdout",
     "output_type": "stream",
     "text": [
      "('Female', 113, 96)\n",
      "('Male', 120, 96)\n",
      "('Female', 112, 85)\n",
      "('Female', 121, 78)\n",
      "('Female', 111, 74)\n",
      "('Male', 108, 69)\n",
      "('Female', 102, 68)\n",
      "('Female', 116, 63)\n",
      "('Female', 101, 60)\n",
      "('Female', 103, 60)\n",
      "('Male', 109, 58)\n",
      "('Male', 100, 55)\n",
      "('Female', 115, 52)\n",
      "('Male', 110, 47)\n",
      "('Female', 114, 41)\n",
      "('Female', 118, 38)\n",
      "('Female', 117, 37)\n",
      "('Male', 107, 36)\n",
      "('Male', 119, 29)\n",
      "('Male', 106, 25)\n",
      "('Female', 105, 14)\n"
     ]
    }
   ],
   "source": [
    "#ORDER BY\n",
    "result = cursor.execute(\"SELECT*FROM score1 ORDER BY marks desc\")\n",
    "for row in result:\n",
    "    print(row)"
   ]
  },
  {
   "cell_type": "code",
   "execution_count": 17,
   "id": "13ada388",
   "metadata": {},
   "outputs": [
    {
     "data": {
      "text/plain": [
       "<sqlite3.Cursor at 0x2a3b0660570>"
      ]
     },
     "execution_count": 17,
     "metadata": {},
     "output_type": "execute_result"
    }
   ],
   "source": [
    "#update\n",
    "sql = \"UPDATE score1 SET marks = 50 WHERE student_id = 107\"\n",
    "cursor.execute(sql)"
   ]
  },
  {
   "cell_type": "code",
   "execution_count": 18,
   "id": "35af937c",
   "metadata": {},
   "outputs": [
    {
     "name": "stdout",
     "output_type": "stream",
     "text": [
      "('Male', 107, 50)\n"
     ]
    }
   ],
   "source": [
    "sql = \"SELECT * FROM score1 WHERE student_id = 107\"\n",
    "results = cursor.execute(sql)\n",
    "for row in result:\n",
    "    print(row)"
   ]
  },
  {
   "cell_type": "code",
   "execution_count": 19,
   "id": "edf8763b",
   "metadata": {},
   "outputs": [
    {
     "data": {
      "text/plain": [
       "<sqlite3.Cursor at 0x2a3b0660570>"
      ]
     },
     "execution_count": 19,
     "metadata": {},
     "output_type": "execute_result"
    }
   ],
   "source": [
    "#MULTIPLE UPDATE USING \"IN\"\n",
    "sql = \"UPDATE score1 SET marks = 35 WHERE student_id IN (107,119)\"\n",
    "cursor.execute(sql)"
   ]
  },
  {
   "cell_type": "code",
   "execution_count": 20,
   "id": "c5c1d00e",
   "metadata": {},
   "outputs": [
    {
     "name": "stdout",
     "output_type": "stream",
     "text": [
      "('Male', 100, 55)\n",
      "('Female', 101, 60)\n",
      "('Female', 102, 68)\n",
      "('Female', 103, 60)\n",
      "('Female', 105, 14)\n",
      "('Male', 106, 25)\n",
      "('Male', 107, 35)\n",
      "('Male', 108, 69)\n",
      "('Male', 109, 58)\n",
      "('Male', 110, 47)\n",
      "('Female', 111, 74)\n",
      "('Female', 112, 85)\n",
      "('Female', 113, 96)\n",
      "('Female', 114, 41)\n",
      "('Female', 115, 52)\n",
      "('Female', 116, 63)\n",
      "('Female', 117, 37)\n",
      "('Female', 118, 38)\n",
      "('Male', 119, 35)\n",
      "('Male', 120, 96)\n",
      "('Female', 121, 78)\n"
     ]
    }
   ],
   "source": [
    "results = cursor.execute(\"SELECT * FROM score1\")\n",
    "for row in results:\n",
    "    print(row)"
   ]
  },
  {
   "cell_type": "code",
   "execution_count": 21,
   "id": "854f05b8",
   "metadata": {},
   "outputs": [
    {
     "data": {
      "text/plain": [
       "<sqlite3.Cursor at 0x2a3b0660570>"
      ]
     },
     "execution_count": 21,
     "metadata": {},
     "output_type": "execute_result"
    }
   ],
   "source": [
    "#update records using BETWEEN \n",
    "sql = \"UPDATE score1 SET marks = 66 WHERE student_id between 107 and 119\"\n",
    "cursor.execute(sql)"
   ]
  },
  {
   "cell_type": "code",
   "execution_count": 22,
   "id": "0b7a2268",
   "metadata": {},
   "outputs": [
    {
     "name": "stdout",
     "output_type": "stream",
     "text": [
      "('Male', 107, 66)\n",
      "('Male', 108, 66)\n",
      "('Male', 109, 66)\n",
      "('Male', 110, 66)\n",
      "('Female', 111, 66)\n",
      "('Female', 112, 66)\n",
      "('Female', 113, 66)\n",
      "('Female', 114, 66)\n",
      "('Female', 115, 66)\n",
      "('Female', 116, 66)\n",
      "('Female', 117, 66)\n",
      "('Female', 118, 66)\n",
      "('Male', 119, 66)\n"
     ]
    }
   ],
   "source": [
    "results = cursor.execute(\"SELECT * FROM score1 WHERE student_id between 107 and 119\")\n",
    "for row in results:\n",
    "    print(row)"
   ]
  },
  {
   "cell_type": "code",
   "execution_count": 23,
   "id": "93568e99",
   "metadata": {},
   "outputs": [
    {
     "name": "stdout",
     "output_type": "stream",
     "text": [
      "MINIMUM Marks =  (14,)\n",
      "MAXIMUM Marks =  (96,)\n"
     ]
    }
   ],
   "source": [
    "#MAX and MIN\n",
    "result = cursor.execute(\"SELECT MIN(marks) FROM score1\")\n",
    "print(\"MINIMUM Marks = \",results.fetchone())\n",
    "\n",
    "#MAX\n",
    "result = cursor.execute(\"SELECT MAX(marks) FROM score1\")\n",
    "print(\"MAXIMUM Marks = \",results.fetchone())"
   ]
  },
  {
   "cell_type": "code",
   "execution_count": 28,
   "id": "438046dd",
   "metadata": {},
   "outputs": [],
   "source": [
    "#SUBQUERY\n",
    "db=sqlite3.connect(\"student_course_database1.db\")"
   ]
  },
  {
   "cell_type": "code",
   "execution_count": 29,
   "id": "23bd17a2",
   "metadata": {},
   "outputs": [],
   "source": [
    "cur=db.cursor()"
   ]
  },
  {
   "cell_type": "code",
   "execution_count": 30,
   "id": "4c28b221",
   "metadata": {},
   "outputs": [
    {
     "data": {
      "text/plain": [
       "<sqlite3.Cursor at 0x2a3b0683030>"
      ]
     },
     "execution_count": 30,
     "metadata": {},
     "output_type": "execute_result"
    }
   ],
   "source": [
    " cur.execute(\"create table course1(courseid int primary key, coursename text, duration int)\")"
   ]
  },
  {
   "cell_type": "code",
   "execution_count": 31,
   "id": "950fe4c5",
   "metadata": {},
   "outputs": [
    {
     "data": {
      "text/plain": [
       "<sqlite3.Cursor at 0x2a3b0683030>"
      ]
     },
     "execution_count": 31,
     "metadata": {},
     "output_type": "execute_result"
    }
   ],
   "source": [
    "cur.execute(\"create table student1(roll_no int primary key,studentname text,age int,courseid int,foreign key(courseid) references course1(courseid))\")"
   ]
  },
  {
   "cell_type": "code",
   "execution_count": 32,
   "id": "46c15cd1",
   "metadata": {},
   "outputs": [
    {
     "name": "stdout",
     "output_type": "stream",
     "text": [
      "3 records inserted\n"
     ]
    }
   ],
   "source": [
    "cur.execute(\"insert into course1 values(78,'Data Science',12),(56,'python course',4),(101,'Data Base',7)\")\n",
    "print(cur.rowcount,\"records inserted\")\n",
    "db.commit;"
   ]
  },
  {
   "cell_type": "code",
   "execution_count": 33,
   "id": "2b6eee87",
   "metadata": {},
   "outputs": [
    {
     "name": "stdout",
     "output_type": "stream",
     "text": [
      "4 records inserted\n"
     ]
    }
   ],
   "source": [
    "cur.execute(\"insert into student1 values(1,'Jack',22,78),(2,'John',21,56),(3,'Rudolf',18,78),(4,'Jim',21,56)\")\n",
    "print(cur.rowcount,\"records inserted\")\n",
    "db.commit;"
   ]
  },
  {
   "cell_type": "code",
   "execution_count": 34,
   "id": "d51883d6",
   "metadata": {},
   "outputs": [
    {
     "data": {
      "text/plain": [
       "[(1, 'Jack', 22, 78),\n",
       " (2, 'John', 21, 56),\n",
       " (3, 'Rudolf', 18, 78),\n",
       " (4, 'Jim', 21, 56)]"
      ]
     },
     "execution_count": 34,
     "metadata": {},
     "output_type": "execute_result"
    }
   ],
   "source": [
    "results=cur.execute('select* from student1')\n",
    "results.fetchall()"
   ]
  },
  {
   "cell_type": "code",
   "execution_count": 38,
   "id": "cc3e7d22",
   "metadata": {},
   "outputs": [
    {
     "data": {
      "text/plain": [
       "[(78, 'Data Science', 12), (56, 'python course', 4), (101, 'Data Base', 7)]"
      ]
     },
     "execution_count": 38,
     "metadata": {},
     "output_type": "execute_result"
    }
   ],
   "source": [
    "results=cur.execute('select* from course1')\n",
    "results.fetchall()"
   ]
  },
  {
   "cell_type": "code",
   "execution_count": 36,
   "id": "675ace4b",
   "metadata": {},
   "outputs": [
    {
     "name": "stdout",
     "output_type": "stream",
     "text": [
      "(78,)\n"
     ]
    }
   ],
   "source": [
    "results=cur.execute('select courseid from course1 where coursename=\"Data Science\"')\n",
    "for i in results:\n",
    "    print(i)"
   ]
  },
  {
   "cell_type": "code",
   "execution_count": 37,
   "id": "d312d525",
   "metadata": {},
   "outputs": [
    {
     "data": {
      "text/plain": [
       "[(1, 'Jack', 22, 78), (3, 'Rudolf', 18, 78)]"
      ]
     },
     "execution_count": 37,
     "metadata": {},
     "output_type": "execute_result"
    }
   ],
   "source": [
    "results=cur.execute('select * from student1 where courseid=(select courseid from course1 where coursename=\"Data Science\")')\n",
    "results.fetchall()"
   ]
  },
  {
   "cell_type": "code",
   "execution_count": 39,
   "id": "4080c236",
   "metadata": {},
   "outputs": [
    {
     "data": {
      "text/plain": [
       "[(2, 'John', 21, 56), (4, 'Jim', 21, 56)]"
      ]
     },
     "execution_count": 39,
     "metadata": {},
     "output_type": "execute_result"
    }
   ],
   "source": [
    "results=cur.execute('select * from student1 where courseid=(select courseid from course1 where coursename=\"python course\")')\n",
    "results.fetchall()"
   ]
  },
  {
   "cell_type": "code",
   "execution_count": 40,
   "id": "93f0ba50",
   "metadata": {},
   "outputs": [
    {
     "name": "stdout",
     "output_type": "stream",
     "text": [
      "Name   Stud_ID   Phone_Num \n",
      "\n",
      "('sachin', 105, 4555545555)\n",
      "('virat', 113, 6644949)\n",
      "('rohith', 100, 64646449949)\n",
      "('sindhu', 106, 64646464)\n",
      "('usha', 102, 464646468441)\n"
     ]
    }
   ],
   "source": [
    "#JOIN\n",
    "#create new table\n",
    "cursor.execute(\"create table students (student_name TEXT, student_id INT PRIMARY KEY,phone_number INT)\")\n",
    "cursor.execute(\"insert into students (student_name,student_id,phone_number) VALUES('sachin',105,4555545555),('virat',113,6644949),('rohith',100,64646449949),('sindhu',106,64646464),('usha',102,464646468441)\")\n",
    "db.commit()\n",
    "results=cursor.execute(\"select * from students\")\n",
    "print('Name   Stud_ID   Phone_Num \\n')\n",
    "for row in results:\n",
    "    print(row)"
   ]
  },
  {
   "cell_type": "code",
   "execution_count": 41,
   "id": "f40f90a0",
   "metadata": {},
   "outputs": [
    {
     "name": "stdout",
     "output_type": "stream",
     "text": [
      "('Male', 100, 55)\n",
      "('Female', 101, 60)\n",
      "('Female', 102, 68)\n",
      "('Female', 103, 60)\n",
      "('Female', 105, 14)\n",
      "('Male', 106, 25)\n",
      "('Male', 107, 66)\n",
      "('Male', 108, 66)\n",
      "('Male', 109, 66)\n",
      "('Male', 110, 66)\n",
      "('Female', 111, 66)\n",
      "('Female', 112, 66)\n",
      "('Female', 113, 66)\n",
      "('Female', 114, 66)\n",
      "('Female', 115, 66)\n",
      "('Female', 116, 66)\n",
      "('Female', 117, 66)\n",
      "('Female', 118, 66)\n",
      "('Male', 119, 66)\n",
      "('Male', 120, 96)\n",
      "('Female', 121, 78)\n"
     ]
    }
   ],
   "source": [
    "results = cursor.execute(\"SELECT * FROM score1\")\n",
    "for row in results:\n",
    "    print(row)"
   ]
  },
  {
   "cell_type": "code",
   "execution_count": 42,
   "id": "d6bc4dde",
   "metadata": {},
   "outputs": [
    {
     "name": "stdout",
     "output_type": "stream",
     "text": [
      "(100, 'rohith', 'Male', 55)\n",
      "(102, 'usha', 'Female', 68)\n",
      "(105, 'sachin', 'Female', 14)\n",
      "(106, 'sindhu', 'Male', 25)\n",
      "(113, 'virat', 'Female', 66)\n"
     ]
    }
   ],
   "source": [
    "#INNER JOIN\n",
    "sql = \"select students.student_id, students.student_name,score1.gender,score1.marks FROM score1 INNER JOIN students ON students.student_id = score1.student_id\"\n",
    "results = cursor.execute(sql)\n",
    "for row in result:\n",
    "    print(row)"
   ]
  },
  {
   "cell_type": "code",
   "execution_count": 43,
   "id": "426e8ef3",
   "metadata": {},
   "outputs": [
    {
     "name": "stdout",
     "output_type": "stream",
     "text": [
      "(100, 'rohith', 'Male', 55)\n",
      "(None, None, 'Female', 60)\n",
      "(102, 'usha', 'Female', 68)\n",
      "(None, None, 'Female', 60)\n",
      "(105, 'sachin', 'Female', 14)\n",
      "(106, 'sindhu', 'Male', 25)\n",
      "(None, None, 'Male', 66)\n",
      "(None, None, 'Male', 66)\n",
      "(None, None, 'Male', 66)\n",
      "(None, None, 'Male', 66)\n",
      "(None, None, 'Female', 66)\n",
      "(None, None, 'Female', 66)\n",
      "(113, 'virat', 'Female', 66)\n",
      "(None, None, 'Female', 66)\n",
      "(None, None, 'Female', 66)\n",
      "(None, None, 'Female', 66)\n",
      "(None, None, 'Female', 66)\n",
      "(None, None, 'Female', 66)\n",
      "(None, None, 'Male', 66)\n",
      "(None, None, 'Male', 96)\n",
      "(None, None, 'Female', 78)\n"
     ]
    }
   ],
   "source": [
    "#left join\n",
    "sql = \"select students.student_id, students.student_name,score1.gender,score1.marks FROM score1 LEFT JOIN students ON students.student_id = score1.student_id\"\n",
    "results = cursor.execute(sql)\n",
    "for row in result:\n",
    "    print(row)"
   ]
  },
  {
   "cell_type": "code",
   "execution_count": 44,
   "id": "dec2ccda",
   "metadata": {},
   "outputs": [
    {
     "data": {
      "text/plain": [
       "<sqlite3.Cursor at 0x2a3b0660570>"
      ]
     },
     "execution_count": 44,
     "metadata": {},
     "output_type": "execute_result"
    }
   ],
   "source": [
    "sql = \"DROP TABLE score1\"\n",
    "cursor.execute(sql)"
   ]
  },
  {
   "cell_type": "code",
   "execution_count": 45,
   "id": "1dcc0e7e",
   "metadata": {},
   "outputs": [
    {
     "data": {
      "text/plain": [
       "<sqlite3.Cursor at 0x2a3b0660570>"
      ]
     },
     "execution_count": 45,
     "metadata": {},
     "output_type": "execute_result"
    }
   ],
   "source": [
    "sql = \"DROP TABLE students\"\n",
    "cursor.execute(sql)"
   ]
  },
  {
   "cell_type": "code",
   "execution_count": 46,
   "id": "6da63af4",
   "metadata": {},
   "outputs": [],
   "source": [
    "db.close()"
   ]
  },
  {
   "cell_type": "code",
   "execution_count": 47,
   "id": "8bedf94a",
   "metadata": {},
   "outputs": [
    {
     "ename": "OperationalError",
     "evalue": "no such table: score1",
     "output_type": "error",
     "traceback": [
      "\u001b[1;31m---------------------------------------------------------------------------\u001b[0m",
      "\u001b[1;31mOperationalError\u001b[0m                          Traceback (most recent call last)",
      "\u001b[1;32m~\\AppData\\Local\\Temp/ipykernel_18036/1851373064.py\u001b[0m in \u001b[0;36m<module>\u001b[1;34m\u001b[0m\n\u001b[1;32m----> 1\u001b[1;33m \u001b[0mresults\u001b[0m \u001b[1;33m=\u001b[0m \u001b[0mcursor\u001b[0m\u001b[1;33m.\u001b[0m\u001b[0mexecute\u001b[0m\u001b[1;33m(\u001b[0m\u001b[1;34m\"SELECT * FROM score1\"\u001b[0m\u001b[1;33m)\u001b[0m\u001b[1;33m\u001b[0m\u001b[1;33m\u001b[0m\u001b[0m\n\u001b[0m\u001b[0;32m      2\u001b[0m \u001b[1;32mfor\u001b[0m \u001b[0mrow\u001b[0m \u001b[1;32min\u001b[0m \u001b[0mresults\u001b[0m\u001b[1;33m:\u001b[0m\u001b[1;33m\u001b[0m\u001b[1;33m\u001b[0m\u001b[0m\n\u001b[0;32m      3\u001b[0m     \u001b[0mprint\u001b[0m\u001b[1;33m(\u001b[0m\u001b[0mrow\u001b[0m\u001b[1;33m)\u001b[0m\u001b[1;33m\u001b[0m\u001b[1;33m\u001b[0m\u001b[0m\n",
      "\u001b[1;31mOperationalError\u001b[0m: no such table: score1"
     ]
    }
   ],
   "source": [
    "results = cursor.execute(\"SELECT * FROM score1\")\n",
    "for row in results:\n",
    "    print(row)"
   ]
  },
  {
   "cell_type": "code",
   "execution_count": null,
   "id": "593d0666",
   "metadata": {},
   "outputs": [],
   "source": []
  },
  {
   "cell_type": "code",
   "execution_count": null,
   "id": "60985102",
   "metadata": {},
   "outputs": [],
   "source": []
  },
  {
   "cell_type": "code",
   "execution_count": null,
   "id": "91994e80",
   "metadata": {},
   "outputs": [],
   "source": []
  },
  {
   "cell_type": "code",
   "execution_count": null,
   "id": "f7527fd9",
   "metadata": {},
   "outputs": [],
   "source": []
  },
  {
   "cell_type": "code",
   "execution_count": null,
   "id": "412dfdd1",
   "metadata": {},
   "outputs": [],
   "source": []
  },
  {
   "cell_type": "code",
   "execution_count": null,
   "id": "2b3eccb0",
   "metadata": {},
   "outputs": [],
   "source": []
  },
  {
   "cell_type": "code",
   "execution_count": null,
   "id": "36ed38e2",
   "metadata": {},
   "outputs": [],
   "source": []
  },
  {
   "cell_type": "code",
   "execution_count": null,
   "id": "f76d279b",
   "metadata": {},
   "outputs": [],
   "source": []
  },
  {
   "cell_type": "code",
   "execution_count": null,
   "id": "63ae389f",
   "metadata": {},
   "outputs": [],
   "source": []
  }
 ],
 "metadata": {
  "kernelspec": {
   "display_name": "Python 3 (ipykernel)",
   "language": "python",
   "name": "python3"
  },
  "language_info": {
   "codemirror_mode": {
    "name": "ipython",
    "version": 3
   },
   "file_extension": ".py",
   "mimetype": "text/x-python",
   "name": "python",
   "nbconvert_exporter": "python",
   "pygments_lexer": "ipython3",
   "version": "3.9.7"
  }
 },
 "nbformat": 4,
 "nbformat_minor": 5
}
