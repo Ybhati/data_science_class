{
 "cells": [
  {
   "cell_type": "code",
   "execution_count": 1,
   "id": "3bef436f",
   "metadata": {},
   "outputs": [
    {
     "name": "stdout",
     "output_type": "stream",
     "text": [
      " day  day  day  day  day \n"
     ]
    }
   ],
   "source": [
    "print(' day ' * 5)"
   ]
  },
  {
   "cell_type": "code",
   "execution_count": 2,
   "id": "99ea7acf",
   "metadata": {},
   "outputs": [
    {
     "ename": "TypeError",
     "evalue": "can only concatenate str (not \"int\") to str",
     "output_type": "error",
     "traceback": [
      "\u001b[1;31m---------------------------------------------------------------------------\u001b[0m",
      "\u001b[1;31mTypeError\u001b[0m                                 Traceback (most recent call last)",
      "\u001b[1;32m~\\AppData\\Local\\Temp/ipykernel_1580/1530668463.py\u001b[0m in \u001b[0;36m<module>\u001b[1;34m\u001b[0m\n\u001b[1;32m----> 1\u001b[1;33m \u001b[0mprint\u001b[0m \u001b[1;33m(\u001b[0m\u001b[1;34m' Day '\u001b[0m \u001b[1;33m+\u001b[0m \u001b[1;36m2\u001b[0m\u001b[1;33m)\u001b[0m\u001b[1;33m\u001b[0m\u001b[1;33m\u001b[0m\u001b[0m\n\u001b[0m",
      "\u001b[1;31mTypeError\u001b[0m: can only concatenate str (not \"int\") to str"
     ]
    }
   ],
   "source": [
    "print (' Day ' + 2)"
   ]
  },
  {
   "cell_type": "code",
   "execution_count": 3,
   "id": "d47d2f3c",
   "metadata": {},
   "outputs": [
    {
     "name": "stdout",
     "output_type": "stream",
     "text": [
      "Day2\n"
     ]
    }
   ],
   "source": [
    "print('Day'+str(2))"
   ]
  },
  {
   "cell_type": "code",
   "execution_count": 4,
   "id": "de977be8",
   "metadata": {},
   "outputs": [
    {
     "data": {
      "text/plain": [
       "['a', 'b', 'c']"
      ]
     },
     "execution_count": 4,
     "metadata": {},
     "output_type": "execute_result"
    }
   ],
   "source": [
    "l = ['a','b','c']\n",
    "l"
   ]
  },
  {
   "cell_type": "code",
   "execution_count": 5,
   "id": "25137225",
   "metadata": {},
   "outputs": [
    {
     "data": {
      "text/plain": [
       "['a', 6, 6.9]"
      ]
     },
     "execution_count": 5,
     "metadata": {},
     "output_type": "execute_result"
    }
   ],
   "source": [
    "l = ['a',6,6.9]\n",
    "l"
   ]
  },
  {
   "cell_type": "code",
   "execution_count": 6,
   "id": "fc1c5945",
   "metadata": {},
   "outputs": [
    {
     "data": {
      "text/plain": [
       "['a', 6, 6.9]"
      ]
     },
     "execution_count": 6,
     "metadata": {},
     "output_type": "execute_result"
    }
   ],
   "source": [
    "l2=list(l)\n",
    "l2"
   ]
  },
  {
   "cell_type": "code",
   "execution_count": 10,
   "id": "b903b4e3",
   "metadata": {},
   "outputs": [
    {
     "data": {
      "text/plain": [
       "[35, 45, 60, 80, 100]"
      ]
     },
     "execution_count": 10,
     "metadata": {},
     "output_type": "execute_result"
    }
   ],
   "source": [
    "marks = [35,45,60,80,100]\n",
    "marks"
   ]
  },
  {
   "cell_type": "markdown",
   "id": "d69f6c88",
   "metadata": {},
   "source": [
    "# .copy()"
   ]
  },
  {
   "cell_type": "code",
   "execution_count": 11,
   "id": "d52782e2",
   "metadata": {},
   "outputs": [
    {
     "data": {
      "text/plain": [
       "[35, 45, 60, 80, 100]"
      ]
     },
     "execution_count": 11,
     "metadata": {},
     "output_type": "execute_result"
    }
   ],
   "source": [
    "copy_marks=marks.copy()\n",
    "copy_marks"
   ]
  },
  {
   "cell_type": "code",
   "execution_count": 12,
   "id": "eff3ae34",
   "metadata": {},
   "outputs": [
    {
     "data": {
      "text/plain": [
       "['Y', 'O', 'G', 'E', 'S', 'H']"
      ]
     },
     "execution_count": 12,
     "metadata": {},
     "output_type": "execute_result"
    }
   ],
   "source": [
    "#to split\n",
    "list('YOGESH')"
   ]
  },
  {
   "cell_type": "markdown",
   "id": "dbbc14f0",
   "metadata": {},
   "source": [
    "# append"
   ]
  },
  {
   "cell_type": "code",
   "execution_count": 13,
   "id": "5746ca1a",
   "metadata": {},
   "outputs": [
    {
     "data": {
      "text/plain": [
       "['Radha']"
      ]
     },
     "execution_count": 13,
     "metadata": {},
     "output_type": "execute_result"
    }
   ],
   "source": [
    "#to add anything into the list at the last we use .append()\n",
    "employee = []\n",
    "employee.append('Radha')\n",
    "employee"
   ]
  },
  {
   "cell_type": "code",
   "execution_count": 14,
   "id": "aa41bb11",
   "metadata": {},
   "outputs": [
    {
     "data": {
      "text/plain": [
       "['Radha', 'Ramesh', 'Salman']"
      ]
     },
     "execution_count": 14,
     "metadata": {},
     "output_type": "execute_result"
    }
   ],
   "source": [
    "employee.append('Ramesh')\n",
    "employee.append('Salman')\n",
    "employee"
   ]
  },
  {
   "cell_type": "markdown",
   "id": "77c285f2",
   "metadata": {},
   "source": [
    "# insert()"
   ]
  },
  {
   "cell_type": "markdown",
   "id": "a0ad89ec",
   "metadata": {},
   "source": [
    "# INDEX starts with 0,1,2,3......................."
   ]
  },
  {
   "cell_type": "code",
   "execution_count": 15,
   "id": "c35677f5",
   "metadata": {},
   "outputs": [
    {
     "data": {
      "text/plain": [
       "['Radha', \"D'souza\", 'Ramesh', 'Salman']"
      ]
     },
     "execution_count": 15,
     "metadata": {},
     "output_type": "execute_result"
    }
   ],
   "source": [
    "employee.insert(1,\"D'souza\")\n",
    "employee"
   ]
  },
  {
   "cell_type": "code",
   "execution_count": 16,
   "id": "812af0ec",
   "metadata": {},
   "outputs": [
    {
     "data": {
      "text/plain": [
       "[15000, 28000, 19000]"
      ]
     },
     "execution_count": 16,
     "metadata": {},
     "output_type": "execute_result"
    }
   ],
   "source": [
    "emp_salary = [15000,28000,19000]\n",
    "emp_salary"
   ]
  },
  {
   "cell_type": "code",
   "execution_count": 17,
   "id": "889e033a",
   "metadata": {},
   "outputs": [
    {
     "data": {
      "text/plain": [
       "[48000, 15000, 28000, 19000]"
      ]
     },
     "execution_count": 17,
     "metadata": {},
     "output_type": "execute_result"
    }
   ],
   "source": [
    "emp_salary.insert(0,48000)\n",
    "emp_salary"
   ]
  },
  {
   "cell_type": "markdown",
   "id": "ac7c97c6",
   "metadata": {},
   "source": [
    "# len() - to know the length of elements"
   ]
  },
  {
   "cell_type": "code",
   "execution_count": 18,
   "id": "d5ab8572",
   "metadata": {},
   "outputs": [
    {
     "name": "stdout",
     "output_type": "stream",
     "text": [
      "4\n",
      "4\n"
     ]
    }
   ],
   "source": [
    "a=len(emp_salary)\n",
    "print(a)\n",
    "b=len(employee)\n",
    "print(b)"
   ]
  },
  {
   "cell_type": "markdown",
   "id": "ebe6a5d3",
   "metadata": {},
   "source": [
    "# INDEX & SLICING"
   ]
  },
  {
   "cell_type": "code",
   "execution_count": 19,
   "id": "a57d9cd1",
   "metadata": {},
   "outputs": [
    {
     "data": {
      "text/plain": [
       "['Radha', \"D'souza\", 'Ramesh', 'Salman']"
      ]
     },
     "execution_count": 19,
     "metadata": {},
     "output_type": "execute_result"
    }
   ],
   "source": [
    "employee"
   ]
  },
  {
   "cell_type": "code",
   "execution_count": 20,
   "id": "6ffa053c",
   "metadata": {},
   "outputs": [
    {
     "data": {
      "text/plain": [
       "['Radha', 'Remo', 'Ramesh', 'Salman']"
      ]
     },
     "execution_count": 20,
     "metadata": {},
     "output_type": "execute_result"
    }
   ],
   "source": [
    "employee[1]= 'Remo'\n",
    "employee"
   ]
  },
  {
   "cell_type": "code",
   "execution_count": 21,
   "id": "638e12dd",
   "metadata": {},
   "outputs": [
    {
     "data": {
      "text/plain": [
       "[48000, 20000, 28000, 19000]"
      ]
     },
     "execution_count": 21,
     "metadata": {},
     "output_type": "execute_result"
    }
   ],
   "source": [
    "emp_salary[1] = 20000\n",
    "emp_salary"
   ]
  },
  {
   "cell_type": "code",
   "execution_count": 22,
   "id": "64d4d93c",
   "metadata": {},
   "outputs": [
    {
     "data": {
      "text/plain": [
       "[20000, 28000, 19000]"
      ]
     },
     "execution_count": 22,
     "metadata": {},
     "output_type": "execute_result"
    }
   ],
   "source": [
    "emp_salary[1:]\n"
   ]
  },
  {
   "cell_type": "code",
   "execution_count": 23,
   "id": "f8491eed",
   "metadata": {},
   "outputs": [
    {
     "data": {
      "text/plain": [
       "[48000, 20000, 28000]"
      ]
     },
     "execution_count": 23,
     "metadata": {},
     "output_type": "execute_result"
    }
   ],
   "source": [
    "emp_salary[:3]"
   ]
  },
  {
   "cell_type": "code",
   "execution_count": 24,
   "id": "14f50520",
   "metadata": {},
   "outputs": [
    {
     "data": {
      "text/plain": [
       "[20000, 28000]"
      ]
     },
     "execution_count": 24,
     "metadata": {},
     "output_type": "execute_result"
    }
   ],
   "source": [
    "emp_salary[1:3]"
   ]
  },
  {
   "cell_type": "code",
   "execution_count": 25,
   "id": "1b7b0c53",
   "metadata": {},
   "outputs": [
    {
     "data": {
      "text/plain": [
       "[48000, 20000, 28000, 19000, 25000]"
      ]
     },
     "execution_count": 25,
     "metadata": {},
     "output_type": "execute_result"
    }
   ],
   "source": [
    "emp_salary + [25000]"
   ]
  },
  {
   "cell_type": "code",
   "execution_count": 26,
   "id": "51b654e0",
   "metadata": {},
   "outputs": [
    {
     "data": {
      "text/plain": [
       "[48000, 20000, 28000, 19000]"
      ]
     },
     "execution_count": 26,
     "metadata": {},
     "output_type": "execute_result"
    }
   ],
   "source": [
    "emp_salary"
   ]
  },
  {
   "cell_type": "markdown",
   "id": "331cda98",
   "metadata": {},
   "source": [
    "# permanent assigning of data"
   ]
  },
  {
   "cell_type": "code",
   "execution_count": 27,
   "id": "c6c08a97",
   "metadata": {},
   "outputs": [
    {
     "data": {
      "text/plain": [
       "[48000, 20000, 28000, 19000, 250000]"
      ]
     },
     "execution_count": 27,
     "metadata": {},
     "output_type": "execute_result"
    }
   ],
   "source": [
    "emp_salary +=[250000]\n",
    "emp_salary"
   ]
  },
  {
   "cell_type": "code",
   "execution_count": 28,
   "id": "b690120a",
   "metadata": {},
   "outputs": [
    {
     "data": {
      "text/plain": [
       "[48000, 20000, 28000, 19000, 250000]"
      ]
     },
     "execution_count": 28,
     "metadata": {},
     "output_type": "execute_result"
    }
   ],
   "source": [
    "emp_salary"
   ]
  },
  {
   "cell_type": "markdown",
   "id": "7bd25344",
   "metadata": {},
   "source": [
    "# .count = to know the know particular element repeat"
   ]
  },
  {
   "cell_type": "code",
   "execution_count": 30,
   "id": "b5959f34",
   "metadata": {},
   "outputs": [
    {
     "data": {
      "text/plain": [
       "2"
      ]
     },
     "execution_count": 30,
     "metadata": {},
     "output_type": "execute_result"
    }
   ],
   "source": [
    "# Count\n",
    "marks = [25,38,55,38,26,47,55,60,74,88,38]\n",
    "marks.count(55)"
   ]
  },
  {
   "cell_type": "code",
   "execution_count": 31,
   "id": "8ba5b731",
   "metadata": {},
   "outputs": [
    {
     "data": {
      "text/plain": [
       "2"
      ]
     },
     "execution_count": 31,
     "metadata": {},
     "output_type": "execute_result"
    }
   ],
   "source": [
    "marks.index(55)"
   ]
  },
  {
   "cell_type": "markdown",
   "id": "844a56f7",
   "metadata": {},
   "source": [
    "# .extend() - to add multiple data all at a time"
   ]
  },
  {
   "cell_type": "code",
   "execution_count": 32,
   "id": "fad5cc29",
   "metadata": {},
   "outputs": [
    {
     "data": {
      "text/plain": [
       "['Radha', 'Remo', 'Ramesh', 'Salman', 'Anu', 'Sapana']"
      ]
     },
     "execution_count": 32,
     "metadata": {},
     "output_type": "execute_result"
    }
   ],
   "source": [
    "#extend to add multiple\n",
    "employee.extend(['Anu','Sapana'])\n",
    "employee"
   ]
  },
  {
   "cell_type": "markdown",
   "id": "ae4b0f3c",
   "metadata": {},
   "source": [
    "# .pop() - to remove particular data"
   ]
  },
  {
   "cell_type": "code",
   "execution_count": 33,
   "id": "03850277",
   "metadata": {},
   "outputs": [
    {
     "data": {
      "text/plain": [
       "'Fatima'"
      ]
     },
     "execution_count": 33,
     "metadata": {},
     "output_type": "execute_result"
    }
   ],
   "source": [
    "#pop\n",
    "students = ['raj','ram','abid','nancy','Fatima']\n",
    "students.pop()"
   ]
  },
  {
   "cell_type": "code",
   "execution_count": 34,
   "id": "d4936982",
   "metadata": {},
   "outputs": [
    {
     "data": {
      "text/plain": [
       "'ram'"
      ]
     },
     "execution_count": 34,
     "metadata": {},
     "output_type": "execute_result"
    }
   ],
   "source": [
    "students.pop(1)"
   ]
  },
  {
   "cell_type": "code",
   "execution_count": 35,
   "id": "5c81b66a",
   "metadata": {},
   "outputs": [
    {
     "data": {
      "text/plain": [
       "['raj', 'abid', 'nancy']"
      ]
     },
     "execution_count": 35,
     "metadata": {},
     "output_type": "execute_result"
    }
   ],
   "source": [
    "students"
   ]
  },
  {
   "cell_type": "markdown",
   "id": "9d8973af",
   "metadata": {},
   "source": [
    "# .remove"
   ]
  },
  {
   "cell_type": "code",
   "execution_count": 36,
   "id": "a8eba79b",
   "metadata": {},
   "outputs": [
    {
     "data": {
      "text/plain": [
       "[100, 101, 102, 103, 104, 103]"
      ]
     },
     "execution_count": 36,
     "metadata": {},
     "output_type": "execute_result"
    }
   ],
   "source": [
    "#Remove()\n",
    "roll_numbers = [100,101,102,103,104,103]\n",
    "roll_numbers"
   ]
  },
  {
   "cell_type": "code",
   "execution_count": 37,
   "id": "6723c5a3",
   "metadata": {},
   "outputs": [
    {
     "data": {
      "text/plain": [
       "[100, 101, 102, 104, 103]"
      ]
     },
     "execution_count": 37,
     "metadata": {},
     "output_type": "execute_result"
    }
   ],
   "source": [
    "roll_numbers.remove(103)\n",
    "roll_numbers"
   ]
  },
  {
   "cell_type": "code",
   "execution_count": 38,
   "id": "7b32c74f",
   "metadata": {},
   "outputs": [
    {
     "data": {
      "text/plain": [
       "[100, 101, 102, 103, 104, 103]"
      ]
     },
     "execution_count": 38,
     "metadata": {},
     "output_type": "execute_result"
    }
   ],
   "source": [
    "roll_numbers = [100,101,102,103,104,103]\n",
    "roll_numbers"
   ]
  },
  {
   "cell_type": "code",
   "execution_count": 39,
   "id": "61c5686e",
   "metadata": {},
   "outputs": [
    {
     "data": {
      "text/plain": [
       "[100, 101, 102, 104, 103]"
      ]
     },
     "execution_count": 39,
     "metadata": {},
     "output_type": "execute_result"
    }
   ],
   "source": [
    "roll_numbers.remove(103)\n",
    "roll_numbers"
   ]
  },
  {
   "cell_type": "markdown",
   "id": "f5856ba1",
   "metadata": {},
   "source": [
    "# .reverse()"
   ]
  },
  {
   "cell_type": "code",
   "execution_count": 41,
   "id": "ad76118e",
   "metadata": {},
   "outputs": [
    {
     "data": {
      "text/plain": [
       "[4, 3, 2, 1]"
      ]
     },
     "execution_count": 41,
     "metadata": {},
     "output_type": "execute_result"
    }
   ],
   "source": [
    "#REVERSE\n",
    "lst = [1,2,3,4]\n",
    "lst.reverse()\n",
    "lst"
   ]
  },
  {
   "cell_type": "markdown",
   "id": "8a775936",
   "metadata": {},
   "source": [
    "# sort.()"
   ]
  },
  {
   "cell_type": "code",
   "execution_count": 42,
   "id": "21b4789e",
   "metadata": {},
   "outputs": [
    {
     "data": {
      "text/plain": [
       "[25, 38, 55, 38, 26, 47, 55, 60, 74, 88, 38]"
      ]
     },
     "execution_count": 42,
     "metadata": {},
     "output_type": "execute_result"
    }
   ],
   "source": [
    "#sort\n",
    "marks"
   ]
  },
  {
   "cell_type": "code",
   "execution_count": 43,
   "id": "18f4cc40",
   "metadata": {},
   "outputs": [
    {
     "data": {
      "text/plain": [
       "[25, 26, 38, 38, 38, 47, 55, 55, 60, 74, 88]"
      ]
     },
     "execution_count": 43,
     "metadata": {},
     "output_type": "execute_result"
    }
   ],
   "source": [
    "marks.sort()\n",
    "marks"
   ]
  },
  {
   "cell_type": "code",
   "execution_count": 44,
   "id": "85cebd44",
   "metadata": {},
   "outputs": [
    {
     "data": {
      "text/plain": [
       "[88, 74, 60, 55, 55, 47, 38, 38, 38, 26, 25]"
      ]
     },
     "execution_count": 44,
     "metadata": {},
     "output_type": "execute_result"
    }
   ],
   "source": [
    "#for desending\n",
    "marks.sort(reverse=True)\n",
    "marks"
   ]
  },
  {
   "cell_type": "markdown",
   "id": "062b4f9f",
   "metadata": {},
   "source": [
    "# TUPLE"
   ]
  },
  {
   "cell_type": "code",
   "execution_count": 45,
   "id": "3d148a51",
   "metadata": {},
   "outputs": [
    {
     "data": {
      "text/plain": [
       "('Bengaluru', 'Noida', 'Chennai', 'Delhi')"
      ]
     },
     "execution_count": 45,
     "metadata": {},
     "output_type": "execute_result"
    }
   ],
   "source": [
    "#TUPLE\n",
    "Work_Location = ('Bengaluru','Noida','Chennai','Delhi')\n",
    "Work_Location"
   ]
  },
  {
   "cell_type": "code",
   "execution_count": 46,
   "id": "580101c7",
   "metadata": {},
   "outputs": [
    {
     "data": {
      "text/plain": [
       "tuple"
      ]
     },
     "execution_count": 46,
     "metadata": {},
     "output_type": "execute_result"
    }
   ],
   "source": [
    "type(Work_Location)"
   ]
  },
  {
   "cell_type": "code",
   "execution_count": 47,
   "id": "9789a0f8",
   "metadata": {},
   "outputs": [
    {
     "data": {
      "text/plain": [
       "(20000, 350000, 40000)"
      ]
     },
     "execution_count": 47,
     "metadata": {},
     "output_type": "execute_result"
    }
   ],
   "source": [
    "emp_salary = (20000,350000,40000)\n",
    "emp_salary"
   ]
  },
  {
   "cell_type": "code",
   "execution_count": 48,
   "id": "52ffb825",
   "metadata": {},
   "outputs": [
    {
     "data": {
      "text/plain": [
       "['Bengaluru', 'Noida', 'Chennai', 'Delhi']"
      ]
     },
     "execution_count": 48,
     "metadata": {},
     "output_type": "execute_result"
    }
   ],
   "source": [
    "#to add anything convert tuple into list\n",
    "Work_Location =list(Work_Location)\n",
    "Work_Location"
   ]
  },
  {
   "cell_type": "code",
   "execution_count": 49,
   "id": "9994d4e6",
   "metadata": {},
   "outputs": [
    {
     "data": {
      "text/plain": [
       "list"
      ]
     },
     "execution_count": 49,
     "metadata": {},
     "output_type": "execute_result"
    }
   ],
   "source": [
    "type(Work_Location)"
   ]
  },
  {
   "cell_type": "code",
   "execution_count": 50,
   "id": "88ec8be8",
   "metadata": {},
   "outputs": [
    {
     "data": {
      "text/plain": [
       "('Bengaluru', 'Noida', 'Chennai', 'Delhi')"
      ]
     },
     "execution_count": 50,
     "metadata": {},
     "output_type": "execute_result"
    }
   ],
   "source": [
    "Work_Location = tuple(Work_Location)\n",
    "Work_Location"
   ]
  },
  {
   "cell_type": "code",
   "execution_count": 51,
   "id": "c4a37d48",
   "metadata": {},
   "outputs": [
    {
     "data": {
      "text/plain": [
       "4"
      ]
     },
     "execution_count": 51,
     "metadata": {},
     "output_type": "execute_result"
    }
   ],
   "source": [
    "len(Work_Location)"
   ]
  },
  {
   "cell_type": "code",
   "execution_count": null,
   "id": "c9a257c1",
   "metadata": {},
   "outputs": [],
   "source": []
  },
  {
   "cell_type": "code",
   "execution_count": null,
   "id": "96131152",
   "metadata": {},
   "outputs": [],
   "source": []
  },
  {
   "cell_type": "code",
   "execution_count": null,
   "id": "4f9581f0",
   "metadata": {},
   "outputs": [],
   "source": []
  },
  {
   "cell_type": "code",
   "execution_count": null,
   "id": "85d3f327",
   "metadata": {},
   "outputs": [],
   "source": []
  },
  {
   "cell_type": "code",
   "execution_count": null,
   "id": "d6f46c55",
   "metadata": {},
   "outputs": [],
   "source": []
  },
  {
   "cell_type": "code",
   "execution_count": null,
   "id": "a8652cbc",
   "metadata": {},
   "outputs": [],
   "source": []
  },
  {
   "cell_type": "code",
   "execution_count": null,
   "id": "56bd8feb",
   "metadata": {},
   "outputs": [],
   "source": []
  }
 ],
 "metadata": {
  "kernelspec": {
   "display_name": "Python 3 (ipykernel)",
   "language": "python",
   "name": "python3"
  },
  "language_info": {
   "codemirror_mode": {
    "name": "ipython",
    "version": 3
   },
   "file_extension": ".py",
   "mimetype": "text/x-python",
   "name": "python",
   "nbconvert_exporter": "python",
   "pygments_lexer": "ipython3",
   "version": "3.9.7"
  }
 },
 "nbformat": 4,
 "nbformat_minor": 5
}
