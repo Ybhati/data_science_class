{
 "cells": [
  {
   "cell_type": "code",
   "execution_count": 1,
   "id": "399e0d96",
   "metadata": {},
   "outputs": [
    {
     "name": "stdout",
     "output_type": "stream",
     "text": [
      "[0. 0. 0. 0. 0.]\n"
     ]
    }
   ],
   "source": [
    "import numpy as np\n",
    "print(np.zeros(5))"
   ]
  },
  {
   "cell_type": "code",
   "execution_count": 2,
   "id": "c5b95615",
   "metadata": {},
   "outputs": [
    {
     "name": "stdout",
     "output_type": "stream",
     "text": [
      "[[0. 0. 0. 0. 0. 0.]\n",
      " [0. 0. 0. 0. 0. 0.]\n",
      " [0. 0. 0. 0. 0. 0.]\n",
      " [0. 0. 0. 0. 0. 0.]\n",
      " [0. 0. 0. 0. 0. 0.]]\n"
     ]
    }
   ],
   "source": [
    "print(np.zeros((5,6)))"
   ]
  },
  {
   "cell_type": "code",
   "execution_count": 3,
   "id": "01945b0b",
   "metadata": {},
   "outputs": [
    {
     "name": "stdout",
     "output_type": "stream",
     "text": [
      "[[1. 1. 1. 1. 1. 1.]\n",
      " [1. 1. 1. 1. 1. 1.]\n",
      " [1. 1. 1. 1. 1. 1.]\n",
      " [1. 1. 1. 1. 1. 1.]\n",
      " [1. 1. 1. 1. 1. 1.]]\n"
     ]
    }
   ],
   "source": [
    "print(np.ones((5,6)))"
   ]
  },
  {
   "cell_type": "code",
   "execution_count": 4,
   "id": "547b0e92",
   "metadata": {},
   "outputs": [
    {
     "data": {
      "text/plain": [
       "array([[ 0,  1,  2,  3,  4,  5],\n",
       "       [ 6,  7,  8,  9, 10, 11],\n",
       "       [12, 13, 14, 15, 16, 17],\n",
       "       [18, 19, 20, 21, 22, 23],\n",
       "       [24, 25, 26, 27, 28, 29]])"
      ]
     },
     "execution_count": 4,
     "metadata": {},
     "output_type": "execute_result"
    }
   ],
   "source": [
    "x=np.arange(30).reshape(5,6)\n",
    "x"
   ]
  },
  {
   "cell_type": "code",
   "execution_count": 5,
   "id": "230d0ae3",
   "metadata": {},
   "outputs": [
    {
     "name": "stdout",
     "output_type": "stream",
     "text": [
      "[[0.89286015 0.33197981 0.82122912 0.04169663 0.10765668 0.59505206]\n",
      " [0.52981736 0.41880743 0.33540785 0.62251943 0.43814143 0.73588211]\n",
      " [0.51803641 0.5788586  0.6453551  0.99022427 0.8198582  0.41320093]\n",
      " [0.87626766 0.82375943 0.05447451 0.71863724 0.80217056 0.73640664]\n",
      " [0.70913175 0.54093685 0.12482417 0.9576473  0.4032563  0.21695116]\n",
      " [0.71727585 0.99420744 0.25561406 0.67130943 0.59900591 0.71733215]\n",
      " [0.93734953 0.35180977 0.2536341  0.40247251 0.74651072 0.72407057]\n",
      " [0.4061078  0.98937985 0.45049928 0.37380843 0.70962861 0.08245855]\n",
      " [0.39837292 0.77088097 0.76475098 0.28385938 0.18954219 0.47125096]\n",
      " [0.33480604 0.73473504 0.18910712 0.33110407 0.84422842 0.61502403]]\n"
     ]
    }
   ],
   "source": [
    "#random number generation\n",
    "import numpy as np\n",
    "#RAND\n",
    "np.random.seed(6)\n",
    "print(np.random.rand(10,6))\n",
    "# always gonna have +ve value and value is always less than 1, t follows pattern we can got same value for the same number only if we give seed number"
   ]
  },
  {
   "cell_type": "code",
   "execution_count": 6,
   "id": "7a4470a1",
   "metadata": {},
   "outputs": [
    {
     "name": "stdout",
     "output_type": "stream",
     "text": [
      "[[-0.37550472  0.39636757 -0.47144628]\n",
      " [ 2.33660781  1.50278553 -0.59545972]\n",
      " [ 0.52834106  0.9398248   0.42628539]\n",
      " [-0.75815703 -0.16236698  0.72680996]\n",
      " [ 0.44408297 -0.85682264  0.44692842]\n",
      " [-1.01464799 -2.1323234   0.17386307]\n",
      " [ 0.95120126  0.44189739  1.46901739]\n",
      " [ 1.74951635  0.35353062 -0.64333729]\n",
      " [-0.04723705 -1.44903979 -0.03618977]\n",
      " [-0.09084699  0.17629034  1.09462041]]\n"
     ]
    }
   ],
   "source": [
    "#randn\n",
    "print(np.random.randn(10,3))\n",
    "#can have -ve,+ve number, values can be -1 to +1, mean gonna be very near to 0 and below, gonna have graph in shape of bell"
   ]
  },
  {
   "cell_type": "code",
   "execution_count": 7,
   "id": "53ba3237",
   "metadata": {},
   "outputs": [
    {
     "name": "stdout",
     "output_type": "stream",
     "text": [
      "[12 12 16 10  8 13 12  8 15 10 14  8 13  5 12 17 12 18  5  8 10  8 18  7\n",
      " 17  8 19  9 18 18 14  5 13 11 19  8  7  6 11 13 13 14  5 12 11  5  6 13\n",
      " 10 19 14 17 13 18 10 14 17  6 17  6  7 14 14 10 16 11  9 15  5  9  7 11\n",
      "  7 17  6 19 17 19 15 14  7  5 16  7  7 15 10  5 12 17 16 11 11 15  5 14\n",
      " 10 18 19  9]\n"
     ]
    }
   ],
   "source": [
    "#randint\n",
    "print(np.random.randint(5,20,100))\n"
   ]
  },
  {
   "cell_type": "code",
   "execution_count": 8,
   "id": "d74ebebd",
   "metadata": {},
   "outputs": [
    {
     "name": "stdout",
     "output_type": "stream",
     "text": [
      "[[27 25  3 28 21  3  4]\n",
      " [12 10  5 15 17  6 27]\n",
      " [ 8 23  2  2 24  2  7]\n",
      " [27 25  2  6 10 29 14]\n",
      " [ 3 19 12 21 11 27  9]\n",
      " [ 8  2 22  4 21  7  5]\n",
      " [22  7  9 22 10 24 28]\n",
      " [ 1  4 21 23 29  3  8]\n",
      " [16 23  1  6 15 15 25]]\n"
     ]
    }
   ],
   "source": [
    "print(np.random.randint(1,30,(9,7)))\n"
   ]
  },
  {
   "cell_type": "code",
   "execution_count": 9,
   "id": "e3796c44",
   "metadata": {},
   "outputs": [
    {
     "data": {
      "text/plain": [
       "array([37, 68, 48, 50, 66, 32, 14, 41, 54, 13])"
      ]
     },
     "execution_count": 9,
     "metadata": {},
     "output_type": "execute_result"
    }
   ],
   "source": [
    "#numpy condition\n",
    "#below are the employee salary\n",
    "emp_salary=np.random.randint(8,70,10)\n",
    "emp_salary"
   ]
  },
  {
   "cell_type": "code",
   "execution_count": 10,
   "id": "58791798",
   "metadata": {},
   "outputs": [
    {
     "data": {
      "text/plain": [
       "array([37, 50, 48, 50, 50, 32, 20, 41, 50, 20])"
      ]
     },
     "execution_count": 10,
     "metadata": {},
     "output_type": "execute_result"
    }
   ],
   "source": [
    "#set max and min salary\n",
    "np.clip(emp_salary,a_min = 20,a_max=50)"
   ]
  },
  {
   "cell_type": "code",
   "execution_count": 11,
   "id": "3cdb1acb",
   "metadata": {},
   "outputs": [
    {
     "name": "stdout",
     "output_type": "stream",
     "text": [
      "(array([6, 9], dtype=int64),)\n"
     ]
    }
   ],
   "source": [
    "#if you want to find out actuallly salary which are less than or greater than some salary use np.where\n",
    "#np.where gives index details\n",
    "print(np.where(emp_salary <20))"
   ]
  },
  {
   "cell_type": "code",
   "execution_count": 12,
   "id": "0a0269a8",
   "metadata": {},
   "outputs": [
    {
     "data": {
      "text/plain": [
       "array([37, 48, 66])"
      ]
     },
     "execution_count": 12,
     "metadata": {},
     "output_type": "execute_result"
    }
   ],
   "source": [
    "#if you want to see actual data use index\n",
    "emp_salary[[0,2,4]]"
   ]
  },
  {
   "cell_type": "code",
   "execution_count": 13,
   "id": "b0ffdd0f",
   "metadata": {},
   "outputs": [
    {
     "data": {
      "text/plain": [
       "array([12, 43, 12, 45,  2,  8,  8, 97, 70, 64,  6,  9, 46, 75,  4, 37, 40,\n",
       "       67, 43, 23, 82, 51, 84, 84, 19, 78, 48, 66, 97, 70])"
      ]
     },
     "execution_count": 13,
     "metadata": {},
     "output_type": "execute_result"
    }
   ],
   "source": [
    "#reshapping in other ways\n",
    "import numpy as np\n",
    "from numpy.random import randint as ri\n",
    "a=ri(1,99,30)\n",
    "a"
   ]
  },
  {
   "cell_type": "code",
   "execution_count": 14,
   "id": "594147bd",
   "metadata": {},
   "outputs": [
    {
     "data": {
      "text/plain": [
       "array([[[12, 43, 12, 45,  2],\n",
       "        [ 8,  8, 97, 70, 64],\n",
       "        [ 6,  9, 46, 75,  4]],\n",
       "\n",
       "       [[37, 40, 67, 43, 23],\n",
       "        [82, 51, 84, 84, 19],\n",
       "        [78, 48, 66, 97, 70]]])"
      ]
     },
     "execution_count": 14,
     "metadata": {},
     "output_type": "execute_result"
    }
   ],
   "source": [
    "b=a.reshape(2,3,5)\n",
    "b"
   ]
  },
  {
   "cell_type": "code",
   "execution_count": 15,
   "id": "a1a1816b",
   "metadata": {},
   "outputs": [
    {
     "data": {
      "text/plain": [
       "array([[12, 43, 12, 45,  2],\n",
       "       [ 8,  8, 97, 70, 64],\n",
       "       [ 6,  9, 46, 75,  4],\n",
       "       [37, 40, 67, 43, 23],\n",
       "       [82, 51, 84, 84, 19],\n",
       "       [78, 48, 66, 97, 70]])"
      ]
     },
     "execution_count": 15,
     "metadata": {},
     "output_type": "execute_result"
    }
   ],
   "source": [
    "c=a.reshape(6,5)\n",
    "c"
   ]
  },
  {
   "cell_type": "code",
   "execution_count": 16,
   "id": "e8f8e93d",
   "metadata": {},
   "outputs": [
    {
     "name": "stdout",
     "output_type": "stream",
     "text": [
      "Min of a 2\n",
      "Max of b 97\n"
     ]
    }
   ],
   "source": [
    "print('Min of a',c.min())\n",
    "print('Max of b',c.max())"
   ]
  },
  {
   "cell_type": "code",
   "execution_count": 17,
   "id": "46275608",
   "metadata": {},
   "outputs": [
    {
     "name": "stdout",
     "output_type": "stream",
     "text": [
      "[[45 21 17 85 55]\n",
      " [50 73 83 85 20]\n",
      " [28  6 85 61  6]\n",
      " [16 38  7 28 80]\n",
      " [56 24 84 36  3]]\n",
      "[[17 21 45 55 85]\n",
      " [20 50 73 83 85]\n",
      " [ 6  6 28 61 85]\n",
      " [ 7 16 28 38 80]\n",
      " [ 3 24 36 56 84]]\n",
      "[[16  6  7 28  3]\n",
      " [28 21 17 36  6]\n",
      " [45 24 83 61 20]\n",
      " [50 38 84 85 55]\n",
      " [56 73 85 85 80]]\n"
     ]
    }
   ],
   "source": [
    "M=ri(1,100,25).reshape(5,5)\n",
    "print(M)\n",
    "print(np.sort(M))\n",
    "print(np.sort(M,axis=0))"
   ]
  },
  {
   "cell_type": "code",
   "execution_count": 18,
   "id": "12d25728",
   "metadata": {},
   "outputs": [
    {
     "name": "stdout",
     "output_type": "stream",
     "text": [
      "[13 14 15 16 17 18 19 20 21 22 23 24 25 26 27 28 29]\n"
     ]
    }
   ],
   "source": [
    "#index and slicing\n",
    "arr=np.arange(13,30)\n",
    "print(arr)"
   ]
  },
  {
   "cell_type": "code",
   "execution_count": 19,
   "id": "97a8656d",
   "metadata": {},
   "outputs": [
    {
     "name": "stdout",
     "output_type": "stream",
     "text": [
      "20\n"
     ]
    }
   ],
   "source": [
    "print(arr[7])"
   ]
  },
  {
   "cell_type": "code",
   "execution_count": 20,
   "id": "ac7a26ff",
   "metadata": {},
   "outputs": [
    {
     "name": "stdout",
     "output_type": "stream",
     "text": [
      "[16 17 18]\n"
     ]
    }
   ],
   "source": [
    "print(arr[3:6])"
   ]
  },
  {
   "cell_type": "code",
   "execution_count": 21,
   "id": "a932cd8d",
   "metadata": {},
   "outputs": [
    {
     "name": "stdout",
     "output_type": "stream",
     "text": [
      "[17 18 19 20 21 22 23 24 25 26 27 28 29]\n"
     ]
    }
   ],
   "source": [
    "print(arr[4:])\n",
    "abc=arr[4:]"
   ]
  },
  {
   "cell_type": "code",
   "execution_count": 22,
   "id": "1dd7ffc1",
   "metadata": {},
   "outputs": [
    {
     "data": {
      "text/plain": [
       "array([17, 18, 19, 20, 21, 22, 23, 24, 25, 26, 27, 28, 29])"
      ]
     },
     "execution_count": 22,
     "metadata": {},
     "output_type": "execute_result"
    }
   ],
   "source": [
    "abc"
   ]
  },
  {
   "cell_type": "code",
   "execution_count": 23,
   "id": "4eb30036",
   "metadata": {},
   "outputs": [
    {
     "data": {
      "text/plain": [
       "array([13, 14, 15, 16, 17, 18, 19, 20, 21, 22, 23, 24, 25, 26, 27, 28, 29])"
      ]
     },
     "execution_count": 23,
     "metadata": {},
     "output_type": "execute_result"
    }
   ],
   "source": [
    "arr"
   ]
  },
  {
   "cell_type": "code",
   "execution_count": 24,
   "id": "88081a95",
   "metadata": {},
   "outputs": [
    {
     "name": "stdout",
     "output_type": "stream",
     "text": [
      "[29 27 25 23 21 19 17 15 13]\n"
     ]
    }
   ],
   "source": [
    "print(arr[-1::-2])"
   ]
  },
  {
   "cell_type": "code",
   "execution_count": 25,
   "id": "06169e7d",
   "metadata": {},
   "outputs": [
    {
     "data": {
      "text/plain": [
       "array([ 0,  2,  4,  6,  8, 10, 12, 14, 16, 18, 20])"
      ]
     },
     "execution_count": 25,
     "metadata": {},
     "output_type": "execute_result"
    }
   ],
   "source": [
    "arr=np.arange(0,21,2)\n",
    "arr"
   ]
  },
  {
   "cell_type": "code",
   "execution_count": 26,
   "id": "901e9837",
   "metadata": {},
   "outputs": [
    {
     "name": "stdout",
     "output_type": "stream",
     "text": [
      "[ 4  8 18]\n"
     ]
    }
   ],
   "source": [
    "print(arr[[2,4,9]]) #to find the index"
   ]
  },
  {
   "cell_type": "code",
   "execution_count": 29,
   "id": "3aab1ee8",
   "metadata": {},
   "outputs": [
    {
     "data": {
      "text/plain": [
       "array([[1, 2, 3],\n",
       "       [4, 5, 6],\n",
       "       [7, 8, 9]])"
      ]
     },
     "execution_count": 29,
     "metadata": {},
     "output_type": "execute_result"
    }
   ],
   "source": [
    "my_mat=[[1,2,3],[4,5,6],[7,8,9]]\n",
    "mat=np.array(my_mat)\n",
    "mat"
   ]
  },
  {
   "cell_type": "code",
   "execution_count": 30,
   "id": "8bfac8ea",
   "metadata": {},
   "outputs": [
    {
     "data": {
      "text/plain": [
       "6"
      ]
     },
     "execution_count": 30,
     "metadata": {},
     "output_type": "execute_result"
    }
   ],
   "source": [
    "mat[1][2]"
   ]
  },
  {
   "cell_type": "code",
   "execution_count": 31,
   "id": "655210d4",
   "metadata": {},
   "outputs": [
    {
     "data": {
      "text/plain": [
       "array([[1, 2, 3],\n",
       "       [4, 5, 6],\n",
       "       [7, 8, 9]])"
      ]
     },
     "execution_count": 31,
     "metadata": {},
     "output_type": "execute_result"
    }
   ],
   "source": [
    "mat"
   ]
  },
  {
   "cell_type": "code",
   "execution_count": 32,
   "id": "7d703579",
   "metadata": {},
   "outputs": [
    {
     "data": {
      "text/plain": [
       "array([7, 8, 9])"
      ]
     },
     "execution_count": 32,
     "metadata": {},
     "output_type": "execute_result"
    }
   ],
   "source": [
    "mat[2]"
   ]
  },
  {
   "cell_type": "code",
   "execution_count": 33,
   "id": "e7636b85",
   "metadata": {},
   "outputs": [
    {
     "data": {
      "text/plain": [
       "array([[2, 3],\n",
       "       [5, 6],\n",
       "       [8, 9]])"
      ]
     },
     "execution_count": 33,
     "metadata": {},
     "output_type": "execute_result"
    }
   ],
   "source": [
    "mat[:,1:]"
   ]
  },
  {
   "cell_type": "code",
   "execution_count": 34,
   "id": "aa811e5a",
   "metadata": {},
   "outputs": [
    {
     "data": {
      "text/plain": [
       "array([[1, 2, 3],\n",
       "       [4, 5, 6],\n",
       "       [7, 8, 9]])"
      ]
     },
     "execution_count": 34,
     "metadata": {},
     "output_type": "execute_result"
    }
   ],
   "source": [
    "mat[:]"
   ]
  },
  {
   "cell_type": "code",
   "execution_count": 35,
   "id": "154b2652",
   "metadata": {},
   "outputs": [
    {
     "data": {
      "text/plain": [
       "array([[4, 5, 6],\n",
       "       [7, 8, 9]])"
      ]
     },
     "execution_count": 35,
     "metadata": {},
     "output_type": "execute_result"
    }
   ],
   "source": [
    "mat[1:]"
   ]
  },
  {
   "cell_type": "code",
   "execution_count": 36,
   "id": "11e9dd3e",
   "metadata": {},
   "outputs": [
    {
     "data": {
      "text/plain": [
       "array([[5]])"
      ]
     },
     "execution_count": 36,
     "metadata": {},
     "output_type": "execute_result"
    }
   ],
   "source": [
    "mat[1:2,1:2]"
   ]
  },
  {
   "cell_type": "code",
   "execution_count": 37,
   "id": "156d79b1",
   "metadata": {},
   "outputs": [
    {
     "data": {
      "text/plain": [
       "array([[1, 2, 3],\n",
       "       [4, 5, 6],\n",
       "       [7, 8, 9]])"
      ]
     },
     "execution_count": 37,
     "metadata": {},
     "output_type": "execute_result"
    }
   ],
   "source": [
    "mat"
   ]
  },
  {
   "cell_type": "code",
   "execution_count": 38,
   "id": "53ffa3ad",
   "metadata": {},
   "outputs": [
    {
     "name": "stdout",
     "output_type": "stream",
     "text": [
      "[[2 3]\n",
      " [5 6]]\n"
     ]
    }
   ],
   "source": [
    "print(mat[0:2,[1,2]])"
   ]
  },
  {
   "cell_type": "code",
   "execution_count": 39,
   "id": "9e202a09",
   "metadata": {},
   "outputs": [
    {
     "data": {
      "text/plain": [
       "array([[1, 2, 3],\n",
       "       [4, 5, 6],\n",
       "       [7, 8, 9]])"
      ]
     },
     "execution_count": 39,
     "metadata": {},
     "output_type": "execute_result"
    }
   ],
   "source": [
    "#update matrix\n",
    "mat"
   ]
  },
  {
   "cell_type": "code",
   "execution_count": 40,
   "id": "68332cff",
   "metadata": {},
   "outputs": [
    {
     "data": {
      "text/plain": [
       "array([[ 1, 35,  3],\n",
       "       [ 4,  5,  6],\n",
       "       [ 7,  8,  9]])"
      ]
     },
     "execution_count": 40,
     "metadata": {},
     "output_type": "execute_result"
    }
   ],
   "source": [
    "mat[0,1]=35\n",
    "mat"
   ]
  },
  {
   "cell_type": "code",
   "execution_count": 41,
   "id": "5130f340",
   "metadata": {},
   "outputs": [
    {
     "data": {
      "text/plain": [
       "array([[  1,  35,   3],\n",
       "       [100,   5,   6],\n",
       "       [  7,   8,   9]])"
      ]
     },
     "execution_count": 41,
     "metadata": {},
     "output_type": "execute_result"
    }
   ],
   "source": [
    "mat[1,0]=100\n",
    "mat"
   ]
  },
  {
   "cell_type": "code",
   "execution_count": 42,
   "id": "d3018cd1",
   "metadata": {},
   "outputs": [
    {
     "data": {
      "text/plain": [
       "array([[91, 64, 33, 73, 68],\n",
       "       [29, 28, 81, 36, 67],\n",
       "       [37, 30, 36, 90, 67]])"
      ]
     },
     "execution_count": 42,
     "metadata": {},
     "output_type": "execute_result"
    }
   ],
   "source": [
    "#subseting\n",
    "mat=np.array(ri(10,100,15)).reshape(3,5)\n",
    "mat"
   ]
  },
  {
   "cell_type": "code",
   "execution_count": 43,
   "id": "b38f7efd",
   "metadata": {},
   "outputs": [
    {
     "data": {
      "text/plain": [
       "array([91, 73, 81, 90])"
      ]
     },
     "execution_count": 43,
     "metadata": {},
     "output_type": "execute_result"
    }
   ],
   "source": [
    "xyz=mat[mat>70]\n",
    "xyz"
   ]
  },
  {
   "cell_type": "code",
   "execution_count": 44,
   "id": "3277ef59",
   "metadata": {},
   "outputs": [
    {
     "data": {
      "text/plain": [
       "array([91, 64, 73, 68, 81, 67, 90, 67])"
      ]
     },
     "execution_count": 44,
     "metadata": {},
     "output_type": "execute_result"
    }
   ],
   "source": [
    "xyz=mat[mat>50]\n",
    "xyz"
   ]
  },
  {
   "cell_type": "code",
   "execution_count": 61,
   "id": "cdabd5c2",
   "metadata": {},
   "outputs": [
    {
     "name": "stdout",
     "output_type": "stream",
     "text": [
      "(array([0], dtype=int64), array([0], dtype=int64))\n"
     ]
    }
   ],
   "source": [
    "print(np.where(mat==91))"
   ]
  },
  {
   "cell_type": "code",
   "execution_count": 46,
   "id": "0bbf9f7d",
   "metadata": {},
   "outputs": [
    {
     "data": {
      "text/plain": [
       "array([[5, 1, 1],\n",
       "       [5, 5, 4],\n",
       "       [5, 5, 7]])"
      ]
     },
     "execution_count": 46,
     "metadata": {},
     "output_type": "execute_result"
    }
   ],
   "source": [
    "#universal functions\n",
    "mat1=np.array(ri(1,10,9)).reshape(3,3)\n",
    "mat2=np.array(ri(1,10,9)).reshape(3,3)\n",
    "mat1\n"
   ]
  },
  {
   "cell_type": "code",
   "execution_count": 47,
   "id": "56fc41a5",
   "metadata": {},
   "outputs": [
    {
     "data": {
      "text/plain": [
       "array([[8, 1, 6],\n",
       "       [8, 6, 3],\n",
       "       [2, 2, 2]])"
      ]
     },
     "execution_count": 47,
     "metadata": {},
     "output_type": "execute_result"
    }
   ],
   "source": [
    "mat2"
   ]
  },
  {
   "cell_type": "code",
   "execution_count": 48,
   "id": "83c7d9e0",
   "metadata": {},
   "outputs": [
    {
     "name": "stdout",
     "output_type": "stream",
     "text": [
      "[[13  2  7]\n",
      " [13 11  7]\n",
      " [ 7  7  9]]\n"
     ]
    }
   ],
   "source": [
    "print(mat1+mat2)"
   ]
  },
  {
   "cell_type": "code",
   "execution_count": 49,
   "id": "bdd60b2d",
   "metadata": {},
   "outputs": [
    {
     "name": "stdout",
     "output_type": "stream",
     "text": [
      "[[40  1  6]\n",
      " [40 30 12]\n",
      " [10 10 14]]\n"
     ]
    }
   ],
   "source": [
    "print(mat1*mat2)"
   ]
  },
  {
   "cell_type": "code",
   "execution_count": 50,
   "id": "5d59d215",
   "metadata": {},
   "outputs": [
    {
     "name": "stdout",
     "output_type": "stream",
     "text": [
      "[[5 1 1]\n",
      " [5 5 4]\n",
      " [5 5 7]]\n",
      "[[8 1 6]\n",
      " [8 6 3]\n",
      " [2 2 2]]\n"
     ]
    }
   ],
   "source": [
    "print(mat1)\n",
    "\"/n\"\n",
    "print(mat2)"
   ]
  },
  {
   "cell_type": "code",
   "execution_count": 51,
   "id": "2b2642f5",
   "metadata": {},
   "outputs": [
    {
     "name": "stdout",
     "output_type": "stream",
     "text": [
      "[[0.625      1.         0.16666667]\n",
      " [0.625      0.83333333 1.33333333]\n",
      " [2.5        2.5        3.5       ]]\n"
     ]
    }
   ],
   "source": [
    "print(mat1/mat2)"
   ]
  },
  {
   "cell_type": "code",
   "execution_count": 52,
   "id": "db5fdc1c",
   "metadata": {},
   "outputs": [
    {
     "name": "stdout",
     "output_type": "stream",
     "text": [
      "[[40  1  6]\n",
      " [40 30 12]\n",
      " [10 10 14]]\n"
     ]
    }
   ],
   "source": [
    "print(mat1*mat2)"
   ]
  },
  {
   "cell_type": "code",
   "execution_count": 53,
   "id": "62d64c23",
   "metadata": {},
   "outputs": [
    {
     "data": {
      "text/plain": [
       "array([[0., 0., 0.],\n",
       "       [0., 0., 0.],\n",
       "       [0., 0., 0.]])"
      ]
     },
     "execution_count": 53,
     "metadata": {},
     "output_type": "execute_result"
    }
   ],
   "source": [
    "#Broadcasting\n",
    "start=np.zeros((3,3))\n",
    "start"
   ]
  },
  {
   "cell_type": "code",
   "execution_count": 54,
   "id": "19194f87",
   "metadata": {},
   "outputs": [
    {
     "data": {
      "text/plain": [
       "array([[1, 0, 2]])"
      ]
     },
     "execution_count": 54,
     "metadata": {},
     "output_type": "execute_result"
    }
   ],
   "source": [
    "add_rows=np.array([[1,0,2]])\n",
    "add_rows"
   ]
  },
  {
   "cell_type": "code",
   "execution_count": 55,
   "id": "57352018",
   "metadata": {},
   "outputs": [
    {
     "data": {
      "text/plain": [
       "array([[1., 0., 2.],\n",
       "       [1., 0., 2.],\n",
       "       [1., 0., 2.]])"
      ]
     },
     "execution_count": 55,
     "metadata": {},
     "output_type": "execute_result"
    }
   ],
   "source": [
    "y=start+add_rows\n",
    "y"
   ]
  },
  {
   "cell_type": "code",
   "execution_count": 56,
   "id": "0f910d87",
   "metadata": {},
   "outputs": [
    {
     "data": {
      "text/plain": [
       "array([[1],\n",
       "       [0],\n",
       "       [2]])"
      ]
     },
     "execution_count": 56,
     "metadata": {},
     "output_type": "execute_result"
    }
   ],
   "source": [
    "new_row=add_rows.T\n",
    "new_row"
   ]
  },
  {
   "cell_type": "code",
   "execution_count": 57,
   "id": "93b88873",
   "metadata": {},
   "outputs": [
    {
     "name": "stdout",
     "output_type": "stream",
     "text": [
      "[[7 8 7]\n",
      " [5 4 2]\n",
      " [1 7 8]]\n",
      "[[5 1 7]\n",
      " [3 4 2]\n",
      " [3 1 8]]\n"
     ]
    }
   ],
   "source": [
    "#Array math\n",
    "mat1=np.array(ri(1,10,9)).reshape(3,3)\n",
    "mat2=np.array(ri(1,10,9)).reshape(3,3)\n",
    "print(mat1)\n",
    "print(mat2)"
   ]
  },
  {
   "cell_type": "code",
   "execution_count": 58,
   "id": "0ae4620e",
   "metadata": {},
   "outputs": [
    {
     "data": {
      "text/plain": [
       "array([[2.64575131, 2.82842712, 2.64575131],\n",
       "       [2.23606798, 2.        , 1.41421356],\n",
       "       [1.        , 2.64575131, 2.82842712]])"
      ]
     },
     "execution_count": 58,
     "metadata": {},
     "output_type": "execute_result"
    }
   ],
   "source": [
    "np.sqrt(mat1)"
   ]
  },
  {
   "cell_type": "code",
   "execution_count": 59,
   "id": "dcd3f6b8",
   "metadata": {},
   "outputs": [
    {
     "data": {
      "text/plain": [
       "array([[49, 64, 49],\n",
       "       [25, 16,  4],\n",
       "       [ 1, 49, 64]], dtype=int32)"
      ]
     },
     "execution_count": 59,
     "metadata": {},
     "output_type": "execute_result"
    }
   ],
   "source": [
    "np.square(mat1)"
   ]
  },
  {
   "cell_type": "code",
   "execution_count": 60,
   "id": "5c030fec",
   "metadata": {},
   "outputs": [
    {
     "name": "stdout",
     "output_type": "stream",
     "text": [
      "['ALLOW_THREADS', 'AxisError', 'BUFSIZE', 'Bytes0', 'CLIP', 'ComplexWarning', 'DataSource', 'Datetime64', 'ERR_CALL', 'ERR_DEFAULT', 'ERR_IGNORE', 'ERR_LOG', 'ERR_PRINT', 'ERR_RAISE', 'ERR_WARN', 'FLOATING_POINT_SUPPORT', 'FPE_DIVIDEBYZERO', 'FPE_INVALID', 'FPE_OVERFLOW', 'FPE_UNDERFLOW', 'False_', 'Inf', 'Infinity', 'MAXDIMS', 'MAY_SHARE_BOUNDS', 'MAY_SHARE_EXACT', 'MachAr', 'ModuleDeprecationWarning', 'NAN', 'NINF', 'NZERO', 'NaN', 'PINF', 'PZERO', 'RAISE', 'RankWarning', 'SHIFT_DIVIDEBYZERO', 'SHIFT_INVALID', 'SHIFT_OVERFLOW', 'SHIFT_UNDERFLOW', 'ScalarType', 'Str0', 'Tester', 'TooHardError', 'True_', 'UFUNC_BUFSIZE_DEFAULT', 'UFUNC_PYVALS_NAME', 'Uint64', 'VisibleDeprecationWarning', 'WRAP', '_NoValue', '_UFUNC_API', '__NUMPY_SETUP__', '__all__', '__builtins__', '__cached__', '__config__', '__deprecated_attrs__', '__dir__', '__doc__', '__expired_functions__', '__file__', '__getattr__', '__git_revision__', '__loader__', '__mkl_version__', '__name__', '__package__', '__path__', '__spec__', '__version__', '_add_newdoc_ufunc', '_distributor_init', '_financial_names', '_globals', '_mat', '_pytesttester', 'abs', 'absolute', 'add', 'add_docstring', 'add_newdoc', 'add_newdoc_ufunc', 'alen', 'all', 'allclose', 'alltrue', 'amax', 'amin', 'angle', 'any', 'append', 'apply_along_axis', 'apply_over_axes', 'arange', 'arccos', 'arccosh', 'arcsin', 'arcsinh', 'arctan', 'arctan2', 'arctanh', 'argmax', 'argmin', 'argpartition', 'argsort', 'argwhere', 'around', 'array', 'array2string', 'array_equal', 'array_equiv', 'array_repr', 'array_split', 'array_str', 'asanyarray', 'asarray', 'asarray_chkfinite', 'ascontiguousarray', 'asfarray', 'asfortranarray', 'asmatrix', 'asscalar', 'atleast_1d', 'atleast_2d', 'atleast_3d', 'average', 'bartlett', 'base_repr', 'binary_repr', 'bincount', 'bitwise_and', 'bitwise_not', 'bitwise_or', 'bitwise_xor', 'blackman', 'block', 'bmat', 'bool8', 'bool_', 'broadcast', 'broadcast_arrays', 'broadcast_shapes', 'broadcast_to', 'busday_count', 'busday_offset', 'busdaycalendar', 'byte', 'byte_bounds', 'bytes0', 'bytes_', 'c_', 'can_cast', 'cast', 'cbrt', 'cdouble', 'ceil', 'cfloat', 'char', 'character', 'chararray', 'choose', 'clip', 'clongdouble', 'clongfloat', 'column_stack', 'common_type', 'compare_chararrays', 'compat', 'complex128', 'complex64', 'complex_', 'complexfloating', 'compress', 'concatenate', 'conj', 'conjugate', 'convolve', 'copy', 'copysign', 'copyto', 'core', 'corrcoef', 'correlate', 'cos', 'cosh', 'count_nonzero', 'cov', 'cross', 'csingle', 'ctypeslib', 'cumprod', 'cumproduct', 'cumsum', 'datetime64', 'datetime_as_string', 'datetime_data', 'deg2rad', 'degrees', 'delete', 'deprecate', 'deprecate_with_doc', 'diag', 'diag_indices', 'diag_indices_from', 'diagflat', 'diagonal', 'diff', 'digitize', 'disp', 'divide', 'divmod', 'dot', 'double', 'dsplit', 'dstack', 'dtype', 'e', 'ediff1d', 'einsum', 'einsum_path', 'emath', 'empty', 'empty_like', 'equal', 'errstate', 'euler_gamma', 'exp', 'exp2', 'expand_dims', 'expm1', 'extract', 'eye', 'fabs', 'fastCopyAndTranspose', 'fft', 'fill_diagonal', 'find_common_type', 'finfo', 'fix', 'flatiter', 'flatnonzero', 'flexible', 'flip', 'fliplr', 'flipud', 'float16', 'float32', 'float64', 'float_', 'float_power', 'floating', 'floor', 'floor_divide', 'fmax', 'fmin', 'fmod', 'format_float_positional', 'format_float_scientific', 'format_parser', 'frexp', 'frombuffer', 'fromfile', 'fromfunction', 'fromiter', 'frompyfunc', 'fromregex', 'fromstring', 'full', 'full_like', 'gcd', 'generic', 'genfromtxt', 'geomspace', 'get_array_wrap', 'get_include', 'get_printoptions', 'getbufsize', 'geterr', 'geterrcall', 'geterrobj', 'gradient', 'greater', 'greater_equal', 'half', 'hamming', 'hanning', 'heaviside', 'histogram', 'histogram2d', 'histogram_bin_edges', 'histogramdd', 'hsplit', 'hstack', 'hypot', 'i0', 'identity', 'iinfo', 'imag', 'in1d', 'index_exp', 'indices', 'inexact', 'inf', 'info', 'infty', 'inner', 'insert', 'int0', 'int16', 'int32', 'int64', 'int8', 'int_', 'intc', 'integer', 'interp', 'intersect1d', 'intp', 'invert', 'is_busday', 'isclose', 'iscomplex', 'iscomplexobj', 'isfinite', 'isfortran', 'isin', 'isinf', 'isnan', 'isnat', 'isneginf', 'isposinf', 'isreal', 'isrealobj', 'isscalar', 'issctype', 'issubclass_', 'issubdtype', 'issubsctype', 'iterable', 'ix_', 'kaiser', 'kron', 'lcm', 'ldexp', 'left_shift', 'less', 'less_equal', 'lexsort', 'lib', 'linalg', 'linspace', 'little_endian', 'load', 'loads', 'loadtxt', 'log', 'log10', 'log1p', 'log2', 'logaddexp', 'logaddexp2', 'logical_and', 'logical_not', 'logical_or', 'logical_xor', 'logspace', 'longcomplex', 'longdouble', 'longfloat', 'longlong', 'lookfor', 'ma', 'mafromtxt', 'mask_indices', 'mat', 'math', 'matmul', 'matrix', 'matrixlib', 'max', 'maximum', 'maximum_sctype', 'may_share_memory', 'mean', 'median', 'memmap', 'meshgrid', 'mgrid', 'min', 'min_scalar_type', 'minimum', 'mintypecode', 'mkl', 'mod', 'modf', 'moveaxis', 'msort', 'multiply', 'nan', 'nan_to_num', 'nanargmax', 'nanargmin', 'nancumprod', 'nancumsum', 'nanmax', 'nanmean', 'nanmedian', 'nanmin', 'nanpercentile', 'nanprod', 'nanquantile', 'nanstd', 'nansum', 'nanvar', 'nbytes', 'ndarray', 'ndenumerate', 'ndfromtxt', 'ndim', 'ndindex', 'nditer', 'negative', 'nested_iters', 'newaxis', 'nextafter', 'nonzero', 'not_equal', 'numarray', 'number', 'obj2sctype', 'object0', 'object_', 'ogrid', 'oldnumeric', 'ones', 'ones_like', 'os', 'outer', 'packbits', 'pad', 'partition', 'percentile', 'pi', 'piecewise', 'place', 'poly', 'poly1d', 'polyadd', 'polyder', 'polydiv', 'polyfit', 'polyint', 'polymul', 'polynomial', 'polysub', 'polyval', 'positive', 'power', 'printoptions', 'prod', 'product', 'promote_types', 'ptp', 'put', 'put_along_axis', 'putmask', 'quantile', 'r_', 'rad2deg', 'radians', 'random', 'ravel', 'ravel_multi_index', 'real', 'real_if_close', 'rec', 'recarray', 'recfromcsv', 'recfromtxt', 'reciprocal', 'record', 'remainder', 'repeat', 'require', 'reshape', 'resize', 'result_type', 'right_shift', 'rint', 'roll', 'rollaxis', 'roots', 'rot90', 'round', 'round_', 'row_stack', 's_', 'safe_eval', 'save', 'savetxt', 'savez', 'savez_compressed', 'sctype2char', 'sctypeDict', 'sctypes', 'searchsorted', 'select', 'set_numeric_ops', 'set_printoptions', 'set_string_function', 'setbufsize', 'setdiff1d', 'seterr', 'seterrcall', 'seterrobj', 'setxor1d', 'shape', 'shares_memory', 'short', 'show_config', 'sign', 'signbit', 'signedinteger', 'sin', 'sinc', 'single', 'singlecomplex', 'sinh', 'size', 'sometrue', 'sort', 'sort_complex', 'source', 'spacing', 'split', 'sqrt', 'square', 'squeeze', 'stack', 'std', 'str0', 'str_', 'string_', 'subtract', 'sum', 'swapaxes', 'sys', 'take', 'take_along_axis', 'tan', 'tanh', 'tensordot', 'test', 'testing', 'tile', 'timedelta64', 'trace', 'tracemalloc_domain', 'transpose', 'trapz', 'tri', 'tril', 'tril_indices', 'tril_indices_from', 'trim_zeros', 'triu', 'triu_indices', 'triu_indices_from', 'true_divide', 'trunc', 'typeDict', 'typecodes', 'typename', 'ubyte', 'ufunc', 'uint', 'uint0', 'uint16', 'uint32', 'uint64', 'uint8', 'uintc', 'uintp', 'ulonglong', 'unicode_', 'union1d', 'unique', 'unpackbits', 'unravel_index', 'unsignedinteger', 'unwrap', 'use_hugepage', 'ushort', 'vander', 'var', 'vdot', 'vectorize', 'version', 'void', 'void0', 'vsplit', 'vstack', 'warnings', 'where', 'who', 'zeros', 'zeros_like']\n"
     ]
    }
   ],
   "source": [
    "import numpy\n",
    "print(dir(numpy))"
   ]
  },
  {
   "cell_type": "code",
   "execution_count": null,
   "id": "0bcb5382",
   "metadata": {},
   "outputs": [],
   "source": []
  }
 ],
 "metadata": {
  "kernelspec": {
   "display_name": "Python 3 (ipykernel)",
   "language": "python",
   "name": "python3"
  },
  "language_info": {
   "codemirror_mode": {
    "name": "ipython",
    "version": 3
   },
   "file_extension": ".py",
   "mimetype": "text/x-python",
   "name": "python",
   "nbconvert_exporter": "python",
   "pygments_lexer": "ipython3",
   "version": "3.9.7"
  }
 },
 "nbformat": 4,
 "nbformat_minor": 5
}
