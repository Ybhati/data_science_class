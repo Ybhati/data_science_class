{
 "cells": [
  {
   "cell_type": "code",
   "execution_count": 1,
   "id": "163955d3",
   "metadata": {},
   "outputs": [
    {
     "name": "stdout",
     "output_type": "stream",
     "text": [
      "74.6842105263158\n"
     ]
    }
   ],
   "source": [
    "import statistics as st\n",
    "x=[8,12,20,30,40,560,60,70,80,90,25,85,95,65,45,75,35,15,9]\n",
    "print(st.mean(x))"
   ]
  },
  {
   "cell_type": "code",
   "execution_count": 2,
   "id": "baeb54fb",
   "metadata": {},
   "outputs": [
    {
     "name": "stdout",
     "output_type": "stream",
     "text": [
      "45\n"
     ]
    }
   ],
   "source": [
    "print(st.median(x))"
   ]
  },
  {
   "cell_type": "code",
   "execution_count": 3,
   "id": "b4d5c69a",
   "metadata": {},
   "outputs": [
    {
     "name": "stdout",
     "output_type": "stream",
     "text": [
      "8\n"
     ]
    }
   ],
   "source": [
    "print(st.mode(x))"
   ]
  },
  {
   "cell_type": "code",
   "execution_count": 2,
   "id": "c0ae53b5",
   "metadata": {},
   "outputs": [
    {
     "name": "stdout",
     "output_type": "stream",
     "text": [
      "[30 31 34 32 34 30 30 30 32 34]\n"
     ]
    }
   ],
   "source": [
    "import numpy as np\n",
    "import pandas as pd\n",
    "x=np.random.randint(30,35,10)\n",
    "print(x)"
   ]
  },
  {
   "cell_type": "code",
   "execution_count": 5,
   "id": "06e41867",
   "metadata": {},
   "outputs": [
    {
     "name": "stdout",
     "output_type": "stream",
     "text": [
      "32.0\n"
     ]
    }
   ],
   "source": [
    "print (np.mean(x))"
   ]
  },
  {
   "cell_type": "code",
   "execution_count": 6,
   "id": "90f26a87",
   "metadata": {},
   "outputs": [
    {
     "data": {
      "text/plain": [
       "32.0"
      ]
     },
     "execution_count": 6,
     "metadata": {},
     "output_type": "execute_result"
    }
   ],
   "source": [
    "np.median(x)"
   ]
  },
  {
   "cell_type": "code",
   "execution_count": 7,
   "id": "524eb590",
   "metadata": {},
   "outputs": [
    {
     "name": "stdout",
     "output_type": "stream",
     "text": [
      "2.8\n",
      "1.6733200530681511\n"
     ]
    }
   ],
   "source": [
    "#variance = means of squared deviations (below)\n",
    "print(np.var(x))\n",
    "#std=sqrt of variance\n",
    "print(np.std(x))"
   ]
  },
  {
   "cell_type": "code",
   "execution_count": 8,
   "id": "1416f336",
   "metadata": {},
   "outputs": [
    {
     "data": {
      "text/html": [
       "<div>\n",
       "<style scoped>\n",
       "    .dataframe tbody tr th:only-of-type {\n",
       "        vertical-align: middle;\n",
       "    }\n",
       "\n",
       "    .dataframe tbody tr th {\n",
       "        vertical-align: top;\n",
       "    }\n",
       "\n",
       "    .dataframe thead th {\n",
       "        text-align: right;\n",
       "    }\n",
       "</style>\n",
       "<table border=\"1\" class=\"dataframe\">\n",
       "  <thead>\n",
       "    <tr style=\"text-align: right;\">\n",
       "      <th></th>\n",
       "      <th>0</th>\n",
       "    </tr>\n",
       "  </thead>\n",
       "  <tbody>\n",
       "    <tr>\n",
       "      <th>count</th>\n",
       "      <td>8.000000</td>\n",
       "    </tr>\n",
       "    <tr>\n",
       "      <th>mean</th>\n",
       "      <td>45.000000</td>\n",
       "    </tr>\n",
       "    <tr>\n",
       "      <th>std</th>\n",
       "      <td>24.494897</td>\n",
       "    </tr>\n",
       "    <tr>\n",
       "      <th>min</th>\n",
       "      <td>10.000000</td>\n",
       "    </tr>\n",
       "    <tr>\n",
       "      <th>25%</th>\n",
       "      <td>27.500000</td>\n",
       "    </tr>\n",
       "    <tr>\n",
       "      <th>50%</th>\n",
       "      <td>45.000000</td>\n",
       "    </tr>\n",
       "    <tr>\n",
       "      <th>75%</th>\n",
       "      <td>62.500000</td>\n",
       "    </tr>\n",
       "    <tr>\n",
       "      <th>max</th>\n",
       "      <td>80.000000</td>\n",
       "    </tr>\n",
       "  </tbody>\n",
       "</table>\n",
       "</div>"
      ],
      "text/plain": [
       "               0\n",
       "count   8.000000\n",
       "mean   45.000000\n",
       "std    24.494897\n",
       "min    10.000000\n",
       "25%    27.500000\n",
       "50%    45.000000\n",
       "75%    62.500000\n",
       "max    80.000000"
      ]
     },
     "execution_count": 8,
     "metadata": {},
     "output_type": "execute_result"
    }
   ],
   "source": [
    "#Quantiles\n",
    "y=[10,20,30,40,50,60,70,80]\n",
    "y_=pd.DataFrame(y)\n",
    "y_.describe()"
   ]
  },
  {
   "cell_type": "code",
   "execution_count": 9,
   "id": "2e1fb86a",
   "metadata": {},
   "outputs": [
    {
     "name": "stdout",
     "output_type": "stream",
     "text": [
      "525.0\n"
     ]
    }
   ],
   "source": [
    "print(np.var(y))"
   ]
  },
  {
   "cell_type": "code",
   "execution_count": null,
   "id": "e3037dca",
   "metadata": {},
   "outputs": [],
   "source": [
    "#inferential stastics\n",
    "#-sampling data and infer the results to describe entire population"
   ]
  },
  {
   "cell_type": "code",
   "execution_count": null,
   "id": "c050846c",
   "metadata": {},
   "outputs": [],
   "source": [
    "#we gonna use normal and Z -distribution \n",
    "#normal dist or bernoulli distribution\n",
    "#mean=median=mode(mostly) \n",
    "#(ball shape of cureve and they have diff name i.e skewed right, symmetric distribution , skewed left) \n",
    "#these above curves changes fig to fig with different representation "
   ]
  },
  {
   "cell_type": "code",
   "execution_count": null,
   "id": "b67f536d",
   "metadata": {},
   "outputs": [],
   "source": [
    "#PDF,CDF\n",
    "#PDF=Probability Density Function -\n",
    "#CDF = Cumulative Density Function"
   ]
  },
  {
   "cell_type": "code",
   "execution_count": null,
   "id": "d5cfbe4f",
   "metadata": {},
   "outputs": [],
   "source": [
    "#central limit therorom \n",
    "#Normal distributio -Distribution is always normal irrespective of sample size\n",
    "#Non-Normal Distribution-if sample size is adequate (app>30 sample),distribution starts looking normal \n",
    "#(Mean of Sample mean = Population Mean ) (population std/sqrt of sample size )"
   ]
  },
  {
   "cell_type": "code",
   "execution_count": null,
   "id": "69204aa2",
   "metadata": {},
   "outputs": [],
   "source": [
    "#Uniform Distribution - refers to a type of probability distribution which all outcomes are equally likely \n",
    "#EX- Deck of cards - prob of getting any perticular sahpe and number (1/52)"
   ]
  },
  {
   "cell_type": "code",
   "execution_count": null,
   "id": "2b6ee703",
   "metadata": {},
   "outputs": [],
   "source": [
    "120/1.25"
   ]
  },
  {
   "cell_type": "code",
   "execution_count": 10,
   "id": "5c065861",
   "metadata": {},
   "outputs": [],
   "source": [
    "from numpy.random import randint as ri\n",
    "import pandas as pd"
   ]
  },
  {
   "cell_type": "markdown",
   "id": "4af19467",
   "metadata": {},
   "source": []
  },
  {
   "cell_type": "code",
   "execution_count": 11,
   "id": "58fd5504",
   "metadata": {},
   "outputs": [
    {
     "data": {
      "text/plain": [
       "0    35\n",
       "1    94\n",
       "2    85\n",
       "3    35\n",
       "4    68\n",
       "dtype: int32"
      ]
     },
     "execution_count": 11,
     "metadata": {},
     "output_type": "execute_result"
    }
   ],
   "source": [
    "marks = ri(30,100,1000)\n",
    "stu_marks= pd.Series(marks)\n",
    "stu_marks.head()"
   ]
  },
  {
   "cell_type": "code",
   "execution_count": 12,
   "id": "8af08c3a",
   "metadata": {},
   "outputs": [
    {
     "data": {
      "text/plain": [
       "64.884"
      ]
     },
     "execution_count": 12,
     "metadata": {},
     "output_type": "execute_result"
    }
   ],
   "source": [
    "marks_mean=stu_marks.mean()\n",
    "marks_mean"
   ]
  },
  {
   "cell_type": "code",
   "execution_count": 13,
   "id": "ba44dc3b",
   "metadata": {},
   "outputs": [
    {
     "data": {
      "text/plain": [
       "19.969309385086838"
      ]
     },
     "execution_count": 13,
     "metadata": {},
     "output_type": "execute_result"
    }
   ],
   "source": [
    "marks_std=stu_marks.std()\n",
    "marks_std"
   ]
  },
  {
   "cell_type": "code",
   "execution_count": 14,
   "id": "65515737",
   "metadata": {},
   "outputs": [],
   "source": [
    "#prob of scoring 50 marks\n",
    "x =50"
   ]
  },
  {
   "cell_type": "code",
   "execution_count": 15,
   "id": "7dbd9a9c",
   "metadata": {},
   "outputs": [
    {
     "name": "stdout",
     "output_type": "stream",
     "text": [
      "0.22803196876237353\n"
     ]
    }
   ],
   "source": [
    "import scipy.stats as st #scientific python \n",
    "prob=st.norm.cdf(x,loc=marks_mean,scale=marks_std)\n",
    "print(prob)"
   ]
  },
  {
   "cell_type": "code",
   "execution_count": null,
   "id": "3f83151e",
   "metadata": {},
   "outputs": [],
   "source": [
    "#how its working , lets see for that Z-distribution is envoled \n",
    "#Anoral distribution(mean =median =mode) ---> the standard normal distribution (mean vl be 0 and SD is 1)\n",
    "# Formula  z=(x-mean)/std "
   ]
  },
  {
   "cell_type": "code",
   "execution_count": 16,
   "id": "02db9725",
   "metadata": {},
   "outputs": [
    {
     "data": {
      "text/plain": [
       "-0.7453437529049168"
      ]
     },
     "execution_count": 16,
     "metadata": {},
     "output_type": "execute_result"
    }
   ],
   "source": [
    "score=(x-marks_mean)/marks_std #z=-table.com\n",
    "score"
   ]
  },
  {
   "cell_type": "code",
   "execution_count": 17,
   "id": "75899e4d",
   "metadata": {},
   "outputs": [
    {
     "data": {
      "text/plain": [
       "-0.7453437529049168"
      ]
     },
     "execution_count": 17,
     "metadata": {},
     "output_type": "execute_result"
    }
   ],
   "source": [
    "#for 50 (range of 50-60 marks) p(50<z<60)\n",
    "(50-marks_mean)/marks_std"
   ]
  },
  {
   "cell_type": "code",
   "execution_count": 18,
   "id": "52ffa6cf",
   "metadata": {},
   "outputs": [
    {
     "data": {
      "text/plain": [
       "-0.24457530833026161"
      ]
     },
     "execution_count": 18,
     "metadata": {},
     "output_type": "execute_result"
    }
   ],
   "source": [
    "(60-marks_mean)/marks_std"
   ]
  },
  {
   "cell_type": "markdown",
   "id": "1f816878",
   "metadata": {},
   "source": [
    "# HYPOTHESIS\n",
    "making a guess (not wild guess) based on assumption without scientific proof.or Explaining the situation based on reasonable assumption \n",
    "#Null Hypo -HO => decision always leads to status quo. current status/assuption doesnt change\n",
    "#alternative HYPO =HA => decision leads to opp of HO"
   ]
  },
  {
   "cell_type": "markdown",
   "id": "e95b796b",
   "metadata": {},
   "source": [
    "# One tail and Two tail tests"
   ]
  },
  {
   "cell_type": "markdown",
   "id": "b8f13bdc",
   "metadata": {},
   "source": [
    "Example Car mileg test\n",
    "Ho- all our cars avg milage is <25 KMPH\n",
    "Ha - avg millage is >25 KMPH\n",
    "LEFT-TAILED TEST: the alternative hypo contains < sign\n",
    "RIGHT TAIL TEST : \n",
    "EXAMPLE- New method will reduce delievery time\n",
    "* Ho- our new home delievery method will reduces delievery time \n",
    "* Ha - new method will increase the delievery time \n",
    "the alternative hypo contains > sign\n",
    "\n",
    "*TWO Tail test \n",
    "Example - diff in car millage when drove by two diff person \n",
    "Two-tailed test : the alternative hypothesis contains the ' NOT equal to' sign "
   ]
  },
  {
   "cell_type": "code",
   "execution_count": 19,
   "id": "90b804ae",
   "metadata": {},
   "outputs": [],
   "source": [
    "import numpy as np\n",
    "mean = 25\n",
    "sample_mean=24.2\n",
    "std=1.5\n",
    "n=30"
   ]
  },
  {
   "cell_type": "code",
   "execution_count": 20,
   "id": "c872676e",
   "metadata": {},
   "outputs": [
    {
     "data": {
      "text/plain": [
       "-2.921186973360889"
      ]
     },
     "execution_count": 20,
     "metadata": {},
     "output_type": "execute_result"
    }
   ],
   "source": [
    "z=(sample_mean-mean)/(std/np.sqrt(30))\n",
    "z\n",
    "\n",
    "\n"
   ]
  },
  {
   "cell_type": "code",
   "execution_count": 21,
   "id": "10458d77",
   "metadata": {},
   "outputs": [
    {
     "data": {
      "text/plain": [
       "0.0017435024460706768"
      ]
     },
     "execution_count": 21,
     "metadata": {},
     "output_type": "execute_result"
    }
   ],
   "source": [
    "p_value=st.norm.cdf(sample_mean,loc=mean,scale=std/np.sqrt(30))\n",
    "p_value "
   ]
  },
  {
   "cell_type": "markdown",
   "id": "6790bda9",
   "metadata": {},
   "source": [
    "# IMPORTANT POINTS\n",
    "*standard alpha level =0.05\n",
    "*if p-value is <0.05 then we reject ull hypothesis (Ho)\n",
    "*if p-value is >0.05 then we fail to reject the Ho"
   ]
  },
  {
   "cell_type": "markdown",
   "id": "843db0ea",
   "metadata": {},
   "source": [
    "Ttest\n",
    "*one sample ttest\n",
    "*two sample test "
   ]
  },
  {
   "cell_type": "code",
   "execution_count": 23,
   "id": "84bafcd5",
   "metadata": {},
   "outputs": [
    {
     "data": {
      "text/html": [
       "<div>\n",
       "<style scoped>\n",
       "    .dataframe tbody tr th:only-of-type {\n",
       "        vertical-align: middle;\n",
       "    }\n",
       "\n",
       "    .dataframe tbody tr th {\n",
       "        vertical-align: top;\n",
       "    }\n",
       "\n",
       "    .dataframe thead th {\n",
       "        text-align: right;\n",
       "    }\n",
       "</style>\n",
       "<table border=\"1\" class=\"dataframe\">\n",
       "  <thead>\n",
       "    <tr style=\"text-align: right;\">\n",
       "      <th></th>\n",
       "      <th>ID</th>\n",
       "      <th>Gender</th>\n",
       "      <th>Race</th>\n",
       "      <th>SEB</th>\n",
       "      <th>School</th>\n",
       "      <th>Prog</th>\n",
       "      <th>Read</th>\n",
       "      <th>Write</th>\n",
       "      <th>Math1</th>\n",
       "      <th>Math2</th>\n",
       "      <th>SST</th>\n",
       "    </tr>\n",
       "  </thead>\n",
       "  <tbody>\n",
       "    <tr>\n",
       "      <th>0</th>\n",
       "      <td>70</td>\n",
       "      <td>0</td>\n",
       "      <td>4</td>\n",
       "      <td>1</td>\n",
       "      <td>1</td>\n",
       "      <td>1</td>\n",
       "      <td>57</td>\n",
       "      <td>52</td>\n",
       "      <td>41</td>\n",
       "      <td>47</td>\n",
       "      <td>57</td>\n",
       "    </tr>\n",
       "    <tr>\n",
       "      <th>1</th>\n",
       "      <td>121</td>\n",
       "      <td>1</td>\n",
       "      <td>4</td>\n",
       "      <td>2</td>\n",
       "      <td>1</td>\n",
       "      <td>3</td>\n",
       "      <td>68</td>\n",
       "      <td>59</td>\n",
       "      <td>53</td>\n",
       "      <td>63</td>\n",
       "      <td>61</td>\n",
       "    </tr>\n",
       "    <tr>\n",
       "      <th>2</th>\n",
       "      <td>86</td>\n",
       "      <td>0</td>\n",
       "      <td>4</td>\n",
       "      <td>3</td>\n",
       "      <td>1</td>\n",
       "      <td>1</td>\n",
       "      <td>44</td>\n",
       "      <td>33</td>\n",
       "      <td>54</td>\n",
       "      <td>58</td>\n",
       "      <td>31</td>\n",
       "    </tr>\n",
       "    <tr>\n",
       "      <th>3</th>\n",
       "      <td>141</td>\n",
       "      <td>0</td>\n",
       "      <td>4</td>\n",
       "      <td>3</td>\n",
       "      <td>1</td>\n",
       "      <td>3</td>\n",
       "      <td>63</td>\n",
       "      <td>44</td>\n",
       "      <td>47</td>\n",
       "      <td>53</td>\n",
       "      <td>56</td>\n",
       "    </tr>\n",
       "    <tr>\n",
       "      <th>4</th>\n",
       "      <td>172</td>\n",
       "      <td>0</td>\n",
       "      <td>4</td>\n",
       "      <td>2</td>\n",
       "      <td>1</td>\n",
       "      <td>2</td>\n",
       "      <td>47</td>\n",
       "      <td>52</td>\n",
       "      <td>57</td>\n",
       "      <td>53</td>\n",
       "      <td>61</td>\n",
       "    </tr>\n",
       "  </tbody>\n",
       "</table>\n",
       "</div>"
      ],
      "text/plain": [
       "    ID  Gender  Race  SEB  School  Prog  Read  Write  Math1  Math2  SST\n",
       "0   70       0     4    1       1     1    57     52     41     47   57\n",
       "1  121       1     4    2       1     3    68     59     53     63   61\n",
       "2   86       0     4    3       1     1    44     33     54     58   31\n",
       "3  141       0     4    3       1     3    63     44     47     53   56\n",
       "4  172       0     4    2       1     2    47     52     57     53   61"
      ]
     },
     "execution_count": 23,
     "metadata": {},
     "output_type": "execute_result"
    }
   ],
   "source": [
    "hyp=pd.read_csv('https://raw.githubusercontent.com/training-ml/Files/main/Hypothesis%20ttest.csv')\n",
    "hyp.head()"
   ]
  },
  {
   "cell_type": "code",
   "execution_count": 25,
   "id": "92112c03",
   "metadata": {},
   "outputs": [
    {
     "data": {
      "text/html": [
       "<div>\n",
       "<style scoped>\n",
       "    .dataframe tbody tr th:only-of-type {\n",
       "        vertical-align: middle;\n",
       "    }\n",
       "\n",
       "    .dataframe tbody tr th {\n",
       "        vertical-align: top;\n",
       "    }\n",
       "\n",
       "    .dataframe thead th {\n",
       "        text-align: right;\n",
       "    }\n",
       "</style>\n",
       "<table border=\"1\" class=\"dataframe\">\n",
       "  <thead>\n",
       "    <tr style=\"text-align: right;\">\n",
       "      <th></th>\n",
       "      <th>ID</th>\n",
       "      <th>Gender</th>\n",
       "      <th>Race</th>\n",
       "      <th>SEB</th>\n",
       "      <th>School</th>\n",
       "      <th>Prog</th>\n",
       "      <th>Read</th>\n",
       "      <th>Write</th>\n",
       "      <th>Math1</th>\n",
       "      <th>Math2</th>\n",
       "      <th>SST</th>\n",
       "    </tr>\n",
       "  </thead>\n",
       "  <tbody>\n",
       "    <tr>\n",
       "      <th>count</th>\n",
       "      <td>200.000000</td>\n",
       "      <td>200.00000</td>\n",
       "      <td>200.000000</td>\n",
       "      <td>200.000000</td>\n",
       "      <td>200.000000</td>\n",
       "      <td>200.000000</td>\n",
       "      <td>200.000000</td>\n",
       "      <td>200.000000</td>\n",
       "      <td>200.000000</td>\n",
       "      <td>200.000000</td>\n",
       "      <td>200.000000</td>\n",
       "    </tr>\n",
       "    <tr>\n",
       "      <th>mean</th>\n",
       "      <td>100.500000</td>\n",
       "      <td>0.54500</td>\n",
       "      <td>3.430000</td>\n",
       "      <td>2.055000</td>\n",
       "      <td>1.160000</td>\n",
       "      <td>2.025000</td>\n",
       "      <td>52.230000</td>\n",
       "      <td>52.775000</td>\n",
       "      <td>52.645000</td>\n",
       "      <td>51.850000</td>\n",
       "      <td>52.405000</td>\n",
       "    </tr>\n",
       "    <tr>\n",
       "      <th>std</th>\n",
       "      <td>57.879185</td>\n",
       "      <td>0.49922</td>\n",
       "      <td>1.039472</td>\n",
       "      <td>0.724291</td>\n",
       "      <td>0.367526</td>\n",
       "      <td>0.690477</td>\n",
       "      <td>10.252937</td>\n",
       "      <td>9.478586</td>\n",
       "      <td>9.368448</td>\n",
       "      <td>9.900891</td>\n",
       "      <td>10.735793</td>\n",
       "    </tr>\n",
       "    <tr>\n",
       "      <th>min</th>\n",
       "      <td>1.000000</td>\n",
       "      <td>0.00000</td>\n",
       "      <td>1.000000</td>\n",
       "      <td>1.000000</td>\n",
       "      <td>1.000000</td>\n",
       "      <td>1.000000</td>\n",
       "      <td>28.000000</td>\n",
       "      <td>31.000000</td>\n",
       "      <td>33.000000</td>\n",
       "      <td>26.000000</td>\n",
       "      <td>26.000000</td>\n",
       "    </tr>\n",
       "    <tr>\n",
       "      <th>25%</th>\n",
       "      <td>50.750000</td>\n",
       "      <td>0.00000</td>\n",
       "      <td>3.000000</td>\n",
       "      <td>2.000000</td>\n",
       "      <td>1.000000</td>\n",
       "      <td>2.000000</td>\n",
       "      <td>44.000000</td>\n",
       "      <td>45.750000</td>\n",
       "      <td>45.000000</td>\n",
       "      <td>44.000000</td>\n",
       "      <td>46.000000</td>\n",
       "    </tr>\n",
       "    <tr>\n",
       "      <th>50%</th>\n",
       "      <td>100.500000</td>\n",
       "      <td>1.00000</td>\n",
       "      <td>4.000000</td>\n",
       "      <td>2.000000</td>\n",
       "      <td>1.000000</td>\n",
       "      <td>2.000000</td>\n",
       "      <td>50.000000</td>\n",
       "      <td>54.000000</td>\n",
       "      <td>52.000000</td>\n",
       "      <td>53.000000</td>\n",
       "      <td>52.000000</td>\n",
       "    </tr>\n",
       "    <tr>\n",
       "      <th>75%</th>\n",
       "      <td>150.250000</td>\n",
       "      <td>1.00000</td>\n",
       "      <td>4.000000</td>\n",
       "      <td>3.000000</td>\n",
       "      <td>1.000000</td>\n",
       "      <td>2.250000</td>\n",
       "      <td>60.000000</td>\n",
       "      <td>60.000000</td>\n",
       "      <td>59.000000</td>\n",
       "      <td>58.000000</td>\n",
       "      <td>61.000000</td>\n",
       "    </tr>\n",
       "    <tr>\n",
       "      <th>max</th>\n",
       "      <td>200.000000</td>\n",
       "      <td>1.00000</td>\n",
       "      <td>4.000000</td>\n",
       "      <td>3.000000</td>\n",
       "      <td>2.000000</td>\n",
       "      <td>3.000000</td>\n",
       "      <td>76.000000</td>\n",
       "      <td>67.000000</td>\n",
       "      <td>75.000000</td>\n",
       "      <td>74.000000</td>\n",
       "      <td>71.000000</td>\n",
       "    </tr>\n",
       "  </tbody>\n",
       "</table>\n",
       "</div>"
      ],
      "text/plain": [
       "               ID     Gender        Race         SEB      School        Prog  \\\n",
       "count  200.000000  200.00000  200.000000  200.000000  200.000000  200.000000   \n",
       "mean   100.500000    0.54500    3.430000    2.055000    1.160000    2.025000   \n",
       "std     57.879185    0.49922    1.039472    0.724291    0.367526    0.690477   \n",
       "min      1.000000    0.00000    1.000000    1.000000    1.000000    1.000000   \n",
       "25%     50.750000    0.00000    3.000000    2.000000    1.000000    2.000000   \n",
       "50%    100.500000    1.00000    4.000000    2.000000    1.000000    2.000000   \n",
       "75%    150.250000    1.00000    4.000000    3.000000    1.000000    2.250000   \n",
       "max    200.000000    1.00000    4.000000    3.000000    2.000000    3.000000   \n",
       "\n",
       "             Read       Write       Math1       Math2         SST  \n",
       "count  200.000000  200.000000  200.000000  200.000000  200.000000  \n",
       "mean    52.230000   52.775000   52.645000   51.850000   52.405000  \n",
       "std     10.252937    9.478586    9.368448    9.900891   10.735793  \n",
       "min     28.000000   31.000000   33.000000   26.000000   26.000000  \n",
       "25%     44.000000   45.750000   45.000000   44.000000   46.000000  \n",
       "50%     50.000000   54.000000   52.000000   53.000000   52.000000  \n",
       "75%     60.000000   60.000000   59.000000   58.000000   61.000000  \n",
       "max     76.000000   67.000000   75.000000   74.000000   71.000000  "
      ]
     },
     "execution_count": 25,
     "metadata": {},
     "output_type": "execute_result"
    }
   ],
   "source": [
    "hyp.describe()"
   ]
  },
  {
   "cell_type": "code",
   "execution_count": 26,
   "id": "18ebe781",
   "metadata": {},
   "outputs": [
    {
     "data": {
      "text/plain": [
       "52.645"
      ]
     },
     "execution_count": 26,
     "metadata": {},
     "output_type": "execute_result"
    }
   ],
   "source": [
    "hyp['Math1'].mean()"
   ]
  },
  {
   "cell_type": "code",
   "execution_count": 27,
   "id": "95da917e",
   "metadata": {},
   "outputs": [],
   "source": [
    "alpha = 0.5\n",
    "xbar = 52.645\n",
    "mu =60"
   ]
  },
  {
   "cell_type": "markdown",
   "id": "62ebe125",
   "metadata": {},
   "source": [
    "#  1 Sample Test"
   ]
  },
  {
   "cell_type": "code",
   "execution_count": 28,
   "id": "3e4712c0",
   "metadata": {},
   "outputs": [
    {
     "data": {
      "text/plain": [
       "Ttest_1sampResult(statistic=-11.102736525713398, pvalue=1.3339158110547646e-22)"
      ]
     },
     "execution_count": 28,
     "metadata": {},
     "output_type": "execute_result"
    }
   ],
   "source": [
    "st.ttest_1samp(hyp.Math1,mu)"
   ]
  },
  {
   "cell_type": "code",
   "execution_count": 29,
   "id": "a1a6f566",
   "metadata": {},
   "outputs": [],
   "source": [
    "s,p =st.ttest_1samp(hyp.Math1,mu)"
   ]
  },
  {
   "cell_type": "code",
   "execution_count": 30,
   "id": "b4b54642",
   "metadata": {},
   "outputs": [
    {
     "data": {
      "text/plain": [
       "-11.102736525713398"
      ]
     },
     "execution_count": 30,
     "metadata": {},
     "output_type": "execute_result"
    }
   ],
   "source": [
    "s"
   ]
  },
  {
   "cell_type": "code",
   "execution_count": 31,
   "id": "31dc77a1",
   "metadata": {},
   "outputs": [
    {
     "data": {
      "text/plain": [
       "1.3339158110547646e-22"
      ]
     },
     "execution_count": 31,
     "metadata": {},
     "output_type": "execute_result"
    }
   ],
   "source": [
    "p"
   ]
  },
  {
   "cell_type": "code",
   "execution_count": 32,
   "id": "4420ace3",
   "metadata": {},
   "outputs": [
    {
     "data": {
      "text/plain": [
       "1    109\n",
       "0     91\n",
       "Name: Gender, dtype: int64"
      ]
     },
     "execution_count": 32,
     "metadata": {},
     "output_type": "execute_result"
    }
   ],
   "source": [
    "hyp['Gender'].value_counts()"
   ]
  },
  {
   "cell_type": "code",
   "execution_count": 33,
   "id": "49c7e73d",
   "metadata": {},
   "outputs": [
    {
     "data": {
      "text/plain": [
       "1     53\n",
       "92    65\n",
       "93    52\n",
       "94    46\n",
       "95    61\n",
       "Name: Math1, dtype: int64"
      ]
     },
     "execution_count": 33,
     "metadata": {},
     "output_type": "execute_result"
    }
   ],
   "source": [
    "hyp[hyp['Gender']==1].Math1.head()"
   ]
  },
  {
   "cell_type": "code",
   "execution_count": 34,
   "id": "e7832afb",
   "metadata": {},
   "outputs": [],
   "source": [
    "t,p=st.ttest_ind(hyp[hyp['Gender']==1].Math1,hyp[hyp['Gender']==0].Math1)"
   ]
  },
  {
   "cell_type": "code",
   "execution_count": 35,
   "id": "f9be067f",
   "metadata": {},
   "outputs": [
    {
     "data": {
      "text/plain": [
       "-0.41299864929688507"
      ]
     },
     "execution_count": 35,
     "metadata": {},
     "output_type": "execute_result"
    }
   ],
   "source": [
    "t"
   ]
  },
  {
   "cell_type": "code",
   "execution_count": 36,
   "id": "2a386971",
   "metadata": {},
   "outputs": [
    {
     "data": {
      "text/plain": [
       "0.6800544974232143"
      ]
     },
     "execution_count": 36,
     "metadata": {},
     "output_type": "execute_result"
    }
   ],
   "source": [
    "p"
   ]
  },
  {
   "cell_type": "code",
   "execution_count": 37,
   "id": "77dfbf5f",
   "metadata": {},
   "outputs": [],
   "source": [
    "#paired sample\n",
    "t,p=st.ttest_rel(hyp.Math1,hyp.Math2)"
   ]
  },
  {
   "cell_type": "code",
   "execution_count": 38,
   "id": "aee84ada",
   "metadata": {},
   "outputs": [
    {
     "data": {
      "text/plain": [
       "0.17676525605507354"
      ]
     },
     "execution_count": 38,
     "metadata": {},
     "output_type": "execute_result"
    }
   ],
   "source": [
    "p"
   ]
  },
  {
   "cell_type": "markdown",
   "id": "084b92a4",
   "metadata": {},
   "source": [
    "# ANNOVA - Analysis of variance\n",
    "\n",
    "* Null hyp, typicallyis that, all means are equal \n",
    "* the independent variables are categorial \n",
    "* Dependent variables are continues\n"
   ]
  },
  {
   "cell_type": "markdown",
   "id": "2cda12b3",
   "metadata": {},
   "source": [
    "# F Value\n",
    "F= Sample means of between groups/samples means of within groups"
   ]
  },
  {
   "cell_type": "markdown",
   "id": "8ab9b9f1",
   "metadata": {},
   "source": [
    "# HYPOTHESIS CONSTRUCTION\n",
    "* The null hypo for ANOVA says that , average of dependent variables are same for all the given groups\n",
    "* Alternative Hypothesis says, mean of dependent variable are not same for the given groups.\n",
    "\n",
    "* -Ho:muA=muB=muC\n",
    "* -Ha:not all are equal"
   ]
  },
  {
   "cell_type": "code",
   "execution_count": 3,
   "id": "1d3850db",
   "metadata": {},
   "outputs": [
    {
     "data": {
      "text/plain": [
       "<bound method NDFrame.head of      Student_ID  Semester  Total_Marks\n",
       "0             1         1          365\n",
       "1             2         3          376\n",
       "2             3         1          411\n",
       "3             4         3          436\n",
       "4             5         2          366\n",
       "..          ...       ...          ...\n",
       "195         196         1          431\n",
       "196         197         3          330\n",
       "197         198         1          311\n",
       "198         199         1          358\n",
       "199         200         2          468\n",
       "\n",
       "[200 rows x 3 columns]>"
      ]
     },
     "execution_count": 3,
     "metadata": {},
     "output_type": "execute_result"
    }
   ],
   "source": [
    "hyp = pd.read_csv(\"https://raw.githubusercontent.com/training-ml/Files/main/Semester%20marks.csv\")\n",
    "hyp.head"
   ]
  },
  {
   "cell_type": "code",
   "execution_count": 4,
   "id": "6c5ca32a",
   "metadata": {},
   "outputs": [
    {
     "data": {
      "text/html": [
       "<div>\n",
       "<style scoped>\n",
       "    .dataframe tbody tr th:only-of-type {\n",
       "        vertical-align: middle;\n",
       "    }\n",
       "\n",
       "    .dataframe tbody tr th {\n",
       "        vertical-align: top;\n",
       "    }\n",
       "\n",
       "    .dataframe thead th {\n",
       "        text-align: right;\n",
       "    }\n",
       "</style>\n",
       "<table border=\"1\" class=\"dataframe\">\n",
       "  <thead>\n",
       "    <tr style=\"text-align: right;\">\n",
       "      <th></th>\n",
       "      <th>Student_ID</th>\n",
       "      <th>Semester</th>\n",
       "      <th>Total_Marks</th>\n",
       "    </tr>\n",
       "  </thead>\n",
       "  <tbody>\n",
       "    <tr>\n",
       "      <th>0</th>\n",
       "      <td>1</td>\n",
       "      <td>1</td>\n",
       "      <td>365</td>\n",
       "    </tr>\n",
       "    <tr>\n",
       "      <th>1</th>\n",
       "      <td>2</td>\n",
       "      <td>3</td>\n",
       "      <td>376</td>\n",
       "    </tr>\n",
       "    <tr>\n",
       "      <th>2</th>\n",
       "      <td>3</td>\n",
       "      <td>1</td>\n",
       "      <td>411</td>\n",
       "    </tr>\n",
       "    <tr>\n",
       "      <th>3</th>\n",
       "      <td>4</td>\n",
       "      <td>3</td>\n",
       "      <td>436</td>\n",
       "    </tr>\n",
       "    <tr>\n",
       "      <th>4</th>\n",
       "      <td>5</td>\n",
       "      <td>2</td>\n",
       "      <td>366</td>\n",
       "    </tr>\n",
       "  </tbody>\n",
       "</table>\n",
       "</div>"
      ],
      "text/plain": [
       "   Student_ID  Semester  Total_Marks\n",
       "0           1         1          365\n",
       "1           2         3          376\n",
       "2           3         1          411\n",
       "3           4         3          436\n",
       "4           5         2          366"
      ]
     },
     "execution_count": 4,
     "metadata": {},
     "output_type": "execute_result"
    }
   ],
   "source": [
    "hyp.head()"
   ]
  },
  {
   "cell_type": "markdown",
   "id": "3aceb1a0",
   "metadata": {},
   "source": [
    "# Ho is average mars of each sem are almost equal\n",
    "* HA is all are not qual"
   ]
  },
  {
   "cell_type": "code",
   "execution_count": 5,
   "id": "6d7c5243",
   "metadata": {},
   "outputs": [
    {
     "data": {
      "text/plain": [
       "<statsmodels.regression.linear_model.RegressionResultsWrapper at 0x2204eb57c10>"
      ]
     },
     "execution_count": 5,
     "metadata": {},
     "output_type": "execute_result"
    }
   ],
   "source": [
    "import statsmodels.formula.api as sm \n",
    "mod=sm.ols('Total_Marks~ Semester',data=hyp).fit() #ols-ordinary list square method\n",
    "mod"
   ]
  },
  {
   "cell_type": "code",
   "execution_count": 6,
   "id": "013c9d2e",
   "metadata": {},
   "outputs": [
    {
     "data": {
      "text/html": [
       "<div>\n",
       "<style scoped>\n",
       "    .dataframe tbody tr th:only-of-type {\n",
       "        vertical-align: middle;\n",
       "    }\n",
       "\n",
       "    .dataframe tbody tr th {\n",
       "        vertical-align: top;\n",
       "    }\n",
       "\n",
       "    .dataframe thead th {\n",
       "        text-align: right;\n",
       "    }\n",
       "</style>\n",
       "<table border=\"1\" class=\"dataframe\">\n",
       "  <thead>\n",
       "    <tr style=\"text-align: right;\">\n",
       "      <th></th>\n",
       "      <th>df</th>\n",
       "      <th>sum_sq</th>\n",
       "      <th>mean_sq</th>\n",
       "      <th>F</th>\n",
       "      <th>PR(&gt;F)</th>\n",
       "    </tr>\n",
       "  </thead>\n",
       "  <tbody>\n",
       "    <tr>\n",
       "      <th>Semester</th>\n",
       "      <td>1.0</td>\n",
       "      <td>291.846746</td>\n",
       "      <td>291.846746</td>\n",
       "      <td>0.102572</td>\n",
       "      <td>0.749102</td>\n",
       "    </tr>\n",
       "    <tr>\n",
       "      <th>Residual</th>\n",
       "      <td>198.0</td>\n",
       "      <td>563366.873254</td>\n",
       "      <td>2845.287239</td>\n",
       "      <td>NaN</td>\n",
       "      <td>NaN</td>\n",
       "    </tr>\n",
       "  </tbody>\n",
       "</table>\n",
       "</div>"
      ],
      "text/plain": [
       "             df         sum_sq      mean_sq         F    PR(>F)\n",
       "Semester    1.0     291.846746   291.846746  0.102572  0.749102\n",
       "Residual  198.0  563366.873254  2845.287239       NaN       NaN"
      ]
     },
     "execution_count": 6,
     "metadata": {},
     "output_type": "execute_result"
    }
   ],
   "source": [
    "import statsmodels.api as K\n",
    "aov_table=K.stats.anova_lm(mod,typ=1)\n",
    "aov_table"
   ]
  },
  {
   "cell_type": "code",
   "execution_count": 7,
   "id": "8b9bf0d9",
   "metadata": {},
   "outputs": [
    {
     "name": "stdout",
     "output_type": "stream",
     "text": [
      "1st sem avg 403.0\n",
      "2nd sem avg 393.0\n",
      "3rd sem avg 406.0\n"
     ]
    }
   ],
   "source": [
    "#lets see manually\n",
    "print('1st sem avg',np.ceil(hyp['Total_Marks'][hyp['Semester']==1].mean()))\n",
    "print('2nd sem avg',np.ceil(hyp['Total_Marks'][hyp['Semester']==2].mean()))\n",
    "print('3rd sem avg',np.ceil(hyp['Total_Marks'][hyp['Semester']==3].mean()))"
   ]
  },
  {
   "cell_type": "code",
   "execution_count": null,
   "id": "7f0c626f",
   "metadata": {},
   "outputs": [],
   "source": []
  },
  {
   "cell_type": "code",
   "execution_count": null,
   "id": "59c655d3",
   "metadata": {},
   "outputs": [],
   "source": []
  },
  {
   "cell_type": "code",
   "execution_count": null,
   "id": "c3eab514",
   "metadata": {},
   "outputs": [],
   "source": []
  },
  {
   "cell_type": "code",
   "execution_count": null,
   "id": "82717c98",
   "metadata": {},
   "outputs": [],
   "source": []
  },
  {
   "cell_type": "code",
   "execution_count": null,
   "id": "ae01db44",
   "metadata": {},
   "outputs": [],
   "source": []
  },
  {
   "cell_type": "code",
   "execution_count": null,
   "id": "f001d8b0",
   "metadata": {},
   "outputs": [],
   "source": []
  }
 ],
 "metadata": {
  "kernelspec": {
   "display_name": "Python 3 (ipykernel)",
   "language": "python",
   "name": "python3"
  },
  "language_info": {
   "codemirror_mode": {
    "name": "ipython",
    "version": 3
   },
   "file_extension": ".py",
   "mimetype": "text/x-python",
   "name": "python",
   "nbconvert_exporter": "python",
   "pygments_lexer": "ipython3",
   "version": "3.9.7"
  }
 },
 "nbformat": 4,
 "nbformat_minor": 5
}
