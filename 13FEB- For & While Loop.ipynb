{
 "cells": [
  {
   "cell_type": "code",
   "execution_count": 1,
   "id": "5504725a",
   "metadata": {},
   "outputs": [
    {
     "name": "stdout",
     "output_type": "stream",
     "text": [
      "Pass\n"
     ]
    }
   ],
   "source": [
    "marks = 48\n",
    "if marks > 60:\n",
    "    if marks >70:\n",
    "        print('Distinction')\n",
    "    else:\n",
    "        print('First class')\n",
    "elif marks >50 and marks <=60:\n",
    "    print('Second Class')\n",
    "elif marks >= 35:\n",
    "    print('Pass')\n",
    "else:\n",
    "    print('Fail - Better luck next time')"
   ]
  },
  {
   "cell_type": "code",
   "execution_count": 2,
   "id": "2d1e2814",
   "metadata": {},
   "outputs": [
    {
     "name": "stdout",
     "output_type": "stream",
     "text": [
      "its not 20\n"
     ]
    }
   ],
   "source": [
    "num1 = '20'\n",
    "num2 = 30\n",
    "if num1 =='20':\n",
    "    print('its not 20')\n",
    "elif num2 > 25:\n",
    "    print ('its greater than 25')"
   ]
  },
  {
   "cell_type": "code",
   "execution_count": 3,
   "id": "1069636a",
   "metadata": {},
   "outputs": [
    {
     "data": {
      "text/plain": [
       "['Ben', 'Noida', 'Chennai', 'Hyd', 'delhi']"
      ]
     },
     "execution_count": 3,
     "metadata": {},
     "output_type": "execute_result"
    }
   ],
   "source": [
    "location = ['Ben','Noida','Chennai','Hyd','delhi']\n",
    "location"
   ]
  },
  {
   "cell_type": "code",
   "execution_count": 4,
   "id": "d271ec45",
   "metadata": {},
   "outputs": [
    {
     "name": "stdout",
     "output_type": "stream",
     "text": [
      "Ben\n",
      "Noida\n",
      "Chennai\n",
      "Hyd\n",
      "delhi\n"
     ]
    }
   ],
   "source": [
    "for i in location:\n",
    "    print(i)"
   ]
  },
  {
   "cell_type": "code",
   "execution_count": 5,
   "id": "a1770493",
   "metadata": {},
   "outputs": [
    {
     "name": "stdout",
     "output_type": "stream",
     "text": [
      "7000\n",
      "8000\n"
     ]
    }
   ],
   "source": [
    "salary = [2000,4000,5000,7000,8000,4500,3800]\n",
    "for i in salary:\n",
    "    if i>5500:\n",
    "        print(i)"
   ]
  },
  {
   "cell_type": "code",
   "execution_count": 9,
   "id": "48da58ef",
   "metadata": {},
   "outputs": [
    {
     "name": "stdout",
     "output_type": "stream",
     "text": [
      "35 Pass\n",
      "67 First class\n",
      "78 Distinction\n",
      "79 Distinction\n",
      "12 Fail - Better luck next time\n",
      "34 Fail - Better luck next time\n",
      "67 First class\n",
      "54 Second Class\n",
      "89 Distinction\n"
     ]
    }
   ],
   "source": [
    "students_scores = [35,67,78,79,12,34,67,54,89]\n",
    "for marks in students_scores:\n",
    "    if marks > 60:\n",
    "        if marks >70:\n",
    "            print(marks,'Distinction')\n",
    "        else:\n",
    "            print(marks,'First class')\n",
    "    elif marks >50 and marks <=60:\n",
    "        print(marks,'Second Class')\n",
    "    elif marks >= 35:\n",
    "        print(marks,'Pass')\n",
    "    else:\n",
    "        print(marks,'Fail - Better luck next time')\n",
    "    "
   ]
  },
  {
   "cell_type": "code",
   "execution_count": 10,
   "id": "d1efaf2d",
   "metadata": {},
   "outputs": [
    {
     "data": {
      "text/plain": [
       "[2000, 4000, 5000, 7000, 8000, 4500, 3800]"
      ]
     },
     "execution_count": 10,
     "metadata": {},
     "output_type": "execute_result"
    }
   ],
   "source": [
    "salary"
   ]
  },
  {
   "cell_type": "code",
   "execution_count": 11,
   "id": "e6a2362b",
   "metadata": {},
   "outputs": [
    {
     "name": "stdout",
     "output_type": "stream",
     "text": [
      "7000\n",
      "8000\n"
     ]
    }
   ],
   "source": [
    "salary = [2000,4000,5000,7000,8000,4500,3800]\n",
    "for val in salary:\n",
    "    if val>5500:\n",
    "        print(val)"
   ]
  },
  {
   "cell_type": "code",
   "execution_count": 12,
   "id": "25fd2459",
   "metadata": {},
   "outputs": [
    {
     "data": {
      "text/plain": [
       "[7000, 8000]"
      ]
     },
     "execution_count": 12,
     "metadata": {},
     "output_type": "execute_result"
    }
   ],
   "source": [
    "#List Comprehension\n",
    "sal = [val for val  in salary if val >5500]\n",
    "sal"
   ]
  },
  {
   "cell_type": "code",
   "execution_count": 16,
   "id": "0dcef45a",
   "metadata": {},
   "outputs": [
    {
     "name": "stdout",
     "output_type": "stream",
     "text": [
      "income_till_date =  100\n",
      "income_till_date =  250\n",
      "income_till_date =  350\n",
      "income_till_date =  550\n",
      "income_till_date =  700\n",
      "income_till_date =  900\n",
      "income_till_date =  1200\n",
      "income_till_date =  1200\n"
     ]
    }
   ],
   "source": [
    "daily_sales = [100,150,100,200,150,200,300]\n",
    "income_till_date = 0\n",
    "for val in daily_sales:\n",
    "    income_till_date +=val\n",
    "    print('income_till_date = ',income_till_date) \n",
    "print('income_till_date = ',income_till_date)"
   ]
  },
  {
   "cell_type": "code",
   "execution_count": 17,
   "id": "bdf604fb",
   "metadata": {},
   "outputs": [
    {
     "name": "stdout",
     "output_type": "stream",
     "text": [
      "10\n",
      "20\n",
      "30\n",
      "No items left.\n"
     ]
    }
   ],
   "source": [
    "digits = [10,20,30]\n",
    "for i in digits:\n",
    "    print(i)\n",
    "else:\n",
    "    print('No items left.')"
   ]
  },
  {
   "cell_type": "code",
   "execution_count": 18,
   "id": "226d3315",
   "metadata": {},
   "outputs": [
    {
     "name": "stdout",
     "output_type": "stream",
     "text": [
      "yogesh\n",
      "yogesh\n",
      "yogesh\n",
      "yogesh\n",
      "yogesh\n",
      "yogesh\n",
      "yogesh\n",
      "yogesh\n",
      "yogesh\n",
      "yogesh\n",
      "yogesh\n",
      "yogesh\n"
     ]
    }
   ],
   "source": [
    "#While loop\n",
    "print('yogesh')\n",
    "print('yogesh')\n",
    "print('yogesh')\n",
    "print('yogesh')\n",
    "print('yogesh')\n",
    "print('yogesh')\n",
    "print('yogesh')\n",
    "print('yogesh')\n",
    "print('yogesh')\n",
    "print('yogesh')\n",
    "print('yogesh')\n",
    "print('yogesh')"
   ]
  },
  {
   "cell_type": "code",
   "execution_count": 19,
   "id": "344a6614",
   "metadata": {},
   "outputs": [
    {
     "name": "stdout",
     "output_type": "stream",
     "text": [
      "1 Yogesh\n",
      "2 Yogesh\n",
      "3 Yogesh\n",
      "4 Yogesh\n",
      "5 Yogesh\n",
      "6 Yogesh\n",
      "7 Yogesh\n",
      "8 Yogesh\n",
      "9 Yogesh\n",
      "10 Yogesh\n"
     ]
    }
   ],
   "source": [
    "#while loop\n",
    "i = 0\n",
    "while i < 10:\n",
    "    i=i+1\n",
    "    print(i,'Yogesh')"
   ]
  },
  {
   "cell_type": "code",
   "execution_count": 20,
   "id": "787dec75",
   "metadata": {},
   "outputs": [
    {
     "name": "stdout",
     "output_type": "stream",
     "text": [
      "(0, 'Yogesh')\n",
      "(1, 'Radhe')\n",
      "(2, 'Nikki')\n",
      "(3, 'Akshay')\n"
     ]
    }
   ],
   "source": [
    "#Enumerate\n",
    "students = ['Yogesh','Radhe','Nikki','Akshay']\n",
    "for name in enumerate(students):\n",
    "    print(name)"
   ]
  },
  {
   "cell_type": "code",
   "execution_count": 21,
   "id": "e97462d4",
   "metadata": {},
   "outputs": [
    {
     "name": "stdout",
     "output_type": "stream",
     "text": [
      "1 Yogesh\n",
      "2 Radhe\n",
      "3 Nikki\n",
      "4 Akshay\n"
     ]
    }
   ],
   "source": [
    "#to start the index from 1\n",
    "for i,name in enumerate(students,1):\n",
    "    print(i,name)"
   ]
  },
  {
   "cell_type": "code",
   "execution_count": 22,
   "id": "f67e6a80",
   "metadata": {},
   "outputs": [],
   "source": [
    "#ZIP\n",
    "students_names = ['Yogesh','Radhe','Nikki','Akshay']\n",
    "Students_marks = [53,22,55,88]\n",
    "\n"
   ]
  },
  {
   "cell_type": "code",
   "execution_count": 23,
   "id": "ff88d724",
   "metadata": {},
   "outputs": [],
   "source": [
    "students_details = list(zip(students_names,Students_marks))"
   ]
  },
  {
   "cell_type": "code",
   "execution_count": 24,
   "id": "c984eb60",
   "metadata": {},
   "outputs": [
    {
     "data": {
      "text/plain": [
       "[('Yogesh', 53), ('Radhe', 22), ('Nikki', 55), ('Akshay', 88)]"
      ]
     },
     "execution_count": 24,
     "metadata": {},
     "output_type": "execute_result"
    }
   ],
   "source": [
    "students_details\n"
   ]
  },
  {
   "cell_type": "code",
   "execution_count": 25,
   "id": "f79a4388",
   "metadata": {},
   "outputs": [],
   "source": [
    "students_name = ['Naveen','Ratha','Vivaan','Chintu','Chinnu','Yogesh']\n",
    "students_marks = [53,74,62,81,55,86]"
   ]
  },
  {
   "cell_type": "code",
   "execution_count": 26,
   "id": "bc903912",
   "metadata": {},
   "outputs": [],
   "source": [
    "students_details = list(zip(students_name,students_marks))"
   ]
  },
  {
   "cell_type": "code",
   "execution_count": 27,
   "id": "0160ccf6",
   "metadata": {},
   "outputs": [
    {
     "data": {
      "text/plain": [
       "[('Naveen', 53),\n",
       " ('Ratha', 74),\n",
       " ('Vivaan', 62),\n",
       " ('Chintu', 81),\n",
       " ('Chinnu', 55),\n",
       " ('Yogesh', 86)]"
      ]
     },
     "execution_count": 27,
     "metadata": {},
     "output_type": "execute_result"
    }
   ],
   "source": [
    "students_details"
   ]
  },
  {
   "cell_type": "code",
   "execution_count": 28,
   "id": "5bf1fa69",
   "metadata": {},
   "outputs": [],
   "source": [
    "name,marks_num =zip(*students_details)"
   ]
  },
  {
   "cell_type": "code",
   "execution_count": 29,
   "id": "e1cd1df9",
   "metadata": {},
   "outputs": [
    {
     "data": {
      "text/plain": [
       "('Naveen', 'Ratha', 'Vivaan', 'Chintu', 'Chinnu', 'Yogesh')"
      ]
     },
     "execution_count": 29,
     "metadata": {},
     "output_type": "execute_result"
    }
   ],
   "source": [
    "name"
   ]
  },
  {
   "cell_type": "code",
   "execution_count": 30,
   "id": "6383b4c7",
   "metadata": {},
   "outputs": [
    {
     "data": {
      "text/plain": [
       "(53, 74, 62, 81, 55, 86)"
      ]
     },
     "execution_count": 30,
     "metadata": {},
     "output_type": "execute_result"
    }
   ],
   "source": [
    "marks_num"
   ]
  },
  {
   "cell_type": "code",
   "execution_count": 31,
   "id": "b8e63276",
   "metadata": {},
   "outputs": [],
   "source": [
    "#Enumerate and zip\n",
    "students_name = ['Naveen','Ratha','Vivaan','Chintu','Chinnu','Yogesh']\n",
    "students_marks = [53,74,62,81,55,86]"
   ]
  },
  {
   "cell_type": "code",
   "execution_count": 32,
   "id": "701cc170",
   "metadata": {},
   "outputs": [
    {
     "name": "stdout",
     "output_type": "stream",
     "text": [
      "1 Naveen 53\n",
      "2 Ratha 74\n",
      "3 Vivaan 62\n",
      "4 Chintu 81\n",
      "5 Chinnu 55\n",
      "6 Yogesh 86\n"
     ]
    }
   ],
   "source": [
    "for i , (name , marks) in enumerate(zip(students_name,students_marks),1):\n",
    "    print(i,name , marks)"
   ]
  },
  {
   "cell_type": "code",
   "execution_count": 33,
   "id": "f7c6bb58",
   "metadata": {},
   "outputs": [
    {
     "name": "stdout",
     "output_type": "stream",
     "text": [
      "Ben\n",
      "Noida\n",
      "Chennai\n"
     ]
    }
   ],
   "source": [
    "#break and continue\n",
    "city = ['Ben','Noida','Chennai','Hyd','delhi']\n",
    "for val in city:\n",
    "    if val == 'Hyd':\n",
    "        break\n",
    "    print(val)"
   ]
  },
  {
   "cell_type": "code",
   "execution_count": 34,
   "id": "b31ff36f",
   "metadata": {},
   "outputs": [
    {
     "name": "stdout",
     "output_type": "stream",
     "text": [
      "Ben\n",
      "Noida\n",
      "Chennai\n",
      "delhi\n"
     ]
    }
   ],
   "source": [
    "city = ['Ben','Noida','Chennai','Hyd','delhi']\n",
    "for val in city:\n",
    "    if val== 'Hyd':\n",
    "        continue\n",
    "    print(val)"
   ]
  },
  {
   "cell_type": "code",
   "execution_count": 35,
   "id": "7cf006d2",
   "metadata": {},
   "outputs": [
    {
     "name": "stdout",
     "output_type": "stream",
     "text": [
      "[1, 2, 3, 4, 5, 6, 7, 8, 9]\n"
     ]
    }
   ],
   "source": [
    "#range\n",
    "print(list(range(1,10)))"
   ]
  },
  {
   "cell_type": "code",
   "execution_count": 36,
   "id": "de8e60e2",
   "metadata": {},
   "outputs": [
    {
     "name": "stdout",
     "output_type": "stream",
     "text": [
      "[0, 3, 6, 9, 12, 15, 18, 21, 24, 27]\n"
     ]
    }
   ],
   "source": [
    "print(list(range(0,30,3)))"
   ]
  },
  {
   "cell_type": "code",
   "execution_count": 37,
   "id": "d8789cc6",
   "metadata": {},
   "outputs": [
    {
     "data": {
      "text/plain": [
       "[1600,\n",
       " 1500,\n",
       " 1400,\n",
       " 1300,\n",
       " 1200,\n",
       " 1100,\n",
       " 1000,\n",
       " 900,\n",
       " 800,\n",
       " 700,\n",
       " 600,\n",
       " 500,\n",
       " 400,\n",
       " 300,\n",
       " 200]"
      ]
     },
     "execution_count": 37,
     "metadata": {},
     "output_type": "execute_result"
    }
   ],
   "source": [
    "reverse = list(range(1600,100,-100))\n",
    "reverse"
   ]
  },
  {
   "cell_type": "code",
   "execution_count": null,
   "id": "f258f3d2",
   "metadata": {},
   "outputs": [],
   "source": []
  }
 ],
 "metadata": {
  "kernelspec": {
   "display_name": "Python 3 (ipykernel)",
   "language": "python",
   "name": "python3"
  },
  "language_info": {
   "codemirror_mode": {
    "name": "ipython",
    "version": 3
   },
   "file_extension": ".py",
   "mimetype": "text/x-python",
   "name": "python",
   "nbconvert_exporter": "python",
   "pygments_lexer": "ipython3",
   "version": "3.9.7"
  }
 },
 "nbformat": 4,
 "nbformat_minor": 5
}
