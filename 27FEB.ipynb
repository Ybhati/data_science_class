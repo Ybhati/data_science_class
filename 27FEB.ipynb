{
 "cells": [
  {
   "cell_type": "code",
   "execution_count": 1,
   "id": "5e13654c",
   "metadata": {},
   "outputs": [],
   "source": [
    "import sqlite3\n",
    "db = sqlite3.connect(\"my_file.db\")"
   ]
  },
  {
   "cell_type": "code",
   "execution_count": 2,
   "id": "52094ce2",
   "metadata": {},
   "outputs": [],
   "source": [
    "#cursor (declare curser more like a pointer)\n",
    "cursor = db.cursor()"
   ]
  },
  {
   "cell_type": "code",
   "execution_count": 3,
   "id": "7a996a9e",
   "metadata": {},
   "outputs": [
    {
     "data": {
      "text/plain": [
       "<sqlite3.Cursor at 0x2a0702bc5e0>"
      ]
     },
     "execution_count": 3,
     "metadata": {},
     "output_type": "execute_result"
    }
   ],
   "source": [
    "cursor.execute(\"CREATE TABLE score1(gender TEXT, student_id INT PRIMARY KEY, marks INT)\")"
   ]
  },
  {
   "cell_type": "code",
   "execution_count": 4,
   "id": "e8419906",
   "metadata": {},
   "outputs": [
    {
     "name": "stdout",
     "output_type": "stream",
     "text": [
      "1 Record(s) inserted\n"
     ]
    }
   ],
   "source": [
    "#insert\n",
    "cursor.execute(\"INSERT INTO score1(gender, student_id, marks) values('Male', 100, 55)\")\n",
    "db.commit()\n",
    "print(cursor.rowcount,\"Record(s) inserted\")"
   ]
  },
  {
   "cell_type": "code",
   "execution_count": 5,
   "id": "ff3ba85b",
   "metadata": {},
   "outputs": [
    {
     "name": "stdout",
     "output_type": "stream",
     "text": [
      "1 Record(s) inserted\n"
     ]
    }
   ],
   "source": [
    "cursor.execute(\"INSERT INTO score1(gender, student_id, marks) values('Female', 101, 60)\")\n",
    "db.commit()\n",
    "print(cursor.rowcount,\"Record(s) inserted\")"
   ]
  },
  {
   "cell_type": "code",
   "execution_count": 6,
   "id": "83bafbf1",
   "metadata": {},
   "outputs": [
    {
     "name": "stdout",
     "output_type": "stream",
     "text": [
      "('Male', 100, 55)\n",
      "('Female', 101, 60)\n"
     ]
    }
   ],
   "source": [
    "#SELECT query\n",
    "results = cursor.execute(\"SELECT * FROM score1\")\n",
    "for row in results:\n",
    "    print(row)"
   ]
  },
  {
   "cell_type": "code",
   "execution_count": 7,
   "id": "7557f298",
   "metadata": {},
   "outputs": [],
   "source": [
    "cursor.execute(\"INSERT INTO score1(gender, student_id, marks) values('Female', 102, 68),('Female', 103, 60)\")\n",
    "db.commit()"
   ]
  },
  {
   "cell_type": "code",
   "execution_count": 8,
   "id": "320a8683",
   "metadata": {},
   "outputs": [
    {
     "name": "stdout",
     "output_type": "stream",
     "text": [
      "('Male', 100, 55)\n",
      "('Female', 101, 60)\n",
      "('Female', 102, 68)\n",
      "('Female', 103, 60)\n"
     ]
    }
   ],
   "source": [
    "results = cursor.execute(\"SELECT * FROM score1\")\n",
    "for row in results:\n",
    "    print(row)"
   ]
  },
  {
   "cell_type": "code",
   "execution_count": 9,
   "id": "e7bc51e9",
   "metadata": {},
   "outputs": [
    {
     "name": "stdout",
     "output_type": "stream",
     "text": [
      "(100, 'Male')\n",
      "(101, 'Female')\n",
      "(102, 'Female')\n",
      "(103, 'Female')\n"
     ]
    }
   ],
   "source": [
    "results = cursor.execute(\"SELECT student_id,gender FROM score1\")\n",
    "for row in results:\n",
    "    print(row)"
   ]
  },
  {
   "cell_type": "code",
   "execution_count": 10,
   "id": "9ae1f5af",
   "metadata": {},
   "outputs": [
    {
     "name": "stdout",
     "output_type": "stream",
     "text": [
      "18 Records Inserted\n"
     ]
    }
   ],
   "source": [
    "#inserting records from file (csv)\n",
    "with open(\"C:\\\\Users\\\\yoges\\\\OneDrive\\\\Documents\\\\Scores_file.csv\",'r') as file:\n",
    "    no_records = 0\n",
    "    for row in file:\n",
    "        cursor.execute(\"INSERT INTO score1 VALUES (?,?,?)\",row.split(\",\"))\n",
    "        db.commit()\n",
    "        no_records +=1\n",
    "print(no_records, 'Records Inserted')"
   ]
  },
  {
   "cell_type": "code",
   "execution_count": 11,
   "id": "3d371c8d",
   "metadata": {},
   "outputs": [
    {
     "name": "stdout",
     "output_type": "stream",
     "text": [
      "('Male', 100, 55)\n",
      "('Female', 101, 60)\n",
      "('Female', 102, 68)\n",
      "('Female', 103, 60)\n",
      "('Female', 85, 96)\n",
      "('Female', 105, 14)\n",
      "('Male', 106, 25)\n",
      "('Male', 107, 36)\n",
      "('Male', 108, 69)\n",
      "('Male', 109, 58)\n",
      "('Male', 110, 47)\n",
      "('Female', 111, 74)\n",
      "('Female', 112, 85)\n",
      "('Female', 113, 96)\n",
      "('Female', 114, 41)\n",
      "('Female', 115, 52)\n",
      "('Female', 116, 63)\n",
      "('Female', 117, 37)\n",
      "('Female', 118, 38)\n",
      "('Male', 119, 29)\n",
      "('Male', 120, 96)\n",
      "('Female', 121, 78)\n"
     ]
    }
   ],
   "source": [
    "results = cursor.execute(\"SELECT * FROM score1\")\n",
    "for row in results:\n",
    "    print(row)"
   ]
  },
  {
   "cell_type": "code",
   "execution_count": 12,
   "id": "a4819f81",
   "metadata": {},
   "outputs": [
    {
     "name": "stdout",
     "output_type": "stream",
     "text": [
      "('Female', 105, 14)\n"
     ]
    }
   ],
   "source": [
    "#WHERE CLAUSE \n",
    "sql = \"SELECT * FROM score1 WHERE student_id = 105\"\n",
    "result = cursor.execute(sql)\n",
    "for row in result:\n",
    "    print(row)"
   ]
  },
  {
   "cell_type": "code",
   "execution_count": null,
   "id": "9737ea56",
   "metadata": {},
   "outputs": [],
   "source": []
  }
 ],
 "metadata": {
  "kernelspec": {
   "display_name": "Python 3 (ipykernel)",
   "language": "python",
   "name": "python3"
  },
  "language_info": {
   "codemirror_mode": {
    "name": "ipython",
    "version": 3
   },
   "file_extension": ".py",
   "mimetype": "text/x-python",
   "name": "python",
   "nbconvert_exporter": "python",
   "pygments_lexer": "ipython3",
   "version": "3.9.7"
  }
 },
 "nbformat": 4,
 "nbformat_minor": 5
}
